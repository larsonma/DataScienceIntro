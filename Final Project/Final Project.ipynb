{
 "cells": [
  {
   "cell_type": "markdown",
   "metadata": {},
   "source": [
    "# Introduction"
   ]
  },
  {
   "cell_type": "markdown",
   "metadata": {},
   "source": [
    "For the final project of CE 4981, I will be using the Airbnb price prediction dataset. This dataset is avilable at https:www.kaggle.com/stevezhenghp/airbnb-price-prediction and can be downloaded as a plain csv file. This dataset provides an abundance of data attributes, with a large number of samples, which can help predict price, ratings, and much more. After cleaning up the data, the dataset will provide a good means of performing both supervised and unsupervised learning opportunities."
   ]
  },
  {
   "cell_type": "markdown",
   "metadata": {},
   "source": [
    "# Hypothesis"
   ]
  },
  {
   "cell_type": "markdown",
   "metadata": {},
   "source": [
    "<i>what problem(s) you are trying to solve, what questions are you trying to\n",
    "answer.</i>"
   ]
  },
  {
   "cell_type": "markdown",
   "metadata": {},
   "source": [
    "There are several hypothesis that can be drafted from the airbnb data. For this project, I am particularly interested in determining the sustance to three main hypothesis, with additional exploritory analysis to determine the validity of a few more smaller hypothesis.\n",
    "\n",
    "The first, and likely the most common hypothesis that I wish to test, is that the price of a particular airbnb can be accurately predicted using a subset of the enitre dataset. Of all the possible attributes, I predict that location, beds, number of ammenities, and the number of people that the airbnb can accomodate will have the largest impact on the pricing of an airbnb. Further, I hypothesize that including other attributes may actually weaken the ability of the attributes to accurately predict the price of an airbnb; rather, they are likley just contributing noise. This hypothesis can likely be explored using a form of supervised linear regression. If the data model is accurate, it could be a powerful tool for airbnb hosts in setting prices.\n",
    "\n",
    "Secondly, it's likely that groups of characteristics/attributes exist in which the pricing is similar. For example, houses in certain neighborhoods, with a certain amount of rooms, with the same type of housing category may be able to be grouped together in terms of pricing. This, again, could be a powerful tool for hosts to set prices, or for consumers to identify outliers in the cluster that the type of airbnb they are looking for belong (helping avoid overpriced airbnbs, or finding great deals).\n",
    "\n",
    "While these hypotheses are great for identifying high level macro-level relationships in the airbnb data, they are several other smaller relationships worth exploring. These details may reveal hidden details or secrets that make an unporportionately large difference in the price or quality of an airbnb. These smaller hypothesis can be summarized in the following list.\n",
    "\n",
    "* <strong>Geographical Data</strong> - I hypothesize that the geographical location of an airbnb (given by zipcode) has the highest, or close to the highest correlation to the price of an airbnb. Airbnbs in places such as California likely are much more expensive than Wisconsin, and a large portion of this is probably due to their location.\n",
    "\n",
    "* <strong>Price and Rating</strong> - I hypothesize that paying a higher price for an airbnb would correlate to a higher satisfaction rating (as given by the number of stars rated). I have a feeling that I may be suprised on this one though.\n",
    "\n",
    "* <strong>Host Qualities</strong> - I hypothesize that the more involved a host is in their airbnb, which can be derived by the length of the description and other host attributes, the higher the ratings will be on their airbnb. Similarly, the better a host is, the higher they are likely able to charge for their airbnb.\n",
    "\n",
    "* <strong>Amenities</strong> - I hypothesize that the number of amenities that an airbnb has likely has a strong, positive correlation with the price and ratings of the airbnb. My prediction is this my correlate to the price almost as strongly as the geographical location of the airbnb.\n",
    "\n",
    "* <strong>More if time permits...<strong>"
   ]
  },
  {
   "cell_type": "markdown",
   "metadata": {},
   "source": [
    "# Dataset"
   ]
  },
  {
   "cell_type": "markdown",
   "metadata": {},
   "source": [
    "<i>explanation of the dataset. This should include an explanation of why the\n",
    "dataset was created, who created it, and an explanation of features, target variables, etc. It\n",
    "is important to provide appropriate references.</i>"
   ]
  },
  {
   "attachments": {},
   "cell_type": "markdown",
   "metadata": {},
   "source": [
    "The dataset, which is shown in the next cell, consists of various attributes regarding airbnb. The target variable of this dataset its price, which is shown as a logarithm in the raw data. The dataset was downloaded from https://www.kaggle.com/stevezhenghp/airbnb-price-prediction, and the author, Steve Zheng provides several this dataset free of charge, but with very little explaination of the features. As a result, the meaning of the features are largely up to interpretation, but I have done my best in the list below to provide a brief explanation for each feature.\n",
    "* id - This field simply provides an identification number for each instance. This is likely not useful for any data exploration.\n",
    "* log_price - This is the log of the price for the particular airbnb.\n",
    "* property_type - this categorical field indicates the type of property that the airbnb is (such as a house, apartment, cave, etc.)\n",
    "* room_type - This field indicated whether the airbnb is the whole entire property, or just a subset.\n",
    "* Amenities - This field describes what amenities are included with the airbnb (such as TV, air conditioning, etc.)\n",
    "* accommodates - This field describes how many people can stay in the airbnb at a single time.\n",
    "* bathrooms - This field indicates how many bathrooms are in the airbnb. This can be a faction due to bathrooms which only have a toilet and not a shower/bathtub.\n",
    "* This field indicated whether the airbnb has a bed, or rather, has an alternative such as a futon.\n",
    "* cancellation_policy - This is a categorical attribute which indicates whether an airbnb host's cancellation policy is strict, moderate or flexible. Flexible options are often more attractive to renters.\n",
    "* cleaning_fee - This field indicates whether a cleaning fee is charged (True) or not (False)\n",
    "* city - This field contains a string representing the city that the airbnb is located in. This is represented by an acronym in some cases, and in others, it is the entire name of the city.\n",
    "* description - This is a field that described what the airbnb is like. This makes it easier for the buyer to get an idea how they will like the airbnb prior to purchase.\n",
    "* first_review - This field indicates the date of the airbnb's first review\n",
    "* host_has_profile_pic - This indicates whether or not a host has a profile picture for their account (t - yes, f - no)\n",
    "* host_identity_verified - This indicates whether or not a host's identify has been verified or not (t - yes, f - no)\n",
    "* host_response_rate - This field indicates how often a host responds to a potential buyers message.\n",
    "* host_since - This field is a date which indicates the day that the host became registered to host an airbnb.\n",
    "* instant_bookable - This indicates whether a airbnb can be booked without any waiting (t) or not (f).\n",
    "* last_review - This field indicates the most recent date that an airbnb was reviewed.\n",
    "* latitude - The latitude, in degrees, that the airbnb is located at.\n",
    "* longitude - The longitude, in degrees, that the airbnb is located at.\n",
    "* name - This is a string that represents the name of the airbnb. This is often the first impression of an airbnb for a customer.\n",
    "* neighbourhood - This is a string representation of the name of the neighbourhood that the airbnb is located at.\n",
    "* number_of_reviews - The total number of customers that have reviewed the airbnb. This field can be represented by an integer.\n",
    "* review_scores_rating - This field indicates the average of all the reviews for the airbnb. If there are no ratings for the airbnb, it is blank.\n",
    "* thumbnail_url - This field contains a hyperlink to an image of the airbnb being rented. This field is left blank if no thumbnail image exists.\n",
    "* zipcode - This field represents the zipcode that the airbnb is located at. The zipcodes are often represented in different formats for this dataset.\n",
    "* bedrooms - This is an integer value indicating how many bedrooms the airbnb has.\n",
    "* beds - This is an integer value indicating how many beds are available in the airbnb."
   ]
  },
  {
   "cell_type": "code",
   "execution_count": 1,
   "metadata": {},
   "outputs": [
    {
     "data": {
      "text/html": [
       "<div>\n",
       "<style scoped>\n",
       "    .dataframe tbody tr th:only-of-type {\n",
       "        vertical-align: middle;\n",
       "    }\n",
       "\n",
       "    .dataframe tbody tr th {\n",
       "        vertical-align: top;\n",
       "    }\n",
       "\n",
       "    .dataframe thead th {\n",
       "        text-align: right;\n",
       "    }\n",
       "</style>\n",
       "<table border=\"1\" class=\"dataframe\">\n",
       "  <thead>\n",
       "    <tr style=\"text-align: right;\">\n",
       "      <th></th>\n",
       "      <th>id</th>\n",
       "      <th>log_price</th>\n",
       "      <th>property_type</th>\n",
       "      <th>room_type</th>\n",
       "      <th>amenities</th>\n",
       "      <th>accommodates</th>\n",
       "      <th>bathrooms</th>\n",
       "      <th>bed_type</th>\n",
       "      <th>cancellation_policy</th>\n",
       "      <th>cleaning_fee</th>\n",
       "      <th>...</th>\n",
       "      <th>latitude</th>\n",
       "      <th>longitude</th>\n",
       "      <th>name</th>\n",
       "      <th>neighbourhood</th>\n",
       "      <th>number_of_reviews</th>\n",
       "      <th>review_scores_rating</th>\n",
       "      <th>thumbnail_url</th>\n",
       "      <th>zipcode</th>\n",
       "      <th>bedrooms</th>\n",
       "      <th>beds</th>\n",
       "    </tr>\n",
       "  </thead>\n",
       "  <tbody>\n",
       "    <tr>\n",
       "      <th>0</th>\n",
       "      <td>6901257</td>\n",
       "      <td>5.010635</td>\n",
       "      <td>Apartment</td>\n",
       "      <td>Entire home/apt</td>\n",
       "      <td>{\"Wireless Internet\",\"Air conditioning\",Kitche...</td>\n",
       "      <td>3</td>\n",
       "      <td>1.0</td>\n",
       "      <td>Real Bed</td>\n",
       "      <td>strict</td>\n",
       "      <td>True</td>\n",
       "      <td>...</td>\n",
       "      <td>40.696524</td>\n",
       "      <td>-73.991617</td>\n",
       "      <td>Beautiful brownstone 1-bedroom</td>\n",
       "      <td>Brooklyn Heights</td>\n",
       "      <td>2</td>\n",
       "      <td>100.0</td>\n",
       "      <td>https://a0.muscache.com/im/pictures/6d7cbbf7-c...</td>\n",
       "      <td>11201</td>\n",
       "      <td>1.0</td>\n",
       "      <td>1.0</td>\n",
       "    </tr>\n",
       "    <tr>\n",
       "      <th>1</th>\n",
       "      <td>6304928</td>\n",
       "      <td>5.129899</td>\n",
       "      <td>Apartment</td>\n",
       "      <td>Entire home/apt</td>\n",
       "      <td>{\"Wireless Internet\",\"Air conditioning\",Kitche...</td>\n",
       "      <td>7</td>\n",
       "      <td>1.0</td>\n",
       "      <td>Real Bed</td>\n",
       "      <td>strict</td>\n",
       "      <td>True</td>\n",
       "      <td>...</td>\n",
       "      <td>40.766115</td>\n",
       "      <td>-73.989040</td>\n",
       "      <td>Superb 3BR Apt Located Near Times Square</td>\n",
       "      <td>Hell's Kitchen</td>\n",
       "      <td>6</td>\n",
       "      <td>93.0</td>\n",
       "      <td>https://a0.muscache.com/im/pictures/348a55fe-4...</td>\n",
       "      <td>10019</td>\n",
       "      <td>3.0</td>\n",
       "      <td>3.0</td>\n",
       "    </tr>\n",
       "    <tr>\n",
       "      <th>2</th>\n",
       "      <td>7919400</td>\n",
       "      <td>4.976734</td>\n",
       "      <td>Apartment</td>\n",
       "      <td>Entire home/apt</td>\n",
       "      <td>{TV,\"Cable TV\",\"Wireless Internet\",\"Air condit...</td>\n",
       "      <td>5</td>\n",
       "      <td>1.0</td>\n",
       "      <td>Real Bed</td>\n",
       "      <td>moderate</td>\n",
       "      <td>True</td>\n",
       "      <td>...</td>\n",
       "      <td>40.808110</td>\n",
       "      <td>-73.943756</td>\n",
       "      <td>The Garden Oasis</td>\n",
       "      <td>Harlem</td>\n",
       "      <td>10</td>\n",
       "      <td>92.0</td>\n",
       "      <td>https://a0.muscache.com/im/pictures/6fae5362-9...</td>\n",
       "      <td>10027</td>\n",
       "      <td>1.0</td>\n",
       "      <td>3.0</td>\n",
       "    </tr>\n",
       "    <tr>\n",
       "      <th>3</th>\n",
       "      <td>13418779</td>\n",
       "      <td>6.620073</td>\n",
       "      <td>House</td>\n",
       "      <td>Entire home/apt</td>\n",
       "      <td>{TV,\"Cable TV\",Internet,\"Wireless Internet\",Ki...</td>\n",
       "      <td>4</td>\n",
       "      <td>1.0</td>\n",
       "      <td>Real Bed</td>\n",
       "      <td>flexible</td>\n",
       "      <td>True</td>\n",
       "      <td>...</td>\n",
       "      <td>37.772004</td>\n",
       "      <td>-122.431619</td>\n",
       "      <td>Beautiful Flat in the Heart of SF!</td>\n",
       "      <td>Lower Haight</td>\n",
       "      <td>0</td>\n",
       "      <td>NaN</td>\n",
       "      <td>https://a0.muscache.com/im/pictures/72208dad-9...</td>\n",
       "      <td>94117.0</td>\n",
       "      <td>2.0</td>\n",
       "      <td>2.0</td>\n",
       "    </tr>\n",
       "    <tr>\n",
       "      <th>4</th>\n",
       "      <td>3808709</td>\n",
       "      <td>4.744932</td>\n",
       "      <td>Apartment</td>\n",
       "      <td>Entire home/apt</td>\n",
       "      <td>{TV,Internet,\"Wireless Internet\",\"Air conditio...</td>\n",
       "      <td>2</td>\n",
       "      <td>1.0</td>\n",
       "      <td>Real Bed</td>\n",
       "      <td>moderate</td>\n",
       "      <td>True</td>\n",
       "      <td>...</td>\n",
       "      <td>38.925627</td>\n",
       "      <td>-77.034596</td>\n",
       "      <td>Great studio in midtown DC</td>\n",
       "      <td>Columbia Heights</td>\n",
       "      <td>4</td>\n",
       "      <td>40.0</td>\n",
       "      <td>NaN</td>\n",
       "      <td>20009</td>\n",
       "      <td>0.0</td>\n",
       "      <td>1.0</td>\n",
       "    </tr>\n",
       "    <tr>\n",
       "      <th>5</th>\n",
       "      <td>12422935</td>\n",
       "      <td>4.442651</td>\n",
       "      <td>Apartment</td>\n",
       "      <td>Private room</td>\n",
       "      <td>{TV,\"Wireless Internet\",Heating,\"Smoke detecto...</td>\n",
       "      <td>2</td>\n",
       "      <td>1.0</td>\n",
       "      <td>Real Bed</td>\n",
       "      <td>strict</td>\n",
       "      <td>True</td>\n",
       "      <td>...</td>\n",
       "      <td>37.753164</td>\n",
       "      <td>-122.429526</td>\n",
       "      <td>Comfort Suite San Francisco</td>\n",
       "      <td>Noe Valley</td>\n",
       "      <td>3</td>\n",
       "      <td>100.0</td>\n",
       "      <td>https://a0.muscache.com/im/pictures/82509143-4...</td>\n",
       "      <td>94131</td>\n",
       "      <td>1.0</td>\n",
       "      <td>1.0</td>\n",
       "    </tr>\n",
       "    <tr>\n",
       "      <th>6</th>\n",
       "      <td>11825529</td>\n",
       "      <td>4.418841</td>\n",
       "      <td>Apartment</td>\n",
       "      <td>Entire home/apt</td>\n",
       "      <td>{TV,Internet,\"Wireless Internet\",\"Air conditio...</td>\n",
       "      <td>3</td>\n",
       "      <td>1.0</td>\n",
       "      <td>Real Bed</td>\n",
       "      <td>moderate</td>\n",
       "      <td>True</td>\n",
       "      <td>...</td>\n",
       "      <td>33.980454</td>\n",
       "      <td>-118.462821</td>\n",
       "      <td>Beach Town Studio and Parking!!!11h</td>\n",
       "      <td>NaN</td>\n",
       "      <td>15</td>\n",
       "      <td>97.0</td>\n",
       "      <td>https://a0.muscache.com/im/pictures/4c920c60-4...</td>\n",
       "      <td>90292</td>\n",
       "      <td>1.0</td>\n",
       "      <td>1.0</td>\n",
       "    </tr>\n",
       "    <tr>\n",
       "      <th>7</th>\n",
       "      <td>13971273</td>\n",
       "      <td>4.787492</td>\n",
       "      <td>Condominium</td>\n",
       "      <td>Entire home/apt</td>\n",
       "      <td>{TV,\"Cable TV\",\"Wireless Internet\",\"Wheelchair...</td>\n",
       "      <td>2</td>\n",
       "      <td>1.0</td>\n",
       "      <td>Real Bed</td>\n",
       "      <td>moderate</td>\n",
       "      <td>True</td>\n",
       "      <td>...</td>\n",
       "      <td>34.046737</td>\n",
       "      <td>-118.260439</td>\n",
       "      <td>Near LA Live, Staple's. Starbucks inside. OWN ...</td>\n",
       "      <td>Downtown</td>\n",
       "      <td>9</td>\n",
       "      <td>93.0</td>\n",
       "      <td>https://a0.muscache.com/im/pictures/61bd05d5-c...</td>\n",
       "      <td>90015</td>\n",
       "      <td>1.0</td>\n",
       "      <td>1.0</td>\n",
       "    </tr>\n",
       "    <tr>\n",
       "      <th>8</th>\n",
       "      <td>180792</td>\n",
       "      <td>4.787492</td>\n",
       "      <td>House</td>\n",
       "      <td>Private room</td>\n",
       "      <td>{TV,\"Cable TV\",\"Wireless Internet\",\"Pets live ...</td>\n",
       "      <td>2</td>\n",
       "      <td>1.0</td>\n",
       "      <td>Real Bed</td>\n",
       "      <td>moderate</td>\n",
       "      <td>True</td>\n",
       "      <td>...</td>\n",
       "      <td>37.781128</td>\n",
       "      <td>-122.501095</td>\n",
       "      <td>Cozy Garden Studio - Private Entry</td>\n",
       "      <td>Richmond District</td>\n",
       "      <td>159</td>\n",
       "      <td>99.0</td>\n",
       "      <td>https://a0.muscache.com/im/pictures/0ed6c128-7...</td>\n",
       "      <td>94121</td>\n",
       "      <td>1.0</td>\n",
       "      <td>1.0</td>\n",
       "    </tr>\n",
       "    <tr>\n",
       "      <th>9</th>\n",
       "      <td>5385260</td>\n",
       "      <td>3.583519</td>\n",
       "      <td>House</td>\n",
       "      <td>Private room</td>\n",
       "      <td>{\"Wireless Internet\",\"Air conditioning\",Kitche...</td>\n",
       "      <td>2</td>\n",
       "      <td>1.0</td>\n",
       "      <td>Real Bed</td>\n",
       "      <td>moderate</td>\n",
       "      <td>True</td>\n",
       "      <td>...</td>\n",
       "      <td>33.992563</td>\n",
       "      <td>-117.895997</td>\n",
       "      <td>No.7 Queen Size Cozy Room 舒适大床房</td>\n",
       "      <td>NaN</td>\n",
       "      <td>2</td>\n",
       "      <td>90.0</td>\n",
       "      <td>https://a0.muscache.com/im/pictures/8d2f08ce-b...</td>\n",
       "      <td>91748</td>\n",
       "      <td>1.0</td>\n",
       "      <td>1.0</td>\n",
       "    </tr>\n",
       "  </tbody>\n",
       "</table>\n",
       "<p>10 rows × 29 columns</p>\n",
       "</div>"
      ],
      "text/plain": [
       "         id  log_price property_type        room_type  \\\n",
       "0   6901257   5.010635     Apartment  Entire home/apt   \n",
       "1   6304928   5.129899     Apartment  Entire home/apt   \n",
       "2   7919400   4.976734     Apartment  Entire home/apt   \n",
       "3  13418779   6.620073         House  Entire home/apt   \n",
       "4   3808709   4.744932     Apartment  Entire home/apt   \n",
       "5  12422935   4.442651     Apartment     Private room   \n",
       "6  11825529   4.418841     Apartment  Entire home/apt   \n",
       "7  13971273   4.787492   Condominium  Entire home/apt   \n",
       "8    180792   4.787492         House     Private room   \n",
       "9   5385260   3.583519         House     Private room   \n",
       "\n",
       "                                           amenities  accommodates  bathrooms  \\\n",
       "0  {\"Wireless Internet\",\"Air conditioning\",Kitche...             3        1.0   \n",
       "1  {\"Wireless Internet\",\"Air conditioning\",Kitche...             7        1.0   \n",
       "2  {TV,\"Cable TV\",\"Wireless Internet\",\"Air condit...             5        1.0   \n",
       "3  {TV,\"Cable TV\",Internet,\"Wireless Internet\",Ki...             4        1.0   \n",
       "4  {TV,Internet,\"Wireless Internet\",\"Air conditio...             2        1.0   \n",
       "5  {TV,\"Wireless Internet\",Heating,\"Smoke detecto...             2        1.0   \n",
       "6  {TV,Internet,\"Wireless Internet\",\"Air conditio...             3        1.0   \n",
       "7  {TV,\"Cable TV\",\"Wireless Internet\",\"Wheelchair...             2        1.0   \n",
       "8  {TV,\"Cable TV\",\"Wireless Internet\",\"Pets live ...             2        1.0   \n",
       "9  {\"Wireless Internet\",\"Air conditioning\",Kitche...             2        1.0   \n",
       "\n",
       "   bed_type cancellation_policy  cleaning_fee  ...    latitude   longitude  \\\n",
       "0  Real Bed              strict          True  ...   40.696524  -73.991617   \n",
       "1  Real Bed              strict          True  ...   40.766115  -73.989040   \n",
       "2  Real Bed            moderate          True  ...   40.808110  -73.943756   \n",
       "3  Real Bed            flexible          True  ...   37.772004 -122.431619   \n",
       "4  Real Bed            moderate          True  ...   38.925627  -77.034596   \n",
       "5  Real Bed              strict          True  ...   37.753164 -122.429526   \n",
       "6  Real Bed            moderate          True  ...   33.980454 -118.462821   \n",
       "7  Real Bed            moderate          True  ...   34.046737 -118.260439   \n",
       "8  Real Bed            moderate          True  ...   37.781128 -122.501095   \n",
       "9  Real Bed            moderate          True  ...   33.992563 -117.895997   \n",
       "\n",
       "                                                name      neighbourhood  \\\n",
       "0                     Beautiful brownstone 1-bedroom   Brooklyn Heights   \n",
       "1           Superb 3BR Apt Located Near Times Square     Hell's Kitchen   \n",
       "2                                   The Garden Oasis             Harlem   \n",
       "3                 Beautiful Flat in the Heart of SF!       Lower Haight   \n",
       "4                         Great studio in midtown DC   Columbia Heights   \n",
       "5                        Comfort Suite San Francisco         Noe Valley   \n",
       "6                Beach Town Studio and Parking!!!11h                NaN   \n",
       "7  Near LA Live, Staple's. Starbucks inside. OWN ...           Downtown   \n",
       "8                 Cozy Garden Studio - Private Entry  Richmond District   \n",
       "9                    No.7 Queen Size Cozy Room 舒适大床房                NaN   \n",
       "\n",
       "  number_of_reviews review_scores_rating  \\\n",
       "0                 2                100.0   \n",
       "1                 6                 93.0   \n",
       "2                10                 92.0   \n",
       "3                 0                  NaN   \n",
       "4                 4                 40.0   \n",
       "5                 3                100.0   \n",
       "6                15                 97.0   \n",
       "7                 9                 93.0   \n",
       "8               159                 99.0   \n",
       "9                 2                 90.0   \n",
       "\n",
       "                                       thumbnail_url  zipcode bedrooms  beds  \n",
       "0  https://a0.muscache.com/im/pictures/6d7cbbf7-c...    11201      1.0   1.0  \n",
       "1  https://a0.muscache.com/im/pictures/348a55fe-4...    10019      3.0   3.0  \n",
       "2  https://a0.muscache.com/im/pictures/6fae5362-9...    10027      1.0   3.0  \n",
       "3  https://a0.muscache.com/im/pictures/72208dad-9...  94117.0      2.0   2.0  \n",
       "4                                                NaN    20009      0.0   1.0  \n",
       "5  https://a0.muscache.com/im/pictures/82509143-4...    94131      1.0   1.0  \n",
       "6  https://a0.muscache.com/im/pictures/4c920c60-4...    90292      1.0   1.0  \n",
       "7  https://a0.muscache.com/im/pictures/61bd05d5-c...    90015      1.0   1.0  \n",
       "8  https://a0.muscache.com/im/pictures/0ed6c128-7...    94121      1.0   1.0  \n",
       "9  https://a0.muscache.com/im/pictures/8d2f08ce-b...    91748      1.0   1.0  \n",
       "\n",
       "[10 rows x 29 columns]"
      ]
     },
     "execution_count": 1,
     "metadata": {},
     "output_type": "execute_result"
    }
   ],
   "source": [
    "import pandas as pd\n",
    "import numpy as np\n",
    "\n",
    "raw_data = pd.read_csv('./data/train.csv')\n",
    "raw_data.head(n=10)"
   ]
  },
  {
   "cell_type": "code",
   "execution_count": 2,
   "metadata": {},
   "outputs": [
    {
     "data": {
      "text/html": [
       "<div>\n",
       "<style scoped>\n",
       "    .dataframe tbody tr th:only-of-type {\n",
       "        vertical-align: middle;\n",
       "    }\n",
       "\n",
       "    .dataframe tbody tr th {\n",
       "        vertical-align: top;\n",
       "    }\n",
       "\n",
       "    .dataframe thead th {\n",
       "        text-align: right;\n",
       "    }\n",
       "</style>\n",
       "<table border=\"1\" class=\"dataframe\">\n",
       "  <thead>\n",
       "    <tr style=\"text-align: right;\">\n",
       "      <th></th>\n",
       "      <th>id</th>\n",
       "      <th>log_price</th>\n",
       "      <th>accommodates</th>\n",
       "      <th>bathrooms</th>\n",
       "      <th>latitude</th>\n",
       "      <th>longitude</th>\n",
       "      <th>number_of_reviews</th>\n",
       "      <th>review_scores_rating</th>\n",
       "      <th>bedrooms</th>\n",
       "      <th>beds</th>\n",
       "    </tr>\n",
       "  </thead>\n",
       "  <tbody>\n",
       "    <tr>\n",
       "      <th>count</th>\n",
       "      <td>7.411100e+04</td>\n",
       "      <td>74111.000000</td>\n",
       "      <td>74111.000000</td>\n",
       "      <td>73911.000000</td>\n",
       "      <td>74111.000000</td>\n",
       "      <td>74111.000000</td>\n",
       "      <td>74111.000000</td>\n",
       "      <td>57389.000000</td>\n",
       "      <td>74020.000000</td>\n",
       "      <td>73980.000000</td>\n",
       "    </tr>\n",
       "    <tr>\n",
       "      <th>mean</th>\n",
       "      <td>1.126662e+07</td>\n",
       "      <td>4.782069</td>\n",
       "      <td>3.155146</td>\n",
       "      <td>1.235263</td>\n",
       "      <td>38.445958</td>\n",
       "      <td>-92.397525</td>\n",
       "      <td>20.900568</td>\n",
       "      <td>94.067365</td>\n",
       "      <td>1.265793</td>\n",
       "      <td>1.710868</td>\n",
       "    </tr>\n",
       "    <tr>\n",
       "      <th>std</th>\n",
       "      <td>6.081735e+06</td>\n",
       "      <td>0.717394</td>\n",
       "      <td>2.153589</td>\n",
       "      <td>0.582044</td>\n",
       "      <td>3.080167</td>\n",
       "      <td>21.705322</td>\n",
       "      <td>37.828641</td>\n",
       "      <td>7.836556</td>\n",
       "      <td>0.852143</td>\n",
       "      <td>1.254142</td>\n",
       "    </tr>\n",
       "    <tr>\n",
       "      <th>min</th>\n",
       "      <td>3.440000e+02</td>\n",
       "      <td>0.000000</td>\n",
       "      <td>1.000000</td>\n",
       "      <td>0.000000</td>\n",
       "      <td>33.338905</td>\n",
       "      <td>-122.511500</td>\n",
       "      <td>0.000000</td>\n",
       "      <td>20.000000</td>\n",
       "      <td>0.000000</td>\n",
       "      <td>0.000000</td>\n",
       "    </tr>\n",
       "    <tr>\n",
       "      <th>25%</th>\n",
       "      <td>6.261964e+06</td>\n",
       "      <td>4.317488</td>\n",
       "      <td>2.000000</td>\n",
       "      <td>1.000000</td>\n",
       "      <td>34.127908</td>\n",
       "      <td>-118.342374</td>\n",
       "      <td>1.000000</td>\n",
       "      <td>92.000000</td>\n",
       "      <td>1.000000</td>\n",
       "      <td>1.000000</td>\n",
       "    </tr>\n",
       "    <tr>\n",
       "      <th>50%</th>\n",
       "      <td>1.225415e+07</td>\n",
       "      <td>4.709530</td>\n",
       "      <td>2.000000</td>\n",
       "      <td>1.000000</td>\n",
       "      <td>40.662138</td>\n",
       "      <td>-76.996965</td>\n",
       "      <td>6.000000</td>\n",
       "      <td>96.000000</td>\n",
       "      <td>1.000000</td>\n",
       "      <td>1.000000</td>\n",
       "    </tr>\n",
       "    <tr>\n",
       "      <th>75%</th>\n",
       "      <td>1.640226e+07</td>\n",
       "      <td>5.220356</td>\n",
       "      <td>4.000000</td>\n",
       "      <td>1.000000</td>\n",
       "      <td>40.746096</td>\n",
       "      <td>-73.954660</td>\n",
       "      <td>23.000000</td>\n",
       "      <td>100.000000</td>\n",
       "      <td>1.000000</td>\n",
       "      <td>2.000000</td>\n",
       "    </tr>\n",
       "    <tr>\n",
       "      <th>max</th>\n",
       "      <td>2.123090e+07</td>\n",
       "      <td>7.600402</td>\n",
       "      <td>16.000000</td>\n",
       "      <td>8.000000</td>\n",
       "      <td>42.390437</td>\n",
       "      <td>-70.985047</td>\n",
       "      <td>605.000000</td>\n",
       "      <td>100.000000</td>\n",
       "      <td>10.000000</td>\n",
       "      <td>18.000000</td>\n",
       "    </tr>\n",
       "  </tbody>\n",
       "</table>\n",
       "</div>"
      ],
      "text/plain": [
       "                 id     log_price  accommodates     bathrooms      latitude  \\\n",
       "count  7.411100e+04  74111.000000  74111.000000  73911.000000  74111.000000   \n",
       "mean   1.126662e+07      4.782069      3.155146      1.235263     38.445958   \n",
       "std    6.081735e+06      0.717394      2.153589      0.582044      3.080167   \n",
       "min    3.440000e+02      0.000000      1.000000      0.000000     33.338905   \n",
       "25%    6.261964e+06      4.317488      2.000000      1.000000     34.127908   \n",
       "50%    1.225415e+07      4.709530      2.000000      1.000000     40.662138   \n",
       "75%    1.640226e+07      5.220356      4.000000      1.000000     40.746096   \n",
       "max    2.123090e+07      7.600402     16.000000      8.000000     42.390437   \n",
       "\n",
       "          longitude  number_of_reviews  review_scores_rating      bedrooms  \\\n",
       "count  74111.000000       74111.000000          57389.000000  74020.000000   \n",
       "mean     -92.397525          20.900568             94.067365      1.265793   \n",
       "std       21.705322          37.828641              7.836556      0.852143   \n",
       "min     -122.511500           0.000000             20.000000      0.000000   \n",
       "25%     -118.342374           1.000000             92.000000      1.000000   \n",
       "50%      -76.996965           6.000000             96.000000      1.000000   \n",
       "75%      -73.954660          23.000000            100.000000      1.000000   \n",
       "max      -70.985047         605.000000            100.000000     10.000000   \n",
       "\n",
       "               beds  \n",
       "count  73980.000000  \n",
       "mean       1.710868  \n",
       "std        1.254142  \n",
       "min        0.000000  \n",
       "25%        1.000000  \n",
       "50%        1.000000  \n",
       "75%        2.000000  \n",
       "max       18.000000  "
      ]
     },
     "execution_count": 2,
     "metadata": {},
     "output_type": "execute_result"
    }
   ],
   "source": [
    "raw_data.describe()"
   ]
  },
  {
   "cell_type": "markdown",
   "metadata": {},
   "source": [
    "# Data Preprocessing"
   ]
  },
  {
   "cell_type": "markdown",
   "metadata": {},
   "source": [
    "<i>identification of required features, proper handling of missing\n",
    "values (removal, imputation, etc.), and supporting documentation for your decisions such\n",
    "as the number of missing values relative to the size of the dataset.</i>"
   ]
  },
  {
   "cell_type": "markdown",
   "metadata": {},
   "source": [
    "## Attribute Reduction"
   ]
  },
  {
   "cell_type": "markdown",
   "metadata": {},
   "source": [
    "There are a few data attributes that will not be needed in the analysis of the data, so a new table will be constructed with copies of the attributes that will be helpful for data analysis."
   ]
  },
  {
   "cell_type": "code",
   "execution_count": 3,
   "metadata": {},
   "outputs": [
    {
     "data": {
      "text/html": [
       "<div>\n",
       "<style scoped>\n",
       "    .dataframe tbody tr th:only-of-type {\n",
       "        vertical-align: middle;\n",
       "    }\n",
       "\n",
       "    .dataframe tbody tr th {\n",
       "        vertical-align: top;\n",
       "    }\n",
       "\n",
       "    .dataframe thead th {\n",
       "        text-align: right;\n",
       "    }\n",
       "</style>\n",
       "<table border=\"1\" class=\"dataframe\">\n",
       "  <thead>\n",
       "    <tr style=\"text-align: right;\">\n",
       "      <th></th>\n",
       "      <th>log_price</th>\n",
       "      <th>property_type</th>\n",
       "      <th>room_type</th>\n",
       "      <th>amenities</th>\n",
       "      <th>accommodates</th>\n",
       "      <th>bathrooms</th>\n",
       "      <th>bed_type</th>\n",
       "      <th>cancellation_policy</th>\n",
       "      <th>cleaning_fee</th>\n",
       "      <th>city</th>\n",
       "      <th>...</th>\n",
       "      <th>host_since</th>\n",
       "      <th>instant_bookable</th>\n",
       "      <th>latitude</th>\n",
       "      <th>longitude</th>\n",
       "      <th>number_of_reviews</th>\n",
       "      <th>review_scores_rating</th>\n",
       "      <th>thumbnail_url</th>\n",
       "      <th>zipcode</th>\n",
       "      <th>bedrooms</th>\n",
       "      <th>beds</th>\n",
       "    </tr>\n",
       "  </thead>\n",
       "  <tbody>\n",
       "    <tr>\n",
       "      <th>0</th>\n",
       "      <td>5.010635</td>\n",
       "      <td>Apartment</td>\n",
       "      <td>Entire home/apt</td>\n",
       "      <td>{\"Wireless Internet\",\"Air conditioning\",Kitche...</td>\n",
       "      <td>3</td>\n",
       "      <td>1.0</td>\n",
       "      <td>Real Bed</td>\n",
       "      <td>strict</td>\n",
       "      <td>True</td>\n",
       "      <td>NYC</td>\n",
       "      <td>...</td>\n",
       "      <td>2012-03-26</td>\n",
       "      <td>f</td>\n",
       "      <td>40.696524</td>\n",
       "      <td>-73.991617</td>\n",
       "      <td>2</td>\n",
       "      <td>100.0</td>\n",
       "      <td>https://a0.muscache.com/im/pictures/6d7cbbf7-c...</td>\n",
       "      <td>11201</td>\n",
       "      <td>1.0</td>\n",
       "      <td>1.0</td>\n",
       "    </tr>\n",
       "    <tr>\n",
       "      <th>1</th>\n",
       "      <td>5.129899</td>\n",
       "      <td>Apartment</td>\n",
       "      <td>Entire home/apt</td>\n",
       "      <td>{\"Wireless Internet\",\"Air conditioning\",Kitche...</td>\n",
       "      <td>7</td>\n",
       "      <td>1.0</td>\n",
       "      <td>Real Bed</td>\n",
       "      <td>strict</td>\n",
       "      <td>True</td>\n",
       "      <td>NYC</td>\n",
       "      <td>...</td>\n",
       "      <td>2017-06-19</td>\n",
       "      <td>t</td>\n",
       "      <td>40.766115</td>\n",
       "      <td>-73.989040</td>\n",
       "      <td>6</td>\n",
       "      <td>93.0</td>\n",
       "      <td>https://a0.muscache.com/im/pictures/348a55fe-4...</td>\n",
       "      <td>10019</td>\n",
       "      <td>3.0</td>\n",
       "      <td>3.0</td>\n",
       "    </tr>\n",
       "    <tr>\n",
       "      <th>2</th>\n",
       "      <td>4.976734</td>\n",
       "      <td>Apartment</td>\n",
       "      <td>Entire home/apt</td>\n",
       "      <td>{TV,\"Cable TV\",\"Wireless Internet\",\"Air condit...</td>\n",
       "      <td>5</td>\n",
       "      <td>1.0</td>\n",
       "      <td>Real Bed</td>\n",
       "      <td>moderate</td>\n",
       "      <td>True</td>\n",
       "      <td>NYC</td>\n",
       "      <td>...</td>\n",
       "      <td>2016-10-25</td>\n",
       "      <td>t</td>\n",
       "      <td>40.808110</td>\n",
       "      <td>-73.943756</td>\n",
       "      <td>10</td>\n",
       "      <td>92.0</td>\n",
       "      <td>https://a0.muscache.com/im/pictures/6fae5362-9...</td>\n",
       "      <td>10027</td>\n",
       "      <td>1.0</td>\n",
       "      <td>3.0</td>\n",
       "    </tr>\n",
       "    <tr>\n",
       "      <th>3</th>\n",
       "      <td>6.620073</td>\n",
       "      <td>House</td>\n",
       "      <td>Entire home/apt</td>\n",
       "      <td>{TV,\"Cable TV\",Internet,\"Wireless Internet\",Ki...</td>\n",
       "      <td>4</td>\n",
       "      <td>1.0</td>\n",
       "      <td>Real Bed</td>\n",
       "      <td>flexible</td>\n",
       "      <td>True</td>\n",
       "      <td>SF</td>\n",
       "      <td>...</td>\n",
       "      <td>2015-04-19</td>\n",
       "      <td>f</td>\n",
       "      <td>37.772004</td>\n",
       "      <td>-122.431619</td>\n",
       "      <td>0</td>\n",
       "      <td>NaN</td>\n",
       "      <td>https://a0.muscache.com/im/pictures/72208dad-9...</td>\n",
       "      <td>94117.0</td>\n",
       "      <td>2.0</td>\n",
       "      <td>2.0</td>\n",
       "    </tr>\n",
       "    <tr>\n",
       "      <th>4</th>\n",
       "      <td>4.744932</td>\n",
       "      <td>Apartment</td>\n",
       "      <td>Entire home/apt</td>\n",
       "      <td>{TV,Internet,\"Wireless Internet\",\"Air conditio...</td>\n",
       "      <td>2</td>\n",
       "      <td>1.0</td>\n",
       "      <td>Real Bed</td>\n",
       "      <td>moderate</td>\n",
       "      <td>True</td>\n",
       "      <td>DC</td>\n",
       "      <td>...</td>\n",
       "      <td>2015-03-01</td>\n",
       "      <td>t</td>\n",
       "      <td>38.925627</td>\n",
       "      <td>-77.034596</td>\n",
       "      <td>4</td>\n",
       "      <td>40.0</td>\n",
       "      <td>NaN</td>\n",
       "      <td>20009</td>\n",
       "      <td>0.0</td>\n",
       "      <td>1.0</td>\n",
       "    </tr>\n",
       "  </tbody>\n",
       "</table>\n",
       "<p>5 rows × 24 columns</p>\n",
       "</div>"
      ],
      "text/plain": [
       "   log_price property_type        room_type  \\\n",
       "0   5.010635     Apartment  Entire home/apt   \n",
       "1   5.129899     Apartment  Entire home/apt   \n",
       "2   4.976734     Apartment  Entire home/apt   \n",
       "3   6.620073         House  Entire home/apt   \n",
       "4   4.744932     Apartment  Entire home/apt   \n",
       "\n",
       "                                           amenities  accommodates  bathrooms  \\\n",
       "0  {\"Wireless Internet\",\"Air conditioning\",Kitche...             3        1.0   \n",
       "1  {\"Wireless Internet\",\"Air conditioning\",Kitche...             7        1.0   \n",
       "2  {TV,\"Cable TV\",\"Wireless Internet\",\"Air condit...             5        1.0   \n",
       "3  {TV,\"Cable TV\",Internet,\"Wireless Internet\",Ki...             4        1.0   \n",
       "4  {TV,Internet,\"Wireless Internet\",\"Air conditio...             2        1.0   \n",
       "\n",
       "   bed_type cancellation_policy  cleaning_fee city  ...   host_since  \\\n",
       "0  Real Bed              strict          True  NYC  ...   2012-03-26   \n",
       "1  Real Bed              strict          True  NYC  ...   2017-06-19   \n",
       "2  Real Bed            moderate          True  NYC  ...   2016-10-25   \n",
       "3  Real Bed            flexible          True   SF  ...   2015-04-19   \n",
       "4  Real Bed            moderate          True   DC  ...   2015-03-01   \n",
       "\n",
       "  instant_bookable   latitude   longitude number_of_reviews  \\\n",
       "0                f  40.696524  -73.991617                 2   \n",
       "1                t  40.766115  -73.989040                 6   \n",
       "2                t  40.808110  -73.943756                10   \n",
       "3                f  37.772004 -122.431619                 0   \n",
       "4                t  38.925627  -77.034596                 4   \n",
       "\n",
       "  review_scores_rating                                      thumbnail_url  \\\n",
       "0                100.0  https://a0.muscache.com/im/pictures/6d7cbbf7-c...   \n",
       "1                 93.0  https://a0.muscache.com/im/pictures/348a55fe-4...   \n",
       "2                 92.0  https://a0.muscache.com/im/pictures/6fae5362-9...   \n",
       "3                  NaN  https://a0.muscache.com/im/pictures/72208dad-9...   \n",
       "4                 40.0                                                NaN   \n",
       "\n",
       "   zipcode  bedrooms  beds  \n",
       "0    11201       1.0   1.0  \n",
       "1    10019       3.0   3.0  \n",
       "2    10027       1.0   3.0  \n",
       "3  94117.0       2.0   2.0  \n",
       "4    20009       0.0   1.0  \n",
       "\n",
       "[5 rows x 24 columns]"
      ]
     },
     "execution_count": 3,
     "metadata": {},
     "output_type": "execute_result"
    }
   ],
   "source": [
    "modified_data = raw_data.copy()\n",
    "modified_data.drop(['id', 'neighbourhood', 'name', 'first_review', 'last_review'], axis=1, inplace=True)\n",
    "modified_data.head()"
   ]
  },
  {
   "cell_type": "markdown",
   "metadata": {},
   "source": [
    "<p>In total, 3 columns were dropped because they either could be represented through other attributes, or they don't add much clarity or value to the dataset. In summary, the following attributes were removed, with their respective reason:</p>\n",
    "\n",
    "* <strong>id</strong> - ID does not provide any analytical value to the dataset and is merely a means for tracking instances, likely for an application. There is no need to keep track of particular instances for this dataset.\n",
    "* <strong>latitude</strong> - This attribute can be adequetly represented by the zipcode attribute.\n",
    "* <strong>longitude</strong> - This attribute can be adequetly represented by the zipcode attribute.\n",
    "\n",
    "    *Note: If a zipcode is not present, it can be calculated using online tools by using longitude and latitude as a parameter.*\n",
    "\n",
    "* <strong>neighbourhood</strong> - The reasoning for this is similar to the reasoning for latitude and longitude; zipcode can adequetly represent the geographical location of the airbnb.\n"
   ]
  },
  {
   "cell_type": "markdown",
   "metadata": {},
   "source": [
    "## Datatypes"
   ]
  },
  {
   "cell_type": "markdown",
   "metadata": {},
   "source": [
    "A quick look at the datatype of each attribute should be performed to help identify any columns that are typed incorrectly. An incorrect type often is a hint that there are data values that need to be cleaned up."
   ]
  },
  {
   "cell_type": "code",
   "execution_count": 4,
   "metadata": {},
   "outputs": [
    {
     "data": {
      "text/plain": [
       "log_price                 float64\n",
       "property_type              object\n",
       "room_type                  object\n",
       "amenities                  object\n",
       "accommodates                int64\n",
       "bathrooms                 float64\n",
       "bed_type                   object\n",
       "cancellation_policy        object\n",
       "cleaning_fee                 bool\n",
       "city                       object\n",
       "description                object\n",
       "host_has_profile_pic       object\n",
       "host_identity_verified     object\n",
       "host_response_rate         object\n",
       "host_since                 object\n",
       "instant_bookable           object\n",
       "latitude                  float64\n",
       "longitude                 float64\n",
       "number_of_reviews           int64\n",
       "review_scores_rating      float64\n",
       "thumbnail_url              object\n",
       "zipcode                    object\n",
       "bedrooms                  float64\n",
       "beds                      float64\n",
       "dtype: object"
      ]
     },
     "execution_count": 4,
     "metadata": {},
     "output_type": "execute_result"
    }
   ],
   "source": [
    "modified_data.dtypes"
   ]
  },
  {
   "cell_type": "markdown",
   "metadata": {},
   "source": [
    "## Handle Missing Values"
   ]
  },
  {
   "cell_type": "markdown",
   "metadata": {},
   "source": [
    "### log_price"
   ]
  },
  {
   "cell_type": "code",
   "execution_count": 5,
   "metadata": {},
   "outputs": [
    {
     "name": "stdout",
     "output_type": "stream",
     "text": [
      "object\n",
      "Null Values:  False\n",
      "Number of Unique Values:  767\n"
     ]
    }
   ],
   "source": [
    "print(np.dtype(modified_data.property_type))\n",
    "print('Null Values: ', modified_data.log_price.isnull().values.any())\n",
    "print('Number of Unique Values: ', np.size(modified_data.log_price.unique()))"
   ]
  },
  {
   "cell_type": "markdown",
   "metadata": {},
   "source": [
    "### property_type"
   ]
  },
  {
   "cell_type": "markdown",
   "metadata": {},
   "source": [
    "Property type was an Object, but it should be converted into a category data type."
   ]
  },
  {
   "cell_type": "code",
   "execution_count": 6,
   "metadata": {},
   "outputs": [],
   "source": [
    "modified_data.property_type = modified_data.property_type.astype('category')"
   ]
  },
  {
   "cell_type": "code",
   "execution_count": 7,
   "metadata": {},
   "outputs": [
    {
     "name": "stdout",
     "output_type": "stream",
     "text": [
      "Data Type:  category\n",
      "Null Values:  False\n",
      "Number of N/A values 0\n",
      "Number of Unique Values:  35\n"
     ]
    },
    {
     "data": {
      "text/plain": [
       "[Apartment, House, Condominium, Loft, Townhouse, ..., Parking Space, Train, Cave, Lighthouse, Island]\n",
       "Length: 35\n",
       "Categories (35, object): [Apartment, House, Condominium, Loft, ..., Train, Cave, Lighthouse, Island]"
      ]
     },
     "execution_count": 7,
     "metadata": {},
     "output_type": "execute_result"
    }
   ],
   "source": [
    "print('Data Type: ', modified_data.property_type.dtype)\n",
    "print('Null Values: ', modified_data.property_type.isnull().values.any())\n",
    "print('Number of N/A values', modified_data[modified_data.property_type == \"N/A\"][\"property_type\"].count())\n",
    "print('Number of Unique Values: ', np.size(modified_data.property_type.unique()))\n",
    "modified_data.property_type.unique()"
   ]
  },
  {
   "cell_type": "markdown",
   "metadata": {},
   "source": [
    "### room_type"
   ]
  },
  {
   "cell_type": "code",
   "execution_count": 8,
   "metadata": {},
   "outputs": [],
   "source": [
    "modified_data.room_type = modified_data.room_type.astype('category')"
   ]
  },
  {
   "cell_type": "code",
   "execution_count": 9,
   "metadata": {},
   "outputs": [
    {
     "name": "stdout",
     "output_type": "stream",
     "text": [
      "Data Type:  category\n",
      "Null Values:  False\n",
      "Number of N/A values 0\n",
      "Number of Unique Values:  3\n"
     ]
    },
    {
     "data": {
      "text/plain": [
       "[Entire home/apt, Private room, Shared room]\n",
       "Categories (3, object): [Entire home/apt, Private room, Shared room]"
      ]
     },
     "execution_count": 9,
     "metadata": {},
     "output_type": "execute_result"
    }
   ],
   "source": [
    "print('Data Type: ', modified_data.room_type.dtype)\n",
    "print('Null Values: ', modified_data.room_type.isnull().values.any())\n",
    "print('Number of N/A values', modified_data[modified_data.room_type == \"N/A\"][\"property_type\"].count())\n",
    "print('Number of Unique Values: ', np.size(modified_data.room_type.unique()))\n",
    "modified_data.room_type.unique()"
   ]
  },
  {
   "cell_type": "markdown",
   "metadata": {},
   "source": [
    "### amenities"
   ]
  },
  {
   "cell_type": "markdown",
   "metadata": {},
   "source": [
    "amenities is loaded into the dataset as a list with a format the looks similar to JSON (note that it is not valid JSON). For the previous hypothesis made, only the number of amenities is needed. As a result, a new column should be made to keep track of the number of amenities. The amenities column will be kept for reference, but will not be included in the data model, or any data processing after this step."
   ]
  },
  {
   "cell_type": "code",
   "execution_count": 10,
   "metadata": {},
   "outputs": [
    {
     "data": {
      "text/html": [
       "<div>\n",
       "<style scoped>\n",
       "    .dataframe tbody tr th:only-of-type {\n",
       "        vertical-align: middle;\n",
       "    }\n",
       "\n",
       "    .dataframe tbody tr th {\n",
       "        vertical-align: top;\n",
       "    }\n",
       "\n",
       "    .dataframe thead th {\n",
       "        text-align: right;\n",
       "    }\n",
       "</style>\n",
       "<table border=\"1\" class=\"dataframe\">\n",
       "  <thead>\n",
       "    <tr style=\"text-align: right;\">\n",
       "      <th></th>\n",
       "      <th>log_price</th>\n",
       "      <th>property_type</th>\n",
       "      <th>room_type</th>\n",
       "      <th>amenities</th>\n",
       "      <th>accommodates</th>\n",
       "      <th>bathrooms</th>\n",
       "      <th>bed_type</th>\n",
       "      <th>cancellation_policy</th>\n",
       "      <th>cleaning_fee</th>\n",
       "      <th>city</th>\n",
       "      <th>...</th>\n",
       "      <th>instant_bookable</th>\n",
       "      <th>latitude</th>\n",
       "      <th>longitude</th>\n",
       "      <th>number_of_reviews</th>\n",
       "      <th>review_scores_rating</th>\n",
       "      <th>thumbnail_url</th>\n",
       "      <th>zipcode</th>\n",
       "      <th>bedrooms</th>\n",
       "      <th>beds</th>\n",
       "      <th>amenities_count</th>\n",
       "    </tr>\n",
       "  </thead>\n",
       "  <tbody>\n",
       "    <tr>\n",
       "      <th>0</th>\n",
       "      <td>5.010635</td>\n",
       "      <td>Apartment</td>\n",
       "      <td>Entire home/apt</td>\n",
       "      <td>{\"Wireless Internet\",\"Air conditioning\",Kitche...</td>\n",
       "      <td>3</td>\n",
       "      <td>1.0</td>\n",
       "      <td>Real Bed</td>\n",
       "      <td>strict</td>\n",
       "      <td>True</td>\n",
       "      <td>NYC</td>\n",
       "      <td>...</td>\n",
       "      <td>f</td>\n",
       "      <td>40.696524</td>\n",
       "      <td>-73.991617</td>\n",
       "      <td>2</td>\n",
       "      <td>100.0</td>\n",
       "      <td>https://a0.muscache.com/im/pictures/6d7cbbf7-c...</td>\n",
       "      <td>11201</td>\n",
       "      <td>1.0</td>\n",
       "      <td>1.0</td>\n",
       "      <td>9</td>\n",
       "    </tr>\n",
       "    <tr>\n",
       "      <th>1</th>\n",
       "      <td>5.129899</td>\n",
       "      <td>Apartment</td>\n",
       "      <td>Entire home/apt</td>\n",
       "      <td>{\"Wireless Internet\",\"Air conditioning\",Kitche...</td>\n",
       "      <td>7</td>\n",
       "      <td>1.0</td>\n",
       "      <td>Real Bed</td>\n",
       "      <td>strict</td>\n",
       "      <td>True</td>\n",
       "      <td>NYC</td>\n",
       "      <td>...</td>\n",
       "      <td>t</td>\n",
       "      <td>40.766115</td>\n",
       "      <td>-73.989040</td>\n",
       "      <td>6</td>\n",
       "      <td>93.0</td>\n",
       "      <td>https://a0.muscache.com/im/pictures/348a55fe-4...</td>\n",
       "      <td>10019</td>\n",
       "      <td>3.0</td>\n",
       "      <td>3.0</td>\n",
       "      <td>15</td>\n",
       "    </tr>\n",
       "    <tr>\n",
       "      <th>2</th>\n",
       "      <td>4.976734</td>\n",
       "      <td>Apartment</td>\n",
       "      <td>Entire home/apt</td>\n",
       "      <td>{TV,\"Cable TV\",\"Wireless Internet\",\"Air condit...</td>\n",
       "      <td>5</td>\n",
       "      <td>1.0</td>\n",
       "      <td>Real Bed</td>\n",
       "      <td>moderate</td>\n",
       "      <td>True</td>\n",
       "      <td>NYC</td>\n",
       "      <td>...</td>\n",
       "      <td>t</td>\n",
       "      <td>40.808110</td>\n",
       "      <td>-73.943756</td>\n",
       "      <td>10</td>\n",
       "      <td>92.0</td>\n",
       "      <td>https://a0.muscache.com/im/pictures/6fae5362-9...</td>\n",
       "      <td>10027</td>\n",
       "      <td>1.0</td>\n",
       "      <td>3.0</td>\n",
       "      <td>19</td>\n",
       "    </tr>\n",
       "    <tr>\n",
       "      <th>3</th>\n",
       "      <td>6.620073</td>\n",
       "      <td>House</td>\n",
       "      <td>Entire home/apt</td>\n",
       "      <td>{TV,\"Cable TV\",Internet,\"Wireless Internet\",Ki...</td>\n",
       "      <td>4</td>\n",
       "      <td>1.0</td>\n",
       "      <td>Real Bed</td>\n",
       "      <td>flexible</td>\n",
       "      <td>True</td>\n",
       "      <td>SF</td>\n",
       "      <td>...</td>\n",
       "      <td>f</td>\n",
       "      <td>37.772004</td>\n",
       "      <td>-122.431619</td>\n",
       "      <td>0</td>\n",
       "      <td>NaN</td>\n",
       "      <td>https://a0.muscache.com/im/pictures/72208dad-9...</td>\n",
       "      <td>94117.0</td>\n",
       "      <td>2.0</td>\n",
       "      <td>2.0</td>\n",
       "      <td>15</td>\n",
       "    </tr>\n",
       "    <tr>\n",
       "      <th>4</th>\n",
       "      <td>4.744932</td>\n",
       "      <td>Apartment</td>\n",
       "      <td>Entire home/apt</td>\n",
       "      <td>{TV,Internet,\"Wireless Internet\",\"Air conditio...</td>\n",
       "      <td>2</td>\n",
       "      <td>1.0</td>\n",
       "      <td>Real Bed</td>\n",
       "      <td>moderate</td>\n",
       "      <td>True</td>\n",
       "      <td>DC</td>\n",
       "      <td>...</td>\n",
       "      <td>t</td>\n",
       "      <td>38.925627</td>\n",
       "      <td>-77.034596</td>\n",
       "      <td>4</td>\n",
       "      <td>40.0</td>\n",
       "      <td>NaN</td>\n",
       "      <td>20009</td>\n",
       "      <td>0.0</td>\n",
       "      <td>1.0</td>\n",
       "      <td>12</td>\n",
       "    </tr>\n",
       "  </tbody>\n",
       "</table>\n",
       "<p>5 rows × 25 columns</p>\n",
       "</div>"
      ],
      "text/plain": [
       "   log_price property_type        room_type  \\\n",
       "0   5.010635     Apartment  Entire home/apt   \n",
       "1   5.129899     Apartment  Entire home/apt   \n",
       "2   4.976734     Apartment  Entire home/apt   \n",
       "3   6.620073         House  Entire home/apt   \n",
       "4   4.744932     Apartment  Entire home/apt   \n",
       "\n",
       "                                           amenities  accommodates  bathrooms  \\\n",
       "0  {\"Wireless Internet\",\"Air conditioning\",Kitche...             3        1.0   \n",
       "1  {\"Wireless Internet\",\"Air conditioning\",Kitche...             7        1.0   \n",
       "2  {TV,\"Cable TV\",\"Wireless Internet\",\"Air condit...             5        1.0   \n",
       "3  {TV,\"Cable TV\",Internet,\"Wireless Internet\",Ki...             4        1.0   \n",
       "4  {TV,Internet,\"Wireless Internet\",\"Air conditio...             2        1.0   \n",
       "\n",
       "   bed_type cancellation_policy  cleaning_fee city       ...         \\\n",
       "0  Real Bed              strict          True  NYC       ...          \n",
       "1  Real Bed              strict          True  NYC       ...          \n",
       "2  Real Bed            moderate          True  NYC       ...          \n",
       "3  Real Bed            flexible          True   SF       ...          \n",
       "4  Real Bed            moderate          True   DC       ...          \n",
       "\n",
       "  instant_bookable   latitude   longitude number_of_reviews  \\\n",
       "0                f  40.696524  -73.991617                 2   \n",
       "1                t  40.766115  -73.989040                 6   \n",
       "2                t  40.808110  -73.943756                10   \n",
       "3                f  37.772004 -122.431619                 0   \n",
       "4                t  38.925627  -77.034596                 4   \n",
       "\n",
       "  review_scores_rating                                      thumbnail_url  \\\n",
       "0                100.0  https://a0.muscache.com/im/pictures/6d7cbbf7-c...   \n",
       "1                 93.0  https://a0.muscache.com/im/pictures/348a55fe-4...   \n",
       "2                 92.0  https://a0.muscache.com/im/pictures/6fae5362-9...   \n",
       "3                  NaN  https://a0.muscache.com/im/pictures/72208dad-9...   \n",
       "4                 40.0                                                NaN   \n",
       "\n",
       "   zipcode  bedrooms  beds  amenities_count  \n",
       "0    11201       1.0   1.0                9  \n",
       "1    10019       3.0   3.0               15  \n",
       "2    10027       1.0   3.0               19  \n",
       "3  94117.0       2.0   2.0               15  \n",
       "4    20009       0.0   1.0               12  \n",
       "\n",
       "[5 rows x 25 columns]"
      ]
     },
     "execution_count": 10,
     "metadata": {},
     "output_type": "execute_result"
    }
   ],
   "source": [
    "modified_data[\"amenities\"] = modified_data[\"amenities\"].astype('str')\n",
    "modified_data[\"amenities_count\"] = modified_data[\"amenities\"].str.split(',')\n",
    "modified_data[\"amenities_count\"] = modified_data[\"amenities_count\"].str.len()\n",
    "modified_data.head()"
   ]
  },
  {
   "cell_type": "markdown",
   "metadata": {},
   "source": [
    "### accommodates                "
   ]
  },
  {
   "cell_type": "markdown",
   "metadata": {},
   "source": [
    "Accommodates was already the expected datatype, so there is no need to convert it."
   ]
  },
  {
   "cell_type": "code",
   "execution_count": 11,
   "metadata": {},
   "outputs": [
    {
     "name": "stdout",
     "output_type": "stream",
     "text": [
      "Data Type:  int64\n",
      "Null Values:  False\n",
      "Number of Unique Values:  16\n"
     ]
    },
    {
     "data": {
      "text/plain": [
       "array([ 3,  7,  5,  4,  2,  6,  8,  1,  9, 10, 16, 11, 12, 14, 13, 15],\n",
       "      dtype=int64)"
      ]
     },
     "execution_count": 11,
     "metadata": {},
     "output_type": "execute_result"
    }
   ],
   "source": [
    "print('Data Type: ', modified_data.accommodates.dtype)\n",
    "print('Null Values: ', modified_data.accommodates.isnull().values.any())\n",
    "print('Number of Unique Values: ', np.size(modified_data.accommodates.unique()))\n",
    "modified_data.accommodates.unique()"
   ]
  },
  {
   "cell_type": "markdown",
   "metadata": {},
   "source": [
    "### bathrooms"
   ]
  },
  {
   "cell_type": "code",
   "execution_count": 12,
   "metadata": {},
   "outputs": [
    {
     "name": "stdout",
     "output_type": "stream",
     "text": [
      "Data Type:  float64\n",
      "Null Values:  True\n",
      "Number of Unique Values:  18\n"
     ]
    },
    {
     "data": {
      "text/plain": [
       "array([1. , 1.5, 2. , nan, 2.5, 3. , 0.5, 4.5, 5. , 0. , 4. , 3.5, 5.5,\n",
       "       7.5, 6. , 8. , 7. , 6.5])"
      ]
     },
     "execution_count": 12,
     "metadata": {},
     "output_type": "execute_result"
    }
   ],
   "source": [
    "print('Data Type: ', modified_data.bathrooms.dtype)\n",
    "print('Null Values: ', modified_data.bathrooms.isnull().values.any())\n",
    "print('Number of Unique Values: ', np.size(modified_data.bathrooms.unique()))\n",
    "modified_data.bathrooms.unique()"
   ]
  },
  {
   "cell_type": "markdown",
   "metadata": {},
   "source": [
    "Here, it is evident that float64 is the correct datatype for bathrooms, because some bathrooms are considered half-bathrooms, which makes it possible to have a fractual amount of bathrooms.\n",
    "\n",
    "What is evident however, is there are some values with no value. To check the extent to which this is occuring, it would be helpful to get the total number of instances with nan."
   ]
  },
  {
   "cell_type": "code",
   "execution_count": 13,
   "metadata": {},
   "outputs": [
    {
     "data": {
      "text/plain": [
       "(200,)"
      ]
     },
     "execution_count": 13,
     "metadata": {},
     "output_type": "execute_result"
    }
   ],
   "source": [
    " modified_data[modified_data.bathrooms.isnull() == True][\"bathrooms\"].shape"
   ]
  },
  {
   "cell_type": "markdown",
   "metadata": {},
   "source": [
    "As can be seen, there are 200 rows of data with the number of bathrooms not specified. Since that is such a small amount of samples relative to the total size of the dataset (74,111 => 2.7%), these samples will be dropped from the dataset. "
   ]
  },
  {
   "cell_type": "code",
   "execution_count": 14,
   "metadata": {},
   "outputs": [],
   "source": [
    "i = modified_data[modified_data.bathrooms.isnull() == True].index\n",
    "modified_data.drop(i, inplace=True)"
   ]
  },
  {
   "cell_type": "markdown",
   "metadata": {},
   "source": [
    "At this point, the instances with no bathroom information have been dropped."
   ]
  },
  {
   "cell_type": "markdown",
   "metadata": {},
   "source": [
    "### bed_type"
   ]
  },
  {
   "cell_type": "markdown",
   "metadata": {},
   "source": [
    "Bed type should be converted to a proper category type."
   ]
  },
  {
   "cell_type": "code",
   "execution_count": 15,
   "metadata": {},
   "outputs": [],
   "source": [
    "modified_data.bed_type = modified_data.bed_type.astype('category')"
   ]
  },
  {
   "cell_type": "code",
   "execution_count": 16,
   "metadata": {},
   "outputs": [
    {
     "name": "stdout",
     "output_type": "stream",
     "text": [
      "Data Type:  category\n",
      "Null Values:  False\n",
      "Number of Unique Values:  5\n"
     ]
    },
    {
     "data": {
      "text/plain": [
       "[Real Bed, Futon, Pull-out Sofa, Couch, Airbed]\n",
       "Categories (5, object): [Real Bed, Futon, Pull-out Sofa, Couch, Airbed]"
      ]
     },
     "execution_count": 16,
     "metadata": {},
     "output_type": "execute_result"
    }
   ],
   "source": [
    "print('Data Type: ', modified_data.bed_type.dtype)\n",
    "print('Null Values: ', modified_data.bed_type.isnull().values.any())\n",
    "print('Number of Unique Values: ', np.size(modified_data.bed_type.unique()))\n",
    "modified_data.bed_type.unique()"
   ]
  },
  {
   "cell_type": "markdown",
   "metadata": {},
   "source": [
    "### cancellation_policy"
   ]
  },
  {
   "cell_type": "markdown",
   "metadata": {},
   "source": [
    "cancellation policy is also a categorical data type and should be converted to the proper type."
   ]
  },
  {
   "cell_type": "code",
   "execution_count": 17,
   "metadata": {},
   "outputs": [],
   "source": [
    "modified_data.cancellation_policy = modified_data.cancellation_policy.astype('category')"
   ]
  },
  {
   "cell_type": "code",
   "execution_count": 18,
   "metadata": {},
   "outputs": [
    {
     "name": "stdout",
     "output_type": "stream",
     "text": [
      "Data Type:  category\n",
      "Null Values:  False\n",
      "Number of Unique Values:  5\n"
     ]
    },
    {
     "data": {
      "text/plain": [
       "[strict, moderate, flexible, super_strict_30, super_strict_60]\n",
       "Categories (5, object): [strict, moderate, flexible, super_strict_30, super_strict_60]"
      ]
     },
     "execution_count": 18,
     "metadata": {},
     "output_type": "execute_result"
    }
   ],
   "source": [
    "print('Data Type: ', modified_data.cancellation_policy.dtype)\n",
    "print('Null Values: ', modified_data.cancellation_policy.isnull().values.any())\n",
    "print('Number of Unique Values: ', np.size(modified_data.cancellation_policy.unique()))\n",
    "modified_data.cancellation_policy.unique()"
   ]
  },
  {
   "cell_type": "markdown",
   "metadata": {},
   "source": [
    "### cleaning_fee"
   ]
  },
  {
   "cell_type": "markdown",
   "metadata": {},
   "source": [
    "The cleaning fee is a boolean value, and be kept as such; either a cleaning fee is charged, or it is not."
   ]
  },
  {
   "cell_type": "code",
   "execution_count": 19,
   "metadata": {},
   "outputs": [
    {
     "name": "stdout",
     "output_type": "stream",
     "text": [
      "Data Type:  bool\n",
      "Null Values:  False\n",
      "Number of Unique Values:  2\n"
     ]
    },
    {
     "data": {
      "text/plain": [
       "array([ True, False])"
      ]
     },
     "execution_count": 19,
     "metadata": {},
     "output_type": "execute_result"
    }
   ],
   "source": [
    "print('Data Type: ', modified_data.cleaning_fee.dtype)\n",
    "print('Null Values: ', modified_data.cleaning_fee.isnull().values.any())\n",
    "print('Number of Unique Values: ', np.size(modified_data.cleaning_fee.unique()))\n",
    "modified_data.cleaning_fee.unique()"
   ]
  },
  {
   "cell_type": "markdown",
   "metadata": {},
   "source": [
    "### city"
   ]
  },
  {
   "cell_type": "markdown",
   "metadata": {},
   "source": [
    "The city variable could be made a category or a string. The right choice depends on the number of avilable choices. If nearly every city field is unique, then it makes more sense to make the variable a string. If many instances share a common city, then it makes sense to make the city variable a category. Before choosing the right datatype, the data should be explored a little more."
   ]
  },
  {
   "cell_type": "code",
   "execution_count": 20,
   "metadata": {},
   "outputs": [
    {
     "name": "stdout",
     "output_type": "stream",
     "text": [
      "Data Type:  object\n",
      "Null Values:  False\n",
      "Number of Unique Values:  6\n"
     ]
    },
    {
     "data": {
      "text/plain": [
       "array(['NYC', 'SF', 'DC', 'LA', 'Chicago', 'Boston'], dtype=object)"
      ]
     },
     "execution_count": 20,
     "metadata": {},
     "output_type": "execute_result"
    }
   ],
   "source": [
    "print('Data Type: ', modified_data.city.dtype)\n",
    "print('Null Values: ', modified_data.city.isnull().values.any())\n",
    "print('Number of Unique Values: ', np.size(modified_data.city.unique()))\n",
    "modified_data.city.unique()"
   ]
  },
  {
   "cell_type": "markdown",
   "metadata": {},
   "source": [
    "Some of the cities are classified by their acutal name, and some are classified by their abbreviation. Since there is no overlap, this shouldn't be an issue.\n",
    "\n",
    "Additionally, since there are only 6 unique values, a datatype of category is appropriate for the city column."
   ]
  },
  {
   "cell_type": "code",
   "execution_count": 21,
   "metadata": {},
   "outputs": [],
   "source": [
    "modified_data.city = modified_data.city.astype('category')"
   ]
  },
  {
   "cell_type": "markdown",
   "metadata": {},
   "source": [
    "### description"
   ]
  },
  {
   "cell_type": "markdown",
   "metadata": {},
   "source": [
    "The description is originally stored as a string, however, the actual context of the string is not important for this project. Instead, the length of the description strings are desired. A new column in the dataframe should be created with the length of each string.\n",
    "\n",
    "Prior to doing this however, the attribute should be checked for any missing values. If there are missing values, then that likely means that the host provided no description of the airbnb, which is actually useful data. If that occurs, a string length of 0 should be choosen."
   ]
  },
  {
   "cell_type": "code",
   "execution_count": 22,
   "metadata": {},
   "outputs": [
    {
     "name": "stdout",
     "output_type": "stream",
     "text": [
      "Data Type:  object\n",
      "Null Values:  False\n",
      "Number of Unique Values:  73288\n",
      "Number of Descriptions with length 0:  0\n"
     ]
    }
   ],
   "source": [
    "print('Data Type: ', modified_data.description.dtype)\n",
    "print('Null Values: ', modified_data.description.isnull().values.any())\n",
    "print('Number of Unique Values: ', np.size(modified_data.description.unique()))\n",
    "print('Number of Descriptions with length 0: ', modified_data[modified_data.description.str.len() == 0].size)"
   ]
  },
  {
   "cell_type": "markdown",
   "metadata": {},
   "source": [
    "Now the length of each string can be added to a new column: description_length. The original description will be kept for reference."
   ]
  },
  {
   "cell_type": "code",
   "execution_count": 23,
   "metadata": {
    "scrolled": true
   },
   "outputs": [
    {
     "data": {
      "text/html": [
       "<div>\n",
       "<style scoped>\n",
       "    .dataframe tbody tr th:only-of-type {\n",
       "        vertical-align: middle;\n",
       "    }\n",
       "\n",
       "    .dataframe tbody tr th {\n",
       "        vertical-align: top;\n",
       "    }\n",
       "\n",
       "    .dataframe thead th {\n",
       "        text-align: right;\n",
       "    }\n",
       "</style>\n",
       "<table border=\"1\" class=\"dataframe\">\n",
       "  <thead>\n",
       "    <tr style=\"text-align: right;\">\n",
       "      <th></th>\n",
       "      <th>log_price</th>\n",
       "      <th>property_type</th>\n",
       "      <th>room_type</th>\n",
       "      <th>amenities</th>\n",
       "      <th>accommodates</th>\n",
       "      <th>bathrooms</th>\n",
       "      <th>bed_type</th>\n",
       "      <th>cancellation_policy</th>\n",
       "      <th>cleaning_fee</th>\n",
       "      <th>city</th>\n",
       "      <th>...</th>\n",
       "      <th>latitude</th>\n",
       "      <th>longitude</th>\n",
       "      <th>number_of_reviews</th>\n",
       "      <th>review_scores_rating</th>\n",
       "      <th>thumbnail_url</th>\n",
       "      <th>zipcode</th>\n",
       "      <th>bedrooms</th>\n",
       "      <th>beds</th>\n",
       "      <th>amenities_count</th>\n",
       "      <th>description_length</th>\n",
       "    </tr>\n",
       "  </thead>\n",
       "  <tbody>\n",
       "    <tr>\n",
       "      <th>0</th>\n",
       "      <td>5.010635</td>\n",
       "      <td>Apartment</td>\n",
       "      <td>Entire home/apt</td>\n",
       "      <td>{\"Wireless Internet\",\"Air conditioning\",Kitche...</td>\n",
       "      <td>3</td>\n",
       "      <td>1.0</td>\n",
       "      <td>Real Bed</td>\n",
       "      <td>strict</td>\n",
       "      <td>True</td>\n",
       "      <td>NYC</td>\n",
       "      <td>...</td>\n",
       "      <td>40.696524</td>\n",
       "      <td>-73.991617</td>\n",
       "      <td>2</td>\n",
       "      <td>100.0</td>\n",
       "      <td>https://a0.muscache.com/im/pictures/6d7cbbf7-c...</td>\n",
       "      <td>11201</td>\n",
       "      <td>1.0</td>\n",
       "      <td>1.0</td>\n",
       "      <td>9</td>\n",
       "      <td>211</td>\n",
       "    </tr>\n",
       "    <tr>\n",
       "      <th>1</th>\n",
       "      <td>5.129899</td>\n",
       "      <td>Apartment</td>\n",
       "      <td>Entire home/apt</td>\n",
       "      <td>{\"Wireless Internet\",\"Air conditioning\",Kitche...</td>\n",
       "      <td>7</td>\n",
       "      <td>1.0</td>\n",
       "      <td>Real Bed</td>\n",
       "      <td>strict</td>\n",
       "      <td>True</td>\n",
       "      <td>NYC</td>\n",
       "      <td>...</td>\n",
       "      <td>40.766115</td>\n",
       "      <td>-73.989040</td>\n",
       "      <td>6</td>\n",
       "      <td>93.0</td>\n",
       "      <td>https://a0.muscache.com/im/pictures/348a55fe-4...</td>\n",
       "      <td>10019</td>\n",
       "      <td>3.0</td>\n",
       "      <td>3.0</td>\n",
       "      <td>15</td>\n",
       "      <td>1000</td>\n",
       "    </tr>\n",
       "    <tr>\n",
       "      <th>2</th>\n",
       "      <td>4.976734</td>\n",
       "      <td>Apartment</td>\n",
       "      <td>Entire home/apt</td>\n",
       "      <td>{TV,\"Cable TV\",\"Wireless Internet\",\"Air condit...</td>\n",
       "      <td>5</td>\n",
       "      <td>1.0</td>\n",
       "      <td>Real Bed</td>\n",
       "      <td>moderate</td>\n",
       "      <td>True</td>\n",
       "      <td>NYC</td>\n",
       "      <td>...</td>\n",
       "      <td>40.808110</td>\n",
       "      <td>-73.943756</td>\n",
       "      <td>10</td>\n",
       "      <td>92.0</td>\n",
       "      <td>https://a0.muscache.com/im/pictures/6fae5362-9...</td>\n",
       "      <td>10027</td>\n",
       "      <td>1.0</td>\n",
       "      <td>3.0</td>\n",
       "      <td>19</td>\n",
       "      <td>1000</td>\n",
       "    </tr>\n",
       "    <tr>\n",
       "      <th>3</th>\n",
       "      <td>6.620073</td>\n",
       "      <td>House</td>\n",
       "      <td>Entire home/apt</td>\n",
       "      <td>{TV,\"Cable TV\",Internet,\"Wireless Internet\",Ki...</td>\n",
       "      <td>4</td>\n",
       "      <td>1.0</td>\n",
       "      <td>Real Bed</td>\n",
       "      <td>flexible</td>\n",
       "      <td>True</td>\n",
       "      <td>SF</td>\n",
       "      <td>...</td>\n",
       "      <td>37.772004</td>\n",
       "      <td>-122.431619</td>\n",
       "      <td>0</td>\n",
       "      <td>NaN</td>\n",
       "      <td>https://a0.muscache.com/im/pictures/72208dad-9...</td>\n",
       "      <td>94117.0</td>\n",
       "      <td>2.0</td>\n",
       "      <td>2.0</td>\n",
       "      <td>15</td>\n",
       "      <td>468</td>\n",
       "    </tr>\n",
       "    <tr>\n",
       "      <th>4</th>\n",
       "      <td>4.744932</td>\n",
       "      <td>Apartment</td>\n",
       "      <td>Entire home/apt</td>\n",
       "      <td>{TV,Internet,\"Wireless Internet\",\"Air conditio...</td>\n",
       "      <td>2</td>\n",
       "      <td>1.0</td>\n",
       "      <td>Real Bed</td>\n",
       "      <td>moderate</td>\n",
       "      <td>True</td>\n",
       "      <td>DC</td>\n",
       "      <td>...</td>\n",
       "      <td>38.925627</td>\n",
       "      <td>-77.034596</td>\n",
       "      <td>4</td>\n",
       "      <td>40.0</td>\n",
       "      <td>NaN</td>\n",
       "      <td>20009</td>\n",
       "      <td>0.0</td>\n",
       "      <td>1.0</td>\n",
       "      <td>12</td>\n",
       "      <td>699</td>\n",
       "    </tr>\n",
       "  </tbody>\n",
       "</table>\n",
       "<p>5 rows × 26 columns</p>\n",
       "</div>"
      ],
      "text/plain": [
       "   log_price property_type        room_type  \\\n",
       "0   5.010635     Apartment  Entire home/apt   \n",
       "1   5.129899     Apartment  Entire home/apt   \n",
       "2   4.976734     Apartment  Entire home/apt   \n",
       "3   6.620073         House  Entire home/apt   \n",
       "4   4.744932     Apartment  Entire home/apt   \n",
       "\n",
       "                                           amenities  accommodates  bathrooms  \\\n",
       "0  {\"Wireless Internet\",\"Air conditioning\",Kitche...             3        1.0   \n",
       "1  {\"Wireless Internet\",\"Air conditioning\",Kitche...             7        1.0   \n",
       "2  {TV,\"Cable TV\",\"Wireless Internet\",\"Air condit...             5        1.0   \n",
       "3  {TV,\"Cable TV\",Internet,\"Wireless Internet\",Ki...             4        1.0   \n",
       "4  {TV,Internet,\"Wireless Internet\",\"Air conditio...             2        1.0   \n",
       "\n",
       "   bed_type cancellation_policy  cleaning_fee city         ...          \\\n",
       "0  Real Bed              strict          True  NYC         ...           \n",
       "1  Real Bed              strict          True  NYC         ...           \n",
       "2  Real Bed            moderate          True  NYC         ...           \n",
       "3  Real Bed            flexible          True   SF         ...           \n",
       "4  Real Bed            moderate          True   DC         ...           \n",
       "\n",
       "    latitude   longitude number_of_reviews review_scores_rating  \\\n",
       "0  40.696524  -73.991617                 2                100.0   \n",
       "1  40.766115  -73.989040                 6                 93.0   \n",
       "2  40.808110  -73.943756                10                 92.0   \n",
       "3  37.772004 -122.431619                 0                  NaN   \n",
       "4  38.925627  -77.034596                 4                 40.0   \n",
       "\n",
       "                                       thumbnail_url  zipcode  bedrooms  beds  \\\n",
       "0  https://a0.muscache.com/im/pictures/6d7cbbf7-c...    11201       1.0   1.0   \n",
       "1  https://a0.muscache.com/im/pictures/348a55fe-4...    10019       3.0   3.0   \n",
       "2  https://a0.muscache.com/im/pictures/6fae5362-9...    10027       1.0   3.0   \n",
       "3  https://a0.muscache.com/im/pictures/72208dad-9...  94117.0       2.0   2.0   \n",
       "4                                                NaN    20009       0.0   1.0   \n",
       "\n",
       "   amenities_count  description_length  \n",
       "0                9                 211  \n",
       "1               15                1000  \n",
       "2               19                1000  \n",
       "3               15                 468  \n",
       "4               12                 699  \n",
       "\n",
       "[5 rows x 26 columns]"
      ]
     },
     "execution_count": 23,
     "metadata": {},
     "output_type": "execute_result"
    }
   ],
   "source": [
    "modified_data[\"description_length\"] = modified_data[\"description\"].str.len()\n",
    "modified_data.head()"
   ]
  },
  {
   "cell_type": "markdown",
   "metadata": {},
   "source": [
    "### host_has_profile_pic"
   ]
  },
  {
   "cell_type": "markdown",
   "metadata": {},
   "source": [
    "Prior to deciding what dataype this column should be, the data should be explored a little to discover any oddities or unexpected values."
   ]
  },
  {
   "cell_type": "code",
   "execution_count": 24,
   "metadata": {},
   "outputs": [
    {
     "name": "stdout",
     "output_type": "stream",
     "text": [
      "Data Type:  object\n",
      "Null Values:  True\n",
      "Number of Unique Values:  3\n"
     ]
    },
    {
     "data": {
      "text/plain": [
       "array(['t', nan, 'f'], dtype=object)"
      ]
     },
     "execution_count": 24,
     "metadata": {},
     "output_type": "execute_result"
    }
   ],
   "source": [
    "print('Data Type: ', modified_data.host_has_profile_pic.dtype)\n",
    "print('Null Values: ', modified_data.host_has_profile_pic.isnull().values.any())\n",
    "print('Number of Unique Values: ', np.size(modified_data.host_has_profile_pic.unique()))\n",
    "modified_data.host_has_profile_pic.unique()"
   ]
  },
  {
   "cell_type": "markdown",
   "metadata": {},
   "source": [
    "One would expect the question \"Does the host have a profile picture\" to be a binary yes or no question. Some of the instances don't specify whether the host has a profile picture or not. Do determine what should be done with these instances, the number of undefined fields should be investigated."
   ]
  },
  {
   "cell_type": "code",
   "execution_count": 25,
   "metadata": {},
   "outputs": [
    {
     "data": {
      "text/plain": [
       "(187,)"
      ]
     },
     "execution_count": 25,
     "metadata": {},
     "output_type": "execute_result"
    }
   ],
   "source": [
    "modified_data[modified_data.host_has_profile_pic.isnull() == True][\"host_has_profile_pic\"].shape"
   ]
  },
  {
   "cell_type": "markdown",
   "metadata": {},
   "source": [
    "Since the number of null values is so small relative to the total size of the dataframe, it is appropriate to drop the instances in which there is no information regarding whether the host has a porfile picture. Further, it is not very likely that this data can be recovered using the other attributes."
   ]
  },
  {
   "cell_type": "code",
   "execution_count": 26,
   "metadata": {},
   "outputs": [],
   "source": [
    "i = modified_data[modified_data.host_has_profile_pic.isnull() == True].index\n",
    "modified_data.drop(i, inplace=True)"
   ]
  },
  {
   "cell_type": "markdown",
   "metadata": {},
   "source": [
    "Further, the values for this column are string representations of a boolean value. To analyze the data more effectively, these values should be converted to their actual boolean equivalents."
   ]
  },
  {
   "cell_type": "code",
   "execution_count": 27,
   "metadata": {},
   "outputs": [],
   "source": [
    "bool_equivalent = modified_data.host_has_profile_pic.str.match('t')\n",
    "modified_data.host_has_profile_pic.unique()\n",
    "modified_data.host_has_profile_pic = bool_equivalent"
   ]
  },
  {
   "cell_type": "code",
   "execution_count": 28,
   "metadata": {},
   "outputs": [
    {
     "name": "stdout",
     "output_type": "stream",
     "text": [
      "Data type for host_profile_pic:  bool\n",
      "[ True False]\n"
     ]
    },
    {
     "data": {
      "text/plain": [
       "0    True\n",
       "1    True\n",
       "2    True\n",
       "3    True\n",
       "4    True\n",
       "Name: host_has_profile_pic, dtype: bool"
      ]
     },
     "execution_count": 28,
     "metadata": {},
     "output_type": "execute_result"
    }
   ],
   "source": [
    "print('Data type for host_profile_pic: ', modified_data.host_has_profile_pic.dtype)\n",
    "print(modified_data.host_has_profile_pic.unique())\n",
    "modified_data.host_has_profile_pic.head()"
   ]
  },
  {
   "cell_type": "markdown",
   "metadata": {},
   "source": [
    "At this point, all values for host_has_profile_pic have been reduced to a simple boolean value, which will be easier to use for data analysis."
   ]
  },
  {
   "cell_type": "markdown",
   "metadata": {},
   "source": [
    "### host_identity_verified "
   ]
  },
  {
   "cell_type": "markdown",
   "metadata": {},
   "source": [
    "The pre-processing procedure for this data attribute will be similar to the last. All null values need to be handled, and the values of the Series should be converted to boolean equivalents."
   ]
  },
  {
   "cell_type": "code",
   "execution_count": 29,
   "metadata": {},
   "outputs": [
    {
     "name": "stdout",
     "output_type": "stream",
     "text": [
      "Data Type:  object\n",
      "Null Values:  False\n",
      "Number of Unique Values:  2\n"
     ]
    },
    {
     "data": {
      "text/plain": [
       "array(['t', 'f'], dtype=object)"
      ]
     },
     "execution_count": 29,
     "metadata": {},
     "output_type": "execute_result"
    }
   ],
   "source": [
    "print('Data Type: ', modified_data.host_identity_verified.dtype)\n",
    "print('Null Values: ', modified_data.host_identity_verified.isnull().values.any())\n",
    "print('Number of Unique Values: ', np.size(modified_data.host_identity_verified.unique()))\n",
    "modified_data.host_identity_verified.unique()"
   ]
  },
  {
   "cell_type": "markdown",
   "metadata": {},
   "source": [
    "In this case, there are no null values, so the values need to be simply converted over to boolean equivalents."
   ]
  },
  {
   "cell_type": "code",
   "execution_count": 30,
   "metadata": {},
   "outputs": [
    {
     "name": "stdout",
     "output_type": "stream",
     "text": [
      "Data type for host_identity_verified:  bool\n",
      "[ True False]\n"
     ]
    },
    {
     "data": {
      "text/plain": [
       "0     True\n",
       "1    False\n",
       "2     True\n",
       "3     True\n",
       "4     True\n",
       "Name: host_identity_verified, dtype: bool"
      ]
     },
     "execution_count": 30,
     "metadata": {},
     "output_type": "execute_result"
    }
   ],
   "source": [
    "bool_equivalent = modified_data.host_identity_verified.str.match('t')\n",
    "modified_data.host_identity_verified.unique()\n",
    "modified_data.host_identity_verified = bool_equivalent\n",
    "\n",
    "print('Data type for host_identity_verified: ', modified_data.host_identity_verified.dtype)\n",
    "print(modified_data.host_identity_verified.unique())\n",
    "modified_data.host_identity_verified.head()"
   ]
  },
  {
   "cell_type": "markdown",
   "metadata": {},
   "source": [
    "### host_response_rate"
   ]
  },
  {
   "cell_type": "code",
   "execution_count": 31,
   "metadata": {},
   "outputs": [
    {
     "name": "stdout",
     "output_type": "stream",
     "text": [
      "Data Type:  object\n",
      "Null Values:  True\n",
      "Number of Unique Values:  81\n"
     ]
    },
    {
     "data": {
      "text/plain": [
       "array([nan, '100%', '71%', '68%', '67%', '83%', '50%', '90%', '86%',\n",
       "       '92%', '82%', '80%', '89%', '93%', '99%', '0%', '88%', '96%',\n",
       "       '70%', '94%', '91%', '25%', '95%', '98%', '62%', '29%', '33%',\n",
       "       '81%', '63%', '38%', '60%', '79%', '75%', '65%', '97%', '87%',\n",
       "       '40%', '54%', '78%', '53%', '58%', '76%', '30%', '64%', '17%',\n",
       "       '20%', '77%', '73%', '41%', '59%', '57%', '85%', '56%', '42%',\n",
       "       '44%', '35%', '14%', '74%', '27%', '10%', '84%', '6%', '72%',\n",
       "       '55%', '43%', '13%', '36%', '39%', '46%', '26%', '61%', '52%',\n",
       "       '23%', '22%', '69%', '66%', '15%', '11%', '31%', '21%', '47%'],\n",
       "      dtype=object)"
      ]
     },
     "execution_count": 31,
     "metadata": {},
     "output_type": "execute_result"
    }
   ],
   "source": [
    "print('Data Type: ', modified_data.host_response_rate.dtype)\n",
    "print('Null Values: ', modified_data.host_response_rate.isnull().values.any())\n",
    "print('Number of Unique Values: ', np.size(modified_data.host_response_rate.unique()))\n",
    "modified_data.host_response_rate.unique()"
   ]
  },
  {
   "cell_type": "markdown",
   "metadata": {},
   "source": [
    "For this Series, there is two issues.\n",
    "1. There are null values.\n",
    "2. The numbers are strings rather than numerical data.\n",
    "\n",
    "Both need to be addressed. First, the null values will be investigated."
   ]
  },
  {
   "cell_type": "code",
   "execution_count": 32,
   "metadata": {},
   "outputs": [
    {
     "data": {
      "text/plain": [
       "(18051,)"
      ]
     },
     "execution_count": 32,
     "metadata": {},
     "output_type": "execute_result"
    }
   ],
   "source": [
    "modified_data[modified_data.host_response_rate.isnull() == True][\"host_response_rate\"].shape"
   ]
  },
  {
   "cell_type": "code",
   "execution_count": 33,
   "metadata": {},
   "outputs": [
    {
     "data": {
      "text/plain": [
       "(73724, 26)"
      ]
     },
     "execution_count": 33,
     "metadata": {},
     "output_type": "execute_result"
    }
   ],
   "source": [
    "modified_data.shape"
   ]
  },
  {
   "cell_type": "markdown",
   "metadata": {},
   "source": [
    "In this case, a significant number of rows have no information regarding host response rate. This is a problem because dropping these rows would likely hurt the validity of any data analysis done, becuase a significant amount of data would be lost. The amount of missing values is not high enough to justify dropping the entire column however. Since pandas methods and functions can properly handle calculations with nan values, the attributes will be kept as nan.\n",
    "\n",
    "It would be more useful to work with numerical data however; the strings should be converted to integers."
   ]
  },
  {
   "cell_type": "code",
   "execution_count": 34,
   "metadata": {},
   "outputs": [],
   "source": [
    "modified_data.host_response_rate = modified_data.host_response_rate.str.strip('%')\n",
    "modified_data.host_response_rate = modified_data.host_response_rate.astype('float')\n",
    "modified_data.host_response_rate = modified_data.host_response_rate / 100"
   ]
  },
  {
   "cell_type": "code",
   "execution_count": 35,
   "metadata": {},
   "outputs": [
    {
     "data": {
      "text/plain": [
       "0    NaN\n",
       "1    1.0\n",
       "2    1.0\n",
       "3    NaN\n",
       "4    1.0\n",
       "Name: host_response_rate, dtype: float64"
      ]
     },
     "execution_count": 35,
     "metadata": {},
     "output_type": "execute_result"
    }
   ],
   "source": [
    "modified_data.host_response_rate.head()"
   ]
  },
  {
   "cell_type": "markdown",
   "metadata": {},
   "source": [
    "### host_since"
   ]
  },
  {
   "cell_type": "markdown",
   "metadata": {},
   "source": [
    "Before making any changes to this attribute, the nature of it's data type, values, and missing value count should be explored."
   ]
  },
  {
   "cell_type": "code",
   "execution_count": 36,
   "metadata": {},
   "outputs": [
    {
     "name": "stdout",
     "output_type": "stream",
     "text": [
      "Data Type:  object\n",
      "Null Values:  False\n",
      "Number of Unique Values:  3083\n"
     ]
    },
    {
     "data": {
      "text/plain": [
       "array(['2012-03-26', '2017-06-19', '2016-10-25', ..., '2008-03-03',\n",
       "       '2010-04-30', '2009-08-23'], dtype=object)"
      ]
     },
     "execution_count": 36,
     "metadata": {},
     "output_type": "execute_result"
    }
   ],
   "source": [
    "print('Data Type: ', modified_data.host_since.dtype)\n",
    "print('Null Values: ', modified_data.host_since.isnull().values.any())\n",
    "print('Number of Unique Values: ', np.size(modified_data.host_since.unique()))\n",
    "modified_data.host_since.unique()"
   ]
  },
  {
   "cell_type": "markdown",
   "metadata": {},
   "source": [
    "Luckily this attribute has no null values. The data is, however, difficult to use becuase it is simply a string. Knowing the number of days that a host has hosted an airbnb would be a much more useful piece of data, which can be derived from these dates. A new column should be added to the dataframe, using host_since to determine the amount of days that a person has hosted an airbnb.\n",
    "\n",
    "There is no timestamp for when the data was collected, so the number of days between now and the date will be calculated."
   ]
  },
  {
   "cell_type": "code",
   "execution_count": 37,
   "metadata": {},
   "outputs": [
    {
     "data": {
      "text/plain": [
       "0   2012-03-26\n",
       "1   2017-06-19\n",
       "2   2016-10-25\n",
       "3   2015-04-19\n",
       "4   2015-03-01\n",
       "Name: host_since, dtype: datetime64[ns]"
      ]
     },
     "execution_count": 37,
     "metadata": {},
     "output_type": "execute_result"
    }
   ],
   "source": [
    "modified_data.host_since = pd.to_datetime(modified_data.host_since, format='%Y-%m-%d')\n",
    "modified_data.host_since.head()"
   ]
  },
  {
   "cell_type": "code",
   "execution_count": 38,
   "metadata": {},
   "outputs": [
    {
     "data": {
      "text/plain": [
       "0    2412\n",
       "1     501\n",
       "2     738\n",
       "3    1293\n",
       "4    1342\n",
       "Name: host_since, dtype: int64"
      ]
     },
     "execution_count": 38,
     "metadata": {},
     "output_type": "execute_result"
    }
   ],
   "source": [
    "from datetime import datetime\n",
    "now = datetime.now()\n",
    "delta_days = (now - modified_data.host_since)\n",
    "delta_days.dt.days.head()"
   ]
  },
  {
   "cell_type": "code",
   "execution_count": 39,
   "metadata": {},
   "outputs": [
    {
     "data": {
      "text/html": [
       "<div>\n",
       "<style scoped>\n",
       "    .dataframe tbody tr th:only-of-type {\n",
       "        vertical-align: middle;\n",
       "    }\n",
       "\n",
       "    .dataframe tbody tr th {\n",
       "        vertical-align: top;\n",
       "    }\n",
       "\n",
       "    .dataframe thead th {\n",
       "        text-align: right;\n",
       "    }\n",
       "</style>\n",
       "<table border=\"1\" class=\"dataframe\">\n",
       "  <thead>\n",
       "    <tr style=\"text-align: right;\">\n",
       "      <th></th>\n",
       "      <th>log_price</th>\n",
       "      <th>property_type</th>\n",
       "      <th>room_type</th>\n",
       "      <th>amenities</th>\n",
       "      <th>accommodates</th>\n",
       "      <th>bathrooms</th>\n",
       "      <th>bed_type</th>\n",
       "      <th>cancellation_policy</th>\n",
       "      <th>cleaning_fee</th>\n",
       "      <th>city</th>\n",
       "      <th>...</th>\n",
       "      <th>longitude</th>\n",
       "      <th>number_of_reviews</th>\n",
       "      <th>review_scores_rating</th>\n",
       "      <th>thumbnail_url</th>\n",
       "      <th>zipcode</th>\n",
       "      <th>bedrooms</th>\n",
       "      <th>beds</th>\n",
       "      <th>amenities_count</th>\n",
       "      <th>description_length</th>\n",
       "      <th>days_hosted</th>\n",
       "    </tr>\n",
       "  </thead>\n",
       "  <tbody>\n",
       "    <tr>\n",
       "      <th>0</th>\n",
       "      <td>5.010635</td>\n",
       "      <td>Apartment</td>\n",
       "      <td>Entire home/apt</td>\n",
       "      <td>{\"Wireless Internet\",\"Air conditioning\",Kitche...</td>\n",
       "      <td>3</td>\n",
       "      <td>1.0</td>\n",
       "      <td>Real Bed</td>\n",
       "      <td>strict</td>\n",
       "      <td>True</td>\n",
       "      <td>NYC</td>\n",
       "      <td>...</td>\n",
       "      <td>-73.991617</td>\n",
       "      <td>2</td>\n",
       "      <td>100.0</td>\n",
       "      <td>https://a0.muscache.com/im/pictures/6d7cbbf7-c...</td>\n",
       "      <td>11201</td>\n",
       "      <td>1.0</td>\n",
       "      <td>1.0</td>\n",
       "      <td>9</td>\n",
       "      <td>211</td>\n",
       "      <td>2412</td>\n",
       "    </tr>\n",
       "    <tr>\n",
       "      <th>1</th>\n",
       "      <td>5.129899</td>\n",
       "      <td>Apartment</td>\n",
       "      <td>Entire home/apt</td>\n",
       "      <td>{\"Wireless Internet\",\"Air conditioning\",Kitche...</td>\n",
       "      <td>7</td>\n",
       "      <td>1.0</td>\n",
       "      <td>Real Bed</td>\n",
       "      <td>strict</td>\n",
       "      <td>True</td>\n",
       "      <td>NYC</td>\n",
       "      <td>...</td>\n",
       "      <td>-73.989040</td>\n",
       "      <td>6</td>\n",
       "      <td>93.0</td>\n",
       "      <td>https://a0.muscache.com/im/pictures/348a55fe-4...</td>\n",
       "      <td>10019</td>\n",
       "      <td>3.0</td>\n",
       "      <td>3.0</td>\n",
       "      <td>15</td>\n",
       "      <td>1000</td>\n",
       "      <td>501</td>\n",
       "    </tr>\n",
       "    <tr>\n",
       "      <th>2</th>\n",
       "      <td>4.976734</td>\n",
       "      <td>Apartment</td>\n",
       "      <td>Entire home/apt</td>\n",
       "      <td>{TV,\"Cable TV\",\"Wireless Internet\",\"Air condit...</td>\n",
       "      <td>5</td>\n",
       "      <td>1.0</td>\n",
       "      <td>Real Bed</td>\n",
       "      <td>moderate</td>\n",
       "      <td>True</td>\n",
       "      <td>NYC</td>\n",
       "      <td>...</td>\n",
       "      <td>-73.943756</td>\n",
       "      <td>10</td>\n",
       "      <td>92.0</td>\n",
       "      <td>https://a0.muscache.com/im/pictures/6fae5362-9...</td>\n",
       "      <td>10027</td>\n",
       "      <td>1.0</td>\n",
       "      <td>3.0</td>\n",
       "      <td>19</td>\n",
       "      <td>1000</td>\n",
       "      <td>738</td>\n",
       "    </tr>\n",
       "    <tr>\n",
       "      <th>3</th>\n",
       "      <td>6.620073</td>\n",
       "      <td>House</td>\n",
       "      <td>Entire home/apt</td>\n",
       "      <td>{TV,\"Cable TV\",Internet,\"Wireless Internet\",Ki...</td>\n",
       "      <td>4</td>\n",
       "      <td>1.0</td>\n",
       "      <td>Real Bed</td>\n",
       "      <td>flexible</td>\n",
       "      <td>True</td>\n",
       "      <td>SF</td>\n",
       "      <td>...</td>\n",
       "      <td>-122.431619</td>\n",
       "      <td>0</td>\n",
       "      <td>NaN</td>\n",
       "      <td>https://a0.muscache.com/im/pictures/72208dad-9...</td>\n",
       "      <td>94117.0</td>\n",
       "      <td>2.0</td>\n",
       "      <td>2.0</td>\n",
       "      <td>15</td>\n",
       "      <td>468</td>\n",
       "      <td>1293</td>\n",
       "    </tr>\n",
       "    <tr>\n",
       "      <th>4</th>\n",
       "      <td>4.744932</td>\n",
       "      <td>Apartment</td>\n",
       "      <td>Entire home/apt</td>\n",
       "      <td>{TV,Internet,\"Wireless Internet\",\"Air conditio...</td>\n",
       "      <td>2</td>\n",
       "      <td>1.0</td>\n",
       "      <td>Real Bed</td>\n",
       "      <td>moderate</td>\n",
       "      <td>True</td>\n",
       "      <td>DC</td>\n",
       "      <td>...</td>\n",
       "      <td>-77.034596</td>\n",
       "      <td>4</td>\n",
       "      <td>40.0</td>\n",
       "      <td>NaN</td>\n",
       "      <td>20009</td>\n",
       "      <td>0.0</td>\n",
       "      <td>1.0</td>\n",
       "      <td>12</td>\n",
       "      <td>699</td>\n",
       "      <td>1342</td>\n",
       "    </tr>\n",
       "  </tbody>\n",
       "</table>\n",
       "<p>5 rows × 27 columns</p>\n",
       "</div>"
      ],
      "text/plain": [
       "   log_price property_type        room_type  \\\n",
       "0   5.010635     Apartment  Entire home/apt   \n",
       "1   5.129899     Apartment  Entire home/apt   \n",
       "2   4.976734     Apartment  Entire home/apt   \n",
       "3   6.620073         House  Entire home/apt   \n",
       "4   4.744932     Apartment  Entire home/apt   \n",
       "\n",
       "                                           amenities  accommodates  bathrooms  \\\n",
       "0  {\"Wireless Internet\",\"Air conditioning\",Kitche...             3        1.0   \n",
       "1  {\"Wireless Internet\",\"Air conditioning\",Kitche...             7        1.0   \n",
       "2  {TV,\"Cable TV\",\"Wireless Internet\",\"Air condit...             5        1.0   \n",
       "3  {TV,\"Cable TV\",Internet,\"Wireless Internet\",Ki...             4        1.0   \n",
       "4  {TV,Internet,\"Wireless Internet\",\"Air conditio...             2        1.0   \n",
       "\n",
       "   bed_type cancellation_policy  cleaning_fee city     ...        longitude  \\\n",
       "0  Real Bed              strict          True  NYC     ...       -73.991617   \n",
       "1  Real Bed              strict          True  NYC     ...       -73.989040   \n",
       "2  Real Bed            moderate          True  NYC     ...       -73.943756   \n",
       "3  Real Bed            flexible          True   SF     ...      -122.431619   \n",
       "4  Real Bed            moderate          True   DC     ...       -77.034596   \n",
       "\n",
       "   number_of_reviews  review_scores_rating  \\\n",
       "0                  2                 100.0   \n",
       "1                  6                  93.0   \n",
       "2                 10                  92.0   \n",
       "3                  0                   NaN   \n",
       "4                  4                  40.0   \n",
       "\n",
       "                                       thumbnail_url  zipcode bedrooms  beds  \\\n",
       "0  https://a0.muscache.com/im/pictures/6d7cbbf7-c...    11201      1.0   1.0   \n",
       "1  https://a0.muscache.com/im/pictures/348a55fe-4...    10019      3.0   3.0   \n",
       "2  https://a0.muscache.com/im/pictures/6fae5362-9...    10027      1.0   3.0   \n",
       "3  https://a0.muscache.com/im/pictures/72208dad-9...  94117.0      2.0   2.0   \n",
       "4                                                NaN    20009      0.0   1.0   \n",
       "\n",
       "   amenities_count  description_length  days_hosted  \n",
       "0                9                 211         2412  \n",
       "1               15                1000          501  \n",
       "2               19                1000          738  \n",
       "3               15                 468         1293  \n",
       "4               12                 699         1342  \n",
       "\n",
       "[5 rows x 27 columns]"
      ]
     },
     "execution_count": 39,
     "metadata": {},
     "output_type": "execute_result"
    }
   ],
   "source": [
    "modified_data[\"days_hosted\"] = delta_days.dt.days\n",
    "modified_data.head()"
   ]
  },
  {
   "cell_type": "markdown",
   "metadata": {},
   "source": [
    "Now the dataset has a column which corresponds to the number of days that a person has hosted an airbnb rather than a date value"
   ]
  },
  {
   "cell_type": "markdown",
   "metadata": {},
   "source": [
    "### instant_bookable"
   ]
  },
  {
   "cell_type": "markdown",
   "metadata": {},
   "source": [
    "instant_bookable would be expected to be a boolean value, however, the field needs to be explored to ensure that the data is in a good state for analysis, and be manipulated if it is not."
   ]
  },
  {
   "cell_type": "code",
   "execution_count": 40,
   "metadata": {},
   "outputs": [
    {
     "name": "stdout",
     "output_type": "stream",
     "text": [
      "Data Type:  object\n",
      "Null Values:  False\n",
      "Number of Unique Values:  2\n"
     ]
    },
    {
     "data": {
      "text/plain": [
       "array(['f', 't'], dtype=object)"
      ]
     },
     "execution_count": 40,
     "metadata": {},
     "output_type": "execute_result"
    }
   ],
   "source": [
    "print('Data Type: ', modified_data.instant_bookable.dtype)\n",
    "print('Null Values: ', modified_data.instant_bookable.isnull().values.any())\n",
    "print('Number of Unique Values: ', np.size(modified_data.instant_bookable.unique()))\n",
    "modified_data.instant_bookable.unique()"
   ]
  },
  {
   "cell_type": "markdown",
   "metadata": {},
   "source": [
    "Since there are no null values, the data simply needs to be converted to a correct boolean value."
   ]
  },
  {
   "cell_type": "code",
   "execution_count": 41,
   "metadata": {},
   "outputs": [
    {
     "name": "stdout",
     "output_type": "stream",
     "text": [
      "Data type for instant_bookable:  bool\n",
      "[False  True]\n"
     ]
    },
    {
     "data": {
      "text/plain": [
       "0    False\n",
       "1     True\n",
       "2     True\n",
       "3    False\n",
       "4     True\n",
       "Name: instant_bookable, dtype: bool"
      ]
     },
     "execution_count": 41,
     "metadata": {},
     "output_type": "execute_result"
    }
   ],
   "source": [
    "bool_equivalent = modified_data.instant_bookable.str.match('t')\n",
    "modified_data.instant_bookable = bool_equivalent\n",
    "\n",
    "print('Data type for instant_bookable: ', modified_data.instant_bookable.dtype)\n",
    "print(modified_data.instant_bookable.unique())\n",
    "modified_data.instant_bookable.head()"
   ]
  },
  {
   "cell_type": "markdown",
   "metadata": {},
   "source": [
    "### number_of_reviews"
   ]
  },
  {
   "cell_type": "markdown",
   "metadata": {},
   "source": [
    "On the surface, the datatype for this field appears to be correct. The field should be investigated further to identify any missing values and handle them appropriately if needed."
   ]
  },
  {
   "cell_type": "code",
   "execution_count": 42,
   "metadata": {},
   "outputs": [
    {
     "name": "stdout",
     "output_type": "stream",
     "text": [
      "Data Type:  int64\n",
      "Null Values:  False\n",
      "Number of Unique Values:  371\n"
     ]
    },
    {
     "data": {
      "text/plain": [
       "array([  2,   6,  10,   0,   4,   3,  15,   9, 159,  82,  29,  13,  12,\n",
       "        26,   5,  57,  73,  14,   1,  40, 248,  17, 138,  11,  44,  34,\n",
       "        85,  18,  31,  30,  19,  25,  22,  23,  28,   7,  32, 144,  16,\n",
       "        38, 105,  59,  67,  21, 120,   8,  61,  87, 206,  43, 104,  47,\n",
       "        63, 186,  36,  27, 167,  48, 102,  51, 126,  81,  58,  72,  68,\n",
       "       107,  79,  98,  39, 187, 123,  70,  78,  55,  54,  52,  42,  75,\n",
       "       128,  60,  90, 254, 135,  64,  99, 191,  24,  66, 139, 125, 129,\n",
       "        74, 318,  33,  35,  37,  20,  46,  83,  45,  41,  49, 289, 190,\n",
       "        62,  88, 127, 154, 118, 216, 136,  69, 314, 112,  77,  56, 181,\n",
       "        53, 117, 101, 106, 255, 114, 110, 192,  76, 113,  91, 182,  84,\n",
       "       146, 119,  86,  50,  71, 157,  95,  94, 158, 142,  97, 194, 173,\n",
       "       122, 132, 171, 111, 161, 208, 131, 384, 133, 116, 134, 148,  89,\n",
       "       156, 179, 150, 147, 145, 202, 258, 178, 200, 155, 163, 149, 267,\n",
       "       100,  65, 207, 172, 121, 180,  80,  92, 263, 193, 251, 199, 103,\n",
       "       166, 237, 290, 137, 153,  96, 425, 185, 140, 168, 162,  93, 360,\n",
       "       143, 214, 141, 246, 217, 195, 196, 109, 273, 305, 351, 152, 189,\n",
       "       269, 221, 317, 218, 336, 272, 175, 215, 188, 278, 383, 169, 160,\n",
       "       203, 165, 115, 108, 130, 256, 198, 323, 465, 302, 469, 124, 220,\n",
       "       204, 170, 480, 287, 225, 492, 224, 201, 288, 389, 343, 306, 303,\n",
       "       222, 212, 228, 236, 205, 281, 327, 211, 270, 174, 176, 291, 209,\n",
       "       164, 227, 337, 400, 252, 183, 268, 280, 335, 298, 260, 242, 366,\n",
       "       322, 304, 226, 197, 378, 249, 234, 279, 219, 329, 262, 349, 151,\n",
       "       213, 311, 542, 253, 367, 238, 184, 449, 354, 232, 275, 177, 391,\n",
       "       356, 379, 264, 339, 241, 370, 532, 231, 495, 229, 326, 240, 292,\n",
       "       257, 296, 309, 282, 210, 328, 313, 294, 230, 277, 530, 332, 394,\n",
       "       286, 284, 297, 347, 308, 247, 250, 243, 223, 338, 451, 274, 605,\n",
       "       453, 385, 266, 525, 283, 344, 307, 295, 321, 271, 244, 320, 285,\n",
       "       239, 259, 423, 388, 233, 235, 276, 474, 374, 505, 353, 331, 334,\n",
       "       382, 380, 358, 265, 376, 315, 341], dtype=int64)"
      ]
     },
     "execution_count": 42,
     "metadata": {},
     "output_type": "execute_result"
    }
   ],
   "source": [
    "print('Data Type: ', modified_data.number_of_reviews.dtype)\n",
    "print('Null Values: ', modified_data.number_of_reviews.isnull().values.any())\n",
    "print('Number of Unique Values: ', np.size(modified_data.number_of_reviews.unique()))\n",
    "modified_data.number_of_reviews.unique()"
   ]
  },
  {
   "cell_type": "markdown",
   "metadata": {},
   "source": [
    "Since there are no missing values, and the datatype has already been correctly assigned, no further action is required."
   ]
  },
  {
   "cell_type": "markdown",
   "metadata": {},
   "source": [
    "### review_scores_rating"
   ]
  },
  {
   "cell_type": "markdown",
   "metadata": {},
   "source": [
    "Similar to the previous field, on the surface, the datatype for this field appears to be correct. The field should be investigated further to identify any missing values and handle them appropriately if needed."
   ]
  },
  {
   "cell_type": "code",
   "execution_count": 43,
   "metadata": {},
   "outputs": [
    {
     "name": "stdout",
     "output_type": "stream",
     "text": [
      "Data Type:  float64\n",
      "Null Values:  True\n",
      "Number of Unique Values:  55\n"
     ]
    },
    {
     "data": {
      "text/plain": [
       "array([100.,  93.,  92.,  nan,  40.,  97.,  99.,  90.,  89.,  91.,  88.,\n",
       "        86.,  72.,  98.,  95.,  96.,  84.,  80.,  94.,  87.,  85.,  70.,\n",
       "        60.,  75.,  20.,  76.,  83.,  82.,  78.,  73.,  55.,  81.,  67.,\n",
       "        71.,  77.,  79.,  47.,  74.,  68.,  66.,  63.,  50.,  53.,  65.,\n",
       "        64.,  27.,  69.,  30.,  58.,  35.,  62.,  49.,  57.,  54.,  56.])"
      ]
     },
     "execution_count": 43,
     "metadata": {},
     "output_type": "execute_result"
    }
   ],
   "source": [
    "print('Data Type: ', modified_data.review_scores_rating.dtype)\n",
    "print('Null Values: ', modified_data.review_scores_rating.isnull().values.any())\n",
    "print('Number of Unique Values: ', np.size(modified_data.review_scores_rating.unique()))\n",
    "modified_data.review_scores_rating.unique()"
   ]
  },
  {
   "cell_type": "markdown",
   "metadata": {},
   "source": [
    "It appears that there are null values in the Series; they should be investigated further to identify the extent to which they will impact any data analysis."
   ]
  },
  {
   "cell_type": "code",
   "execution_count": 44,
   "metadata": {},
   "outputs": [
    {
     "data": {
      "text/plain": [
       "(16634,)"
      ]
     },
     "execution_count": 44,
     "metadata": {},
     "output_type": "execute_result"
    }
   ],
   "source": [
    "modified_data[modified_data.review_scores_rating.isnull() == True][\"review_scores_rating\"].shape"
   ]
  },
  {
   "cell_type": "markdown",
   "metadata": {},
   "source": [
    "Similar to the host response field, there is a significant amount of null values in this field, but not enough to justify dropping the entire column. Additionally, it would not be appropriate to fill in a value into these fields. As a result, the null values will be left as they are. Pandas will be able to handle these values without breaking."
   ]
  },
  {
   "cell_type": "markdown",
   "metadata": {},
   "source": [
    "### thumbnail_url"
   ]
  },
  {
   "cell_type": "markdown",
   "metadata": {},
   "source": [
    "The thumbail_url field may provide insights into the dedication of a host. For the purpose of this project, all that is needed is an indication of whether the field is present or not. As a result, the value of the field should be converted to True is a url exitst, and false if none exists."
   ]
  },
  {
   "cell_type": "code",
   "execution_count": 45,
   "metadata": {},
   "outputs": [
    {
     "name": "stdout",
     "output_type": "stream",
     "text": [
      "Data Type:  object\n",
      "Null Values:  True\n",
      "Number of Unique Values:  65558\n"
     ]
    },
    {
     "data": {
      "text/plain": [
       "array(['https://a0.muscache.com/im/pictures/6d7cbbf7-c034-459c-bc82-6522c957627c.jpg?aki_policy=small',\n",
       "       'https://a0.muscache.com/im/pictures/348a55fe-4b65-452a-b48a-bfecb3b58a66.jpg?aki_policy=small',\n",
       "       'https://a0.muscache.com/im/pictures/6fae5362-9e3a-4fa9-aa54-bbd5ea26538d.jpg?aki_policy=small',\n",
       "       ...,\n",
       "       'https://a0.muscache.com/im/pictures/7fbe448c-5293-4a22-a83e-54c8bc1bbf0d.jpg?aki_policy=small',\n",
       "       'https://a0.muscache.com/im/pictures/b3971b63-06d9-4417-86ca-e6b40c22edca.jpg?aki_policy=small',\n",
       "       'https://a0.muscache.com/im/pictures/22968537/da0156bc_original.jpg?aki_policy=small'],\n",
       "      dtype=object)"
      ]
     },
     "execution_count": 45,
     "metadata": {},
     "output_type": "execute_result"
    }
   ],
   "source": [
    "print('Data Type: ', modified_data.thumbnail_url.dtype)\n",
    "print('Null Values: ', modified_data.thumbnail_url.isnull().values.any())\n",
    "print('Number of Unique Values: ', np.size(modified_data.thumbnail_url.unique()))\n",
    "modified_data.thumbnail_url.unique()"
   ]
  },
  {
   "cell_type": "code",
   "execution_count": 46,
   "metadata": {},
   "outputs": [
    {
     "name": "stdout",
     "output_type": "stream",
     "text": [
      "Data type for thumbnail_url:  bool\n",
      "[ True False]\n"
     ]
    },
    {
     "data": {
      "text/plain": [
       "0     True\n",
       "1     True\n",
       "2     True\n",
       "3     True\n",
       "4    False\n",
       "Name: thumbnail_url, dtype: bool"
      ]
     },
     "execution_count": 46,
     "metadata": {},
     "output_type": "execute_result"
    }
   ],
   "source": [
    "bool_equivalent = ~(modified_data.thumbnail_url.isnull())\n",
    "bool_equivalent\n",
    "modified_data.thumbnail_url = bool_equivalent\n",
    "\n",
    "print('Data type for thumbnail_url: ', modified_data.thumbnail_url.dtype)\n",
    "print(modified_data.thumbnail_url.unique())\n",
    "modified_data.thumbnail_url.head()"
   ]
  },
  {
   "cell_type": "markdown",
   "metadata": {},
   "source": [
    "The thumbnail_url now represents the presence of a thumbnail_url"
   ]
  },
  {
   "cell_type": "markdown",
   "metadata": {},
   "source": [
    "### zipcode"
   ]
  },
  {
   "cell_type": "markdown",
   "metadata": {},
   "source": [
    "Zipcode will be an important attribute for building the data model in the project. As a result, the integrity of this field should be checked, and fixed if needed."
   ]
  },
  {
   "cell_type": "code",
   "execution_count": 47,
   "metadata": {},
   "outputs": [
    {
     "name": "stdout",
     "output_type": "stream",
     "text": [
      "Data Type:  object\n",
      "Null Values:  True\n",
      "Number of Unique Values:  770\n"
     ]
    },
    {
     "data": {
      "text/plain": [
       "array(['11201', '10019', '10027', '94117.0', '20009', '94131', '90292',\n",
       "       '90015', '94121', '91748', '10009.0', '90254', '90277', '90804',\n",
       "       '60622', '02127', '10002', '11226.0', '91401', '11212.0',\n",
       "       '11411.0', nan, '11374', '90028', '10016', '11225', '90036',\n",
       "       '90291', '90026', '11212', '94118', '11211.0', '60605', '90068',\n",
       "       '90057', '90046', '10021', '20037', '10003.0', '11237', '11233',\n",
       "       '60608', '10001.0', '94127', '91403', '11249.0', '10037', '10011',\n",
       "       '10011.0', '10032', '91106', '94107', '20018', '90027', '91601',\n",
       "       '20001', '10022', '91201', '11226', '90013', '11217', '91016',\n",
       "       '10031', '10014', '11101', '94110', '94134', '91501', '10029.0',\n",
       "       '90230', '90039', '11221', '20019', '60647', '20020', '10025',\n",
       "       '10013', '10040', '91604', '94117', '10039', '10038', '60614',\n",
       "       '10003', '20002', '11222', '90042', '94114', '20008', '11238',\n",
       "       '20007', '11206', '91208', '11223', '02130', '02114', '94103',\n",
       "       '91107', '11355', '11220', '91406', '10036', '10024', '90004',\n",
       "       '10012', '10044', '10023', '10028', '20012', '91205', '02132',\n",
       "       '60611', '10473.0', '11249', '90019', '94133', '60639', '91423',\n",
       "       '11238.0', '11232', '10002.0', '11377', '11216', '02129', '91803',\n",
       "       '94115.0', '10128', '11207', '02118', '11213', '11215', '11229',\n",
       "       '90064', '90024', '90265', '02134', '11216.0', '10314', '02111',\n",
       "       '10075', '91605', '91331', '02119', '91384', '11385', '10282',\n",
       "       '90405', '20010', '90717', '60601', '91505', '90012', '90807',\n",
       "       '60654', '02120', '10035.0', '91606', '90703', '11218', '90065',\n",
       "       '02135', '91607', '11378', '94102.0', '90018', '02113', '90404',\n",
       "       '11692', '90403', '90014', '11230', '90302', '10065', '60610',\n",
       "       '90212', '02215', '02108', ' ', '90025', '90038', '90247', '90048',\n",
       "       '91411', '91040', '94112', '91214', '91325', '90802', '20011',\n",
       "       '91602', '90731', '94109', '90069', '60660', '91202', '94102',\n",
       "       '11205', '10010', '11209', '02109', '91104', '90007', '90029',\n",
       "       '11237.0', '11225.0', '11213.0', '11206.0', '02110', '11105',\n",
       "       '90272', '60642', '91741', '60613', '10034', '10030', '10005',\n",
       "       '90016', '10475', '11231.0', '90077', '11103', '90010', '10017',\n",
       "       '11102', '11361', '02124', '90047', '90250', '60661', '90232',\n",
       "       '91745', '60641', '94124', '20003', '91335', '02116', '91343',\n",
       "       '10455', '91306', '20017', '90505', '20016', '11428', '02199',\n",
       "       '90045', '94115', '10033', '90032', '11370.0', '90266', '90732',\n",
       "       '91405', '91765', '11234.0', '94116', '91711', '60625', '20015',\n",
       "       '11211', '90713', '10305', '11354', '11205.0', '90803', '60657',\n",
       "       '11204', '90056', '02152', '02121', '91001', '90814', '11372',\n",
       "       '60615', '11207.0', '90501', '10314.0', '10466', '20007-3413',\n",
       "       '90062', '90005', '91702', '20005', '90066', '11417', '10004',\n",
       "       '90035', '91324', '90006', '91007', '10026', '90210', '90034',\n",
       "       '11236.0', '90017', '10035', '90290', '11201.0', '11412', '10006',\n",
       "       '11234', '90401', '90020', '91364', '91775', '10468', '20024',\n",
       "       '90043', '10018', '90031', '20006', '11203.0', '60645', '10301',\n",
       "       '90249', '20032', '10304', '91750', '11373', '90260', '91105',\n",
       "       '91316', '90094', '94122', '94108', '10453', '02125', '60618',\n",
       "       '11106', '90402', '90041', '11104', '90660', '94123', '10457.0',\n",
       "       '11210', '94105', '10304.0', '91101', '90303', '60653', '20036',\n",
       "       '91008', '11433', '91776', '90305', '11231', '10456.0', '02115',\n",
       "       '60644', '90746', '02128', '11421', '10001', '10474', '90815',\n",
       "       '90008', '11367', '10452', '11233.0', '90211', '11222.0',\n",
       "       '94109.0', '11419', '91724', '11379', '60607', '60637', '91789',\n",
       "       '90049', '91302', '60640', '10463', '10306', '11434', '11416',\n",
       "       '91356', '90293', '60616', '91344', '91754', '90301', '10310',\n",
       "       '90278', '90745', '11426', '11228', '10013.0', '60612', '90275',\n",
       "       '11208.0', '60606', '60646', '11221.0', '91732', '20743', '91311',\n",
       "       '90033', '90502', '11235', '91770', '02136', '11361.0', '91307',\n",
       "       '91367', '11369.0', '11109', '20004', '60626', '11228.0', '91350',\n",
       "       '10465', '91030', '91352', '91042', '10009', '10010.0', '91006',\n",
       "       '90245', '99135', '11364', '10003-8623', '11693', '91326', '91203',\n",
       "       '11418', '11691', '90808', '60621', '11435', '91381', '07306',\n",
       "       '11413', '02131', '90723', '10037.0', '91746', '90704', '90220',\n",
       "       '11373.0', '94132', '91354', '02467', '11415', '91210', '10460',\n",
       "       '90037', '91206', '10014.0', '60630', '02122', '10464', '90001',\n",
       "       '90813', '11224.0', '91010', '91801', '10456', '02145', '91301',\n",
       "       '60659', '90248', '91361', '90806', '02126', '11436', '60624',\n",
       "       '91766', '90631', '93551', '91733', '91504', '11214', '91755',\n",
       "       '11429', '94014.0', '60634', '11368.0', '11219', '91304',\n",
       "       '10027.0', '90021', '10470', '10471', '20712', '10463.0', '91780',\n",
       "       '10469', '90503', '90011', '10462', '11360', '02210', '91321',\n",
       "       '90810', '11375', '91767', '60602', '60649', '93550', '90058',\n",
       "       '90712', '10461', '90504', '10451.0', '60707', '91011', '11203',\n",
       "       '11365', '10459', '91502', '11414', '91790', '94158', '10007',\n",
       "       '11210.0', '91791', '11356.0', '11422', '60609', '91506', '90044',\n",
       "       '02139', '90280', '94111', '90638', '11217.0', '90063', '91773',\n",
       "       '11432', '11358', '91024', '90710', '90602', '60623', '91103',\n",
       "       '90059', '90262', '10038.0', '11368', '91744', '10026.0', '60619',\n",
       "       '91303', '91355', '91402', '90095', '20064', '11370', '10280',\n",
       "       '90274', '90706', '10472', '91723', '90755', '11219.0', '60629',\n",
       "       '91020', '91207', '93543', '91792', '10281', '10312.0', '10453.0',\n",
       "       '91390', '60302',\n",
       "       '95202\\r\\r\\r\\r\\r\\r\\n\\r\\r\\r\\r\\r\\r\\n\\r\\r\\r\\r\\r\\r\\n94158', '90805',\n",
       "       '94103.0', '10454', '20816', '60632', '93535', '10301.0', '60651',\n",
       "       '10459.0', '02445', '10458', '91768', '10452.0', '10119.0',\n",
       "       '90603', '20748', '10471.0', '02143', '91731', '91436', '10069',\n",
       "       '10048', '90304', '10036.0', '10305.0', '60628', '90061', '94130',\n",
       "       '10467.0', '94118.0', '10467', '90604', '11224', '91342', '11420',\n",
       "       '90650', '10025.0', '90023', '93536', '11427', '91204', '60636',\n",
       "       '94104', '91108', '11580.0', '91706', '94114.0', '20782', '91387',\n",
       "       '10457', '91362', '60638', '90744', '91740', '90242', '10475.0',\n",
       "       '90640', '90201', '10451', '02163', '20052', '93534', '10128.0',\n",
       "       '90003', '93563', '10019.0', '10065.0', '11694', '90601', '92397',\n",
       "       '91340', '10312', '60631', '60620', '10129.0', '91308', '10018.0',\n",
       "       '90255', '90716', '20268', '02446', '91722', '94121.0', '60656',\n",
       "       '90605', '92614', '10303', '91523', '90670', '10460.0', '91351',\n",
       "       '93532', '90715', '11103-3233', '11106.0', '60643', '94014',\n",
       "       '10106', '10302', '90040', '20815', '10473', '10000', '94129',\n",
       "       '11385-2308', '10029', '93552', '10118', '94104.0', '90022',\n",
       "       '90701', '11236', '90241', '11366', '60652', '11004', '90840',\n",
       "       '10030.0', '91345', '10550.0', '15074', '20781', '91606-1412',\n",
       "       '20910', '90067', '11249\\r\\r\\r\\r\\r\\r\\n11249', '10308', '90240',\n",
       "       '11004.0', '11426-1175', '11357', '11379.0', '10270', '90221',\n",
       "       '90002', '90606', '11374.0', '11423', '11362.0', '10016.0',\n",
       "       '92880', '91001-2243', '91764', '60617', 'Near 91304', '93105',\n",
       "       '90071', '20229', '10129', '11372.0', '94122.0', '10307',\n",
       "       '11377.0', '10002-2289', '92821', '90039-2715', '90630', '11363.0',\n",
       "       '210', '20001-4044', '11220.0', '11362', '11694.0', '20372',\n",
       "       '90222', '10307.0', '60633', '7302.0', '20912', '60805', '10007.0',\n",
       "       '91786', '10279', '02138', '10704', '91802', '90403-2638', '91377',\n",
       "       '1m', '91708', '11209.0', '90034-2203', '90035-4475', '11509.0',\n",
       "       '11412.0', '11001', '11411', '60660-1448', '90036-2514', '11429.0',\n",
       "       '60603', '10308.0', '94401', '02186', '10162', '02458', '02472',\n",
       "       '11215.0', '10004.0', '10309', '9004', '10282.0', '11239.0',\n",
       "       '10012.0'], dtype=object)"
      ]
     },
     "execution_count": 47,
     "metadata": {},
     "output_type": "execute_result"
    }
   ],
   "source": [
    "print('Data Type: ', modified_data.zipcode.dtype)\n",
    "print('Null Values: ', modified_data.zipcode.isnull().values.any())\n",
    "print('Number of Unique Values: ', np.size(modified_data.zipcode.unique()))\n",
    "modified_data.zipcode.unique()"
   ]
  },
  {
   "cell_type": "markdown",
   "metadata": {},
   "source": [
    "This field is particularly messy, and has missing values. To determine the best course of action, the number of null fields should be deteremined."
   ]
  },
  {
   "cell_type": "code",
   "execution_count": 48,
   "metadata": {},
   "outputs": [
    {
     "name": "stdout",
     "output_type": "stream",
     "text": [
      "zipcode nulls:  (960,)\n",
      "longitude nulls:  (0,)\n",
      "latitude nulls:  (0,)\n"
     ]
    }
   ],
   "source": [
    "print('zipcode nulls: ', modified_data[modified_data.zipcode.isnull() == True][\"zipcode\"].shape)\n",
    "print('longitude nulls: ', modified_data[modified_data.longitude.isnull() == True][\"longitude\"].shape)\n",
    "print('latitude nulls: ', modified_data[modified_data.latitude.isnull() == True][\"latitude\"].shape)"
   ]
  },
  {
   "cell_type": "markdown",
   "metadata": {},
   "source": [
    "Since there are no null longitude and latitude values, these can be used to calculate the zipcodes, which will eliminate any missing values, and cleanup the messy values."
   ]
  },
  {
   "cell_type": "code",
   "execution_count": 128,
   "metadata": {},
   "outputs": [
    {
     "name": "stdout",
     "output_type": "stream",
     "text": [
      "90046-2549\n",
      "11215\n",
      "10038\n",
      "90048\n",
      "11237\n",
      "10010\n",
      "11235\n",
      "10002\n",
      "91601-3121\n",
      "11226\n",
      "11204\n",
      "11226\n",
      "90029-3737\n",
      "(718) 778-0140\n",
      "11211\n",
      "60637\n",
      "94115\n",
      "11237\n",
      "10452\n",
      "02119\n",
      "10038\n",
      "91702\n",
      "10002\n",
      "60605\n",
      "20001\n",
      "10013\n",
      "94143\n",
      "90007\n",
      "90064-1508\n",
      "10021\n",
      "20005:20018\n",
      "90028\n",
      "20010\n",
      "90292\n",
      "90035\n",
      "91765\n",
      "11233\n",
      "11221\n",
      "90278\n",
      "90802\n",
      "11237\n",
      "91316\n",
      "10001\n",
      "2005\n",
      "90033\n",
      "10011\n",
      "94121-3131\n",
      "90042-4229\n",
      "20057\n",
      "60622\n",
      "11211\n",
      "94164\n",
      "90046-2549\n",
      "94103\n",
      "02199\n",
      "02116\n",
      "20002\n",
      "90025\n",
      "10002\n",
      "10031\n",
      "10037\n",
      "10019\n",
      "90048\n",
      "10039\n",
      "94104\n",
      "94158\n",
      "10012\n",
      "02118\n",
      "10009\n",
      "94188\n",
      "10128\n",
      "90034-5702\n",
      "90036\n",
      "90014\n",
      "20010\n",
      "91775\n",
      "11109\n",
      "10035\n",
      "02150\n",
      "11211\n",
      "11203\n",
      "90071\n",
      "90232\n",
      "0\n",
      "11224\n",
      "91103\n",
      "10007\n",
      "20002\n",
      "90025\n",
      "20036-5305\n",
      "NY 11221\n",
      "90214\n",
      "11249\n",
      "91403\n",
      "11231\n",
      "11211\n",
      "90291\n",
      "10032\n",
      "10023\n",
      "11231\n",
      "11226\n",
      "CA 90291\n",
      "20016\n",
      "90802\n",
      "20015\n",
      "91301\n",
      "10002\n",
      "10035\n",
      "10034\n",
      "10016\n",
      "91773\n",
      "91387\n",
      "90805\n",
      "94118-1316\n",
      "10012-3332\n",
      "90805\n",
      "60610\n",
      "90292\n",
      "10025-4403\n",
      "11211\n",
      "90403\n",
      "0\n",
      "94111\n",
      "10016\n",
      "90069\n",
      "11101\n",
      "10038\n",
      "11237\n",
      "20009\n",
      "90041\n",
      "90023\n",
      "11211\n",
      "20010\n",
      "10036\n",
      "CA 90405\n",
      "94017\n",
      "60622\n",
      "10036\n",
      "90034\n",
      "11232-2400\n",
      "20219\n",
      "11101\n",
      "10011\n",
      "94164\n",
      "11211\n",
      "90212\n",
      "90064\n",
      "10014\n",
      "90291-3879\n",
      "11221\n",
      "11103\n",
      "20005\n",
      "10022\n",
      "20002\n",
      "20011\n",
      "11249\n",
      "10031\n",
      "90265-4797\n",
      "10019\n",
      "91464\n",
      "20005:20018\n",
      "90026-2106\n",
      "90038\n",
      "60622\n",
      "90066\n",
      "90029-2522\n",
      "10128\n",
      "90038\n",
      "11101\n",
      "11693\n",
      "0\n",
      "10001\n",
      "10019\n",
      "20002\n",
      "90277\n",
      "10016\n",
      "20003\n",
      "MA 02109\n",
      "91601\n",
      "10069\n",
      "91188\n",
      "90068\n",
      "0\n",
      "CA 90024\n",
      "11101\n",
      "11225\n",
      "90292\n",
      "90043\n",
      "91605\n",
      "91601\n",
      "90048\n",
      "90746\n",
      "11211\n",
      "11237\n",
      "11220\n",
      "0\n",
      "10031\n",
      "90265\n",
      "94107\n",
      "91601-3121\n",
      "10016\n",
      "94102\n",
      "10012\n",
      "10009\n",
      "10002\n",
      "10030\n",
      "14123\n",
      "11235\n",
      "90291\n",
      "20009\n",
      "606\n",
      "11211\n",
      "10009\n",
      "11226\n",
      "90717\n",
      "11103\n",
      "11211\n",
      "60622\n",
      "90814\n",
      "90028-5420\n",
      "11375\n",
      "90277\n",
      "90254\n",
      "11366\n",
      "10027\n",
      "10003\n",
      "90048\n",
      "90277\n",
      "10003\n",
      "90006-4005\n",
      "02445-5841\n",
      "11216\n",
      "10019\n",
      "10012\n",
      "90274\n",
      "90028-5420\n",
      "11206\n",
      "CA 90404\n",
      "20019\n",
      "11231\n",
      "94017\n",
      "10006\n",
      "91302-1405\n",
      "02114\n",
      "91403\n",
      "94133\n",
      "94107\n",
      "10009\n",
      "CA 91765\n",
      "20002\n",
      "10021\n",
      "94118-1316\n",
      "11205\n",
      "90277\n",
      "10040\n",
      "10034\n",
      "CA 90012\n",
      "10001\n",
      "20057\n",
      "10014\n",
      "90013\n",
      "11354\n",
      "60625\n",
      "0\n",
      "10012\n",
      "90605\n",
      "20001\n",
      "90038\n",
      "90066-3941\n",
      "02128\n",
      "11205\n",
      "10013\n",
      "CA 90405\n",
      "90275\n",
      "91601\n",
      "11223\n",
      "20009\n",
      "91301\n",
      "11217\n",
      "90046\n",
      "10019\n",
      "11203\n",
      "10037\n",
      "90265\n",
      "11213\n",
      "11222\n",
      "11211\n",
      "20007\n",
      "90291-3879\n",
      "90064-1508\n",
      "60657\n",
      "10037\n",
      "90019\n",
      "94117-9991\n",
      "11211\n",
      "90069\n",
      "10032\n",
      "10003\n",
      "90036\n",
      "10003\n",
      "10034\n",
      "10012\n",
      "10009\n",
      "94143\n",
      "10025-4403\n",
      "10011\n",
      "90402\n",
      "11221\n",
      "20001\n",
      "91601\n",
      "10036\n",
      "90046-4101\n",
      "10003\n",
      "10007\n",
      "91324-2036\n",
      "94114-1818\n",
      "10009\n",
      "11215\n",
      "94115-4620\n",
      "10033\n",
      "90046-2549\n",
      "90028\n",
      "10019\n",
      "11211\n",
      "11207\n",
      "90013\n",
      "91401\n",
      "11373\n",
      "91423\n",
      "11231\n",
      "94158\n",
      "60616\n",
      "10002\n",
      "11233\n",
      "90028-8127\n",
      "90401-2405\n",
      "20010\n",
      "90024-2704\n",
      "10009\n",
      "02117\n",
      "93534\n",
      "90065-1256\n",
      "11216\n",
      "20003\n",
      "90403\n",
      "11208\n",
      "11216\n",
      "10003\n",
      "10025\n",
      "94134\n",
      "90064-1508\n",
      "10024\n",
      "90046-2549\n",
      "20005:20018\n",
      "90028\n",
      "CA 91607\n",
      "20036\n",
      "10036\n",
      "91766\n",
      "0\n",
      "90210-1333\n",
      "10002\n",
      "11106\n",
      "11231\n",
      "10017\n",
      "11211\n",
      "91401-2649\n",
      "94131\n",
      "10040\n",
      "91302-1405\n",
      "20001\n",
      "CA 91801\n",
      "11233\n",
      "11211\n",
      "11206\n",
      "94133\n",
      "90026\n",
      "90046-4101\n",
      "91522\n",
      "10012\n",
      "91352-2054\n",
      "91188\n",
      "10027\n",
      "11120\n",
      "94102\n",
      "91604\n",
      "20024\n",
      "10031\n",
      "60651\n",
      "10018\n",
      "11235\n",
      "10014\n",
      "11211\n",
      "11233\n",
      "90046\n",
      "11102\n",
      "11207\n",
      "90210\n",
      "10019\n",
      "MA 02109\n",
      "60637\n",
      "90057\n",
      "11226\n",
      "91464\n",
      "60618\n",
      "91403-1530\n",
      "11207\n",
      "CA 94110\n",
      "11237\n",
      "11355\n",
      "90046\n",
      "94122-1515\n",
      "10019\n",
      "02130-0947\n",
      "10007\n",
      "60612\n",
      "94164\n",
      "11238\n",
      "11436\n",
      "11211\n",
      "0\n",
      "90069\n",
      "94107\n",
      "90036\n",
      "11233\n",
      "94108\n",
      "20010\n",
      "90007\n",
      "90064\n",
      "11206\n",
      "11213\n",
      "10014\n",
      "10011\n",
      "90046-2549\n",
      "10037\n",
      "90046\n",
      "10001\n",
      "90291-3879\n",
      "11120\n",
      "94123\n",
      "11216\n",
      "11221\n",
      "91030\n",
      "90029-3737\n",
      "10028\n",
      "10005\n",
      "11205\n",
      "10011\n",
      "10036\n",
      "20260\n",
      "60647\n",
      "90005\n",
      "90046-4101\n",
      "90048\n",
      "91206\n",
      "CA 90012\n",
      "10003\n",
      "90046-4101\n",
      "11237\n",
      "11220\n",
      "60654\n",
      "11211\n",
      "90066-3941\n",
      "11233\n",
      "10011\n",
      "60647\n",
      "10305\n",
      "11206\n",
      "11101\n",
      "0\n",
      "11233\n",
      "10036\n",
      "94164\n",
      "60630\n",
      "10001\n",
      "94117\n",
      "10036\n",
      "91109\n",
      "14123\n",
      "10039\n",
      "11201\n",
      "10002\n",
      "90046-4101\n",
      "90277\n",
      "CA 90404\n",
      "11235\n",
      "91607\n",
      "10003\n",
      "02107\n",
      "10038\n",
      "11221\n",
      "91301\n",
      "90405\n",
      "MA 02109\n",
      "10025\n",
      "90245\n",
      "CA 90272\n",
      "20006\n",
      "CA 94110\n",
      "91321\n",
      "CA 90013\n",
      "02199\n",
      "10025\n",
      "10002\n",
      "91109\n",
      "90012-2410\n",
      "90041-3327\n",
      "20009-5540\n",
      "90401-2405\n",
      "90291-3879\n",
      "10001\n",
      "CA 91403\n",
      "11221\n",
      "10025\n",
      "94107\n",
      "90026-3148\n",
      "11235\n",
      "11233\n",
      "90025\n",
      "11215\n",
      "0\n",
      "90089\n",
      "94102\n",
      "20009\n",
      "90016\n",
      "11421\n",
      "02130\n",
      "94143\n",
      "94112\n",
      "11223\n",
      "10039\n",
      "90212\n",
      "91302\n",
      "94124\n",
      "10024\n",
      "10023\n",
      "60651\n",
      "11233\n",
      "91104\n",
      "20540\n",
      "20016\n",
      "94114\n",
      "10009\n",
      "20011\n",
      "91606\n",
      "90077\n",
      "90028-8127\n",
      "90291\n",
      "10457\n",
      "90066\n",
      "10128\n",
      "10014\n",
      "20566\n",
      "10462\n",
      "60644\n",
      "CA 94110\n",
      "20007\n",
      "11237\n",
      "02131-3025\n",
      "10009\n",
      "10040\n",
      "11226\n",
      "20011\n",
      "11215\n",
      "11211\n",
      "90212\n",
      "94121-3131\n",
      "10032\n",
      "10025\n",
      "20007\n",
      "10007\n",
      "90306\n",
      "10036\n",
      "11206\n",
      "11211\n",
      "10014\n",
      "11211\n",
      "20001\n",
      "90292\n",
      "11210\n",
      "10024\n",
      "11693\n",
      "10002\n",
      "90214\n",
      "10024\n",
      "10019\n",
      "90278\n",
      "10025-4403\n",
      "20036\n",
      "10009\n",
      "60622\n",
      "10001\n",
      "11237\n",
      "10039\n",
      "11215\n",
      "10005\n",
      "94102\n",
      "60610\n",
      "94117\n",
      "60610\n",
      "90846\n",
      "90402\n",
      "14123\n",
      "11213\n",
      "10029\n",
      "11211\n",
      "90046-4101\n",
      "10002\n",
      "10025\n",
      "11101\n",
      "11203\n",
      "10011\n",
      "11238\n",
      "60640\n",
      "20002\n",
      "20011\n",
      "11368\n",
      "90069\n",
      "CA 90013\n",
      "91007\n",
      "11206\n",
      "02114\n",
      "11215\n",
      "11211\n",
      "90027-5517\n",
      "02199\n",
      "90292\n",
      "CA 90069\n",
      "20012\n",
      "60614\n",
      "91307\n",
      "11233\n",
      "11201\n",
      "60622\n",
      "90029-3737\n",
      "20002\n",
      "90017\n",
      "90036\n",
      "94103\n",
      "90065-1256\n",
      "20009\n",
      "11206\n",
      "11102\n",
      "NY 11221\n",
      "11238\n",
      "11206\n",
      "11377\n",
      "11373\n",
      "20002\n",
      "11211\n",
      "10009\n",
      "90048\n",
      "CA 90265\n",
      "CA 91403\n",
      "10021\n",
      "10013\n",
      "60605\n",
      "90016\n",
      "CA 90291\n",
      "11238\n",
      "10031\n",
      "90292\n",
      "CA 90405\n",
      "11207\n",
      "11225\n",
      "10002\n",
      "60647\n",
      "94103\n",
      "10031\n",
      "20005:20018\n",
      "10019\n",
      "11211\n",
      "11211\n",
      "11362\n",
      "91006\n",
      "10014\n",
      "11203\n",
      "95115\n",
      "0\n",
      "10011\n",
      "10001\n",
      "91316\n",
      "90046-2549\n",
      "11222\n",
      "90405\n",
      "20010\n",
      "60654-5799\n",
      "90292\n",
      "91766\n",
      "94143\n",
      "11221\n",
      "90046\n",
      "91607\n",
      "91001\n",
      "20003\n",
      "10021\n",
      "11238\n",
      "CA 90069\n",
      "94118-4504\n",
      "93552\n",
      "11372\n",
      "20009\n",
      "11235\n",
      "60653\n",
      "10001\n",
      "91307\n",
      "11385\n",
      "10002\n",
      "02121\n",
      "10010\n",
      "94115\n",
      "90066\n",
      "91205\n",
      "10452\n",
      "60612\n",
      "10031\n",
      "10036\n",
      "90807\n",
      "91411\n",
      "90046-2549\n",
      "CA 91607\n",
      "11221\n",
      "10019\n",
      "90046\n",
      "10002\n",
      "90291-3879\n",
      "90028\n",
      "0\n",
      "90214\n",
      "MA 02118\n",
      "11101\n",
      "02120\n",
      "10035\n",
      "10002\n",
      "11101\n",
      "90046-4101\n",
      "90046-4101\n",
      "10011\n",
      "20010\n",
      "91344-7401\n",
      "10029\n",
      "11379\n",
      "91605\n",
      "90028\n",
      "11233\n",
      "10039\n",
      "11418\n",
      "20032\n",
      "11224\n",
      "10011\n",
      "90046-2549\n",
      "90071\n",
      "10018\n",
      "11237\n",
      "90019\n",
      "CA 90048\n",
      "20018\n",
      "20219\n",
      "10016\n",
      "11237\n",
      "20001\n",
      "CA 90069\n",
      "10013\n",
      "11211\n",
      "60625\n",
      "91602\n",
      "10006\n",
      "10009\n",
      "10040\n",
      "94116\n",
      "10009\n",
      "20018\n",
      "11101\n",
      "90073\n",
      "11211\n",
      "94102\n",
      "94104\n",
      "60647\n",
      "94131\n",
      "11103\n",
      "10032\n",
      "11221\n",
      "10013\n",
      "94103-3124\n",
      "10037\n",
      "94114\n",
      "10011\n",
      "20009-5540\n",
      "90036\n",
      "11368\n",
      "NY 11221\n",
      "90029-3507\n",
      "90006\n",
      "10014\n",
      "10019\n",
      "11233\n",
      "10016\n",
      "CA 94110\n",
      "11207\n",
      "10010\n",
      "10029\n",
      "90035\n",
      "11222\n",
      "10036\n",
      "94115-4620\n",
      "10006\n",
      "91184\n",
      "90046-4101\n",
      "10035\n",
      "10036\n",
      "11217\n",
      "10002\n",
      "10027\n",
      "10011\n",
      "91724\n",
      "11102\n",
      "11206\n",
      "90069\n",
      "91344-1701\n",
      "20012\n",
      "20002\n",
      "11230\n",
      "11235\n",
      "20007:20016\n",
      "90028-5420\n",
      "10454\n",
      "11237\n",
      "11222\n",
      "90802\n",
      "90214\n",
      "11226\n",
      "91104\n",
      "10028\n",
      "11215\n",
      "11235\n",
      "90049\n",
      "60640\n",
      "90068\n",
      "11203\n",
      "10009\n",
      "10035\n",
      "11222\n",
      "91601\n",
      "10003\n",
      "94117\n",
      "11203\n",
      "90023\n",
      "11249\n",
      "20010\n",
      "60622\n",
      "90026\n",
      "91352-2054\n",
      "90042\n",
      "CA 90038\n",
      "10035\n",
      "10036\n",
      "90293\n",
      "91302\n",
      "20540\n",
      "10002\n",
      "10017\n",
      "90028\n",
      "10115\n",
      "11377\n",
      "90401-2405\n",
      "90732\n",
      "11426\n",
      "10009:10010\n",
      "60613\n",
      "11221\n",
      "11206\n",
      "91605-5738\n",
      "10037\n",
      "0\n",
      "90019\n",
      "02127\n",
      "10002\n",
      "CA 90291\n",
      "10036\n",
      "MA 02109\n",
      "94121-1545\n",
      "20017\n",
      "20002\n",
      "10279\n",
      "10128\n",
      "10031\n",
      "91205\n",
      "11221\n",
      "94129\n",
      "94123\n",
      "10037\n",
      "10014\n",
      "11101\n",
      "20011\n",
      "10014\n",
      "90028-5420\n",
      "91303-2211\n",
      "91604\n",
      "10019\n",
      "94108\n",
      "91101\n",
      "11226\n",
      "11222\n",
      "90029-2631\n",
      "10009\n",
      "11369\n",
      "02107\n",
      "60610\n",
      "11203\n",
      "11365\n",
      "11233\n",
      "CA 90291\n",
      "90277\n",
      "94164\n",
      "10012\n",
      "94122\n",
      "91405\n",
      "90062\n",
      "94122-1515\n",
      "11233\n",
      "91316\n",
      "94109\n",
      "90211\n",
      "CA 90404\n",
      "CA 91406\n",
      "11221\n",
      "91205\n",
      "60612\n",
      "10011\n",
      "11215\n",
      "20009\n",
      "10016\n",
      "0\n",
      "91748\n",
      "94111\n",
      "10017-6927\n",
      "90019\n",
      "10016\n",
      "11102\n",
      "90028\n",
      "20003\n",
      "91406-5441\n",
      "91105\n",
      "11221\n",
      "60601\n",
      "90028-5420\n",
      "60622\n",
      "11211\n",
      "90069\n",
      "10021\n",
      "90048\n",
      "90265\n",
      "90292\n",
      "MA 02135\n",
      "94123\n",
      "11101\n",
      "20020\n",
      "90804\n",
      "10019\n",
      "90214\n"
     ]
    }
   ],
   "source": [
    "from urllib.request import urlopen, Request\n",
    "from xml.etree import ElementTree\n",
    "import time\n",
    "import re\n",
    "\n",
    "def reverseLookup(lat, long):\n",
    "    headers = {'User-Agent': 'Mozilla/5.0 (Windows NT 6.1) AppleWebKit/537.36 (KHTML, like Gecko) Chrome/41.0.2228.0 Safari/537.3'}\n",
    "    reg_url = 'https://nominatim.openstreetmap.org/reverse?format=xml&lat={}&lon={}&zoom=16'.format(lat, long)\n",
    "    req = Request(url=reg_url, headers=headers) \n",
    "    html = urlopen(req).read() \n",
    "    \n",
    "    tree = ElementTree.fromstring(html)\n",
    "    \n",
    "    try:\n",
    "        zipcode = tree[1].find('postcode').text\n",
    "    except:\n",
    "        zipcode = 0\n",
    "    \n",
    "    print(zipcode)\n",
    "\n",
    "    #Should delay to prevent bogging down network or overwhelming the openstreetmap servers\n",
    "    time.sleep(0.1)\n",
    "    return zipcode\n",
    "\n",
    "\n",
    "def getZipcode(row):\n",
    "    if pd.isnull(row.zipcode):\n",
    "        zipcode = reverseLookup(row.latitude, row.longitude)\n",
    "        row.zipcode = zipcode\n",
    "        return row\n",
    "    else:\n",
    "        return row\n",
    "\n",
    "modified_data = modified_data.apply(getZipcode, axis=1)"
   ]
  },
  {
   "cell_type": "code",
   "execution_count": 129,
   "metadata": {},
   "outputs": [
    {
     "name": "stdout",
     "output_type": "stream",
     "text": [
      "zipcode nulls:  (0,)\n"
     ]
    }
   ],
   "source": [
    "print('zipcode nulls: ', modified_data[modified_data.zipcode.isnull() == True][\"zipcode\"].shape)"
   ]
  },
  {
   "cell_type": "markdown",
   "metadata": {},
   "source": [
    "Now there are no more null zip codes, but any zip codes that could not be retreived were stored as 0."
   ]
  },
  {
   "cell_type": "code",
   "execution_count": 130,
   "metadata": {},
   "outputs": [
    {
     "name": "stdout",
     "output_type": "stream",
     "text": [
      "zipcode nulls:  (14,)\n"
     ]
    }
   ],
   "source": [
    "print('zipcode nulls: ', modified_data[modified_data.zipcode == 0][\"zipcode\"].shape)"
   ]
  },
  {
   "cell_type": "markdown",
   "metadata": {},
   "source": [
    "These should be removed from the data"
   ]
  },
  {
   "cell_type": "code",
   "execution_count": 132,
   "metadata": {},
   "outputs": [],
   "source": [
    "i = modified_data[modified_data.zipcode == 0].index\n",
    "modified_data.drop(i, inplace=True)"
   ]
  },
  {
   "cell_type": "markdown",
   "metadata": {},
   "source": [
    "Additionally, some zipcodes have state codes in front of them, and some have additional zip code information after the first 5 digits. In order to keep the zip codes uniform, state codes should be removed, and the digits after the 5 digits should be removed."
   ]
  },
  {
   "cell_type": "code",
   "execution_count": 152,
   "metadata": {},
   "outputs": [
    {
     "data": {
      "text/html": [
       "<div>\n",
       "<style scoped>\n",
       "    .dataframe tbody tr th:only-of-type {\n",
       "        vertical-align: middle;\n",
       "    }\n",
       "\n",
       "    .dataframe tbody tr th {\n",
       "        vertical-align: top;\n",
       "    }\n",
       "\n",
       "    .dataframe thead th {\n",
       "        text-align: right;\n",
       "    }\n",
       "</style>\n",
       "<table border=\"1\" class=\"dataframe\">\n",
       "  <thead>\n",
       "    <tr style=\"text-align: right;\">\n",
       "      <th></th>\n",
       "      <th>log_price</th>\n",
       "      <th>property_type</th>\n",
       "      <th>room_type</th>\n",
       "      <th>amenities</th>\n",
       "      <th>accommodates</th>\n",
       "      <th>bathrooms</th>\n",
       "      <th>bed_type</th>\n",
       "      <th>cancellation_policy</th>\n",
       "      <th>cleaning_fee</th>\n",
       "      <th>city</th>\n",
       "      <th>...</th>\n",
       "      <th>longitude</th>\n",
       "      <th>number_of_reviews</th>\n",
       "      <th>review_scores_rating</th>\n",
       "      <th>thumbnail_url</th>\n",
       "      <th>zipcode</th>\n",
       "      <th>bedrooms</th>\n",
       "      <th>beds</th>\n",
       "      <th>amenities_count</th>\n",
       "      <th>description_length</th>\n",
       "      <th>days_hosted</th>\n",
       "    </tr>\n",
       "  </thead>\n",
       "  <tbody>\n",
       "    <tr>\n",
       "      <th>0</th>\n",
       "      <td>5.010635</td>\n",
       "      <td>Apartment</td>\n",
       "      <td>Entire home/apt</td>\n",
       "      <td>{\"Wireless Internet\",\"Air conditioning\",Kitche...</td>\n",
       "      <td>3</td>\n",
       "      <td>1.0</td>\n",
       "      <td>Real Bed</td>\n",
       "      <td>strict</td>\n",
       "      <td>True</td>\n",
       "      <td>NYC</td>\n",
       "      <td>...</td>\n",
       "      <td>-73.991617</td>\n",
       "      <td>2</td>\n",
       "      <td>100.0</td>\n",
       "      <td>True</td>\n",
       "      <td>11201</td>\n",
       "      <td>1.0</td>\n",
       "      <td>1.0</td>\n",
       "      <td>9</td>\n",
       "      <td>211</td>\n",
       "      <td>2412</td>\n",
       "    </tr>\n",
       "    <tr>\n",
       "      <th>1</th>\n",
       "      <td>5.129899</td>\n",
       "      <td>Apartment</td>\n",
       "      <td>Entire home/apt</td>\n",
       "      <td>{\"Wireless Internet\",\"Air conditioning\",Kitche...</td>\n",
       "      <td>7</td>\n",
       "      <td>1.0</td>\n",
       "      <td>Real Bed</td>\n",
       "      <td>strict</td>\n",
       "      <td>True</td>\n",
       "      <td>NYC</td>\n",
       "      <td>...</td>\n",
       "      <td>-73.989040</td>\n",
       "      <td>6</td>\n",
       "      <td>93.0</td>\n",
       "      <td>True</td>\n",
       "      <td>10019</td>\n",
       "      <td>3.0</td>\n",
       "      <td>3.0</td>\n",
       "      <td>15</td>\n",
       "      <td>1000</td>\n",
       "      <td>501</td>\n",
       "    </tr>\n",
       "    <tr>\n",
       "      <th>2</th>\n",
       "      <td>4.976734</td>\n",
       "      <td>Apartment</td>\n",
       "      <td>Entire home/apt</td>\n",
       "      <td>{TV,\"Cable TV\",\"Wireless Internet\",\"Air condit...</td>\n",
       "      <td>5</td>\n",
       "      <td>1.0</td>\n",
       "      <td>Real Bed</td>\n",
       "      <td>moderate</td>\n",
       "      <td>True</td>\n",
       "      <td>NYC</td>\n",
       "      <td>...</td>\n",
       "      <td>-73.943756</td>\n",
       "      <td>10</td>\n",
       "      <td>92.0</td>\n",
       "      <td>True</td>\n",
       "      <td>10027</td>\n",
       "      <td>1.0</td>\n",
       "      <td>3.0</td>\n",
       "      <td>19</td>\n",
       "      <td>1000</td>\n",
       "      <td>738</td>\n",
       "    </tr>\n",
       "    <tr>\n",
       "      <th>3</th>\n",
       "      <td>6.620073</td>\n",
       "      <td>House</td>\n",
       "      <td>Entire home/apt</td>\n",
       "      <td>{TV,\"Cable TV\",Internet,\"Wireless Internet\",Ki...</td>\n",
       "      <td>4</td>\n",
       "      <td>1.0</td>\n",
       "      <td>Real Bed</td>\n",
       "      <td>flexible</td>\n",
       "      <td>True</td>\n",
       "      <td>SF</td>\n",
       "      <td>...</td>\n",
       "      <td>-122.431619</td>\n",
       "      <td>0</td>\n",
       "      <td>NaN</td>\n",
       "      <td>True</td>\n",
       "      <td>94117.0</td>\n",
       "      <td>2.0</td>\n",
       "      <td>2.0</td>\n",
       "      <td>15</td>\n",
       "      <td>468</td>\n",
       "      <td>1293</td>\n",
       "    </tr>\n",
       "    <tr>\n",
       "      <th>4</th>\n",
       "      <td>4.744932</td>\n",
       "      <td>Apartment</td>\n",
       "      <td>Entire home/apt</td>\n",
       "      <td>{TV,Internet,\"Wireless Internet\",\"Air conditio...</td>\n",
       "      <td>2</td>\n",
       "      <td>1.0</td>\n",
       "      <td>Real Bed</td>\n",
       "      <td>moderate</td>\n",
       "      <td>True</td>\n",
       "      <td>DC</td>\n",
       "      <td>...</td>\n",
       "      <td>-77.034596</td>\n",
       "      <td>4</td>\n",
       "      <td>40.0</td>\n",
       "      <td>False</td>\n",
       "      <td>20009</td>\n",
       "      <td>0.0</td>\n",
       "      <td>1.0</td>\n",
       "      <td>12</td>\n",
       "      <td>699</td>\n",
       "      <td>1342</td>\n",
       "    </tr>\n",
       "  </tbody>\n",
       "</table>\n",
       "<p>5 rows × 27 columns</p>\n",
       "</div>"
      ],
      "text/plain": [
       "   log_price property_type        room_type  \\\n",
       "0   5.010635     Apartment  Entire home/apt   \n",
       "1   5.129899     Apartment  Entire home/apt   \n",
       "2   4.976734     Apartment  Entire home/apt   \n",
       "3   6.620073         House  Entire home/apt   \n",
       "4   4.744932     Apartment  Entire home/apt   \n",
       "\n",
       "                                           amenities  accommodates  bathrooms  \\\n",
       "0  {\"Wireless Internet\",\"Air conditioning\",Kitche...             3        1.0   \n",
       "1  {\"Wireless Internet\",\"Air conditioning\",Kitche...             7        1.0   \n",
       "2  {TV,\"Cable TV\",\"Wireless Internet\",\"Air condit...             5        1.0   \n",
       "3  {TV,\"Cable TV\",Internet,\"Wireless Internet\",Ki...             4        1.0   \n",
       "4  {TV,Internet,\"Wireless Internet\",\"Air conditio...             2        1.0   \n",
       "\n",
       "   bed_type cancellation_policy  cleaning_fee city     ...        longitude  \\\n",
       "0  Real Bed              strict          True  NYC     ...       -73.991617   \n",
       "1  Real Bed              strict          True  NYC     ...       -73.989040   \n",
       "2  Real Bed            moderate          True  NYC     ...       -73.943756   \n",
       "3  Real Bed            flexible          True   SF     ...      -122.431619   \n",
       "4  Real Bed            moderate          True   DC     ...       -77.034596   \n",
       "\n",
       "   number_of_reviews  review_scores_rating  thumbnail_url  zipcode  bedrooms  \\\n",
       "0                  2                 100.0           True    11201       1.0   \n",
       "1                  6                  93.0           True    10019       3.0   \n",
       "2                 10                  92.0           True    10027       1.0   \n",
       "3                  0                   NaN           True  94117.0       2.0   \n",
       "4                  4                  40.0          False    20009       0.0   \n",
       "\n",
       "   beds  amenities_count  description_length  days_hosted  \n",
       "0   1.0                9                 211         2412  \n",
       "1   3.0               15                1000          501  \n",
       "2   3.0               19                1000          738  \n",
       "3   2.0               15                 468         1293  \n",
       "4   1.0               12                 699         1342  \n",
       "\n",
       "[5 rows x 27 columns]"
      ]
     },
     "execution_count": 152,
     "metadata": {},
     "output_type": "execute_result"
    }
   ],
   "source": [
    "modified_data_copy = modified_data.copy()\n",
    "modified_data_copy.loc[modified_data_copy.zipcode.str.len() == 8,\"zipcode\"] = modified_data_copy[\"zipcode\"].str.slice(3,8)\n",
    "\n",
    "modified_data_copy.loc[modified_data_copy.zipcode.str.len() == 10, \"zipcode\"] = modified_data_copy[\"zipcode\"].str.slice(0,5)\n",
    "\n",
    "modified_data = modified_data_copy\n",
    "modified_data.head()"
   ]
  },
  {
   "cell_type": "markdown",
   "metadata": {},
   "source": [
    "Lastly, the there are a couple other zipcodes that need to be cleaned up."
   ]
  },
  {
   "cell_type": "code",
   "execution_count": 161,
   "metadata": {},
   "outputs": [
    {
     "data": {
      "text/html": [
       "<div>\n",
       "<style scoped>\n",
       "    .dataframe tbody tr th:only-of-type {\n",
       "        vertical-align: middle;\n",
       "    }\n",
       "\n",
       "    .dataframe tbody tr th {\n",
       "        vertical-align: top;\n",
       "    }\n",
       "\n",
       "    .dataframe thead th {\n",
       "        text-align: right;\n",
       "    }\n",
       "</style>\n",
       "<table border=\"1\" class=\"dataframe\">\n",
       "  <thead>\n",
       "    <tr style=\"text-align: right;\">\n",
       "      <th></th>\n",
       "      <th>log_price</th>\n",
       "      <th>property_type</th>\n",
       "      <th>room_type</th>\n",
       "      <th>amenities</th>\n",
       "      <th>accommodates</th>\n",
       "      <th>bathrooms</th>\n",
       "      <th>bed_type</th>\n",
       "      <th>cancellation_policy</th>\n",
       "      <th>cleaning_fee</th>\n",
       "      <th>city</th>\n",
       "      <th>...</th>\n",
       "      <th>longitude</th>\n",
       "      <th>number_of_reviews</th>\n",
       "      <th>review_scores_rating</th>\n",
       "      <th>thumbnail_url</th>\n",
       "      <th>zipcode</th>\n",
       "      <th>bedrooms</th>\n",
       "      <th>beds</th>\n",
       "      <th>amenities_count</th>\n",
       "      <th>description_length</th>\n",
       "      <th>days_hosted</th>\n",
       "    </tr>\n",
       "  </thead>\n",
       "  <tbody>\n",
       "    <tr>\n",
       "      <th>0</th>\n",
       "      <td>5.010635</td>\n",
       "      <td>Apartment</td>\n",
       "      <td>Entire home/apt</td>\n",
       "      <td>{\"Wireless Internet\",\"Air conditioning\",Kitche...</td>\n",
       "      <td>3</td>\n",
       "      <td>1.0</td>\n",
       "      <td>Real Bed</td>\n",
       "      <td>strict</td>\n",
       "      <td>True</td>\n",
       "      <td>NYC</td>\n",
       "      <td>...</td>\n",
       "      <td>-73.991617</td>\n",
       "      <td>2</td>\n",
       "      <td>100.0</td>\n",
       "      <td>True</td>\n",
       "      <td>11201</td>\n",
       "      <td>1.0</td>\n",
       "      <td>1.0</td>\n",
       "      <td>9</td>\n",
       "      <td>211</td>\n",
       "      <td>2412</td>\n",
       "    </tr>\n",
       "    <tr>\n",
       "      <th>1</th>\n",
       "      <td>5.129899</td>\n",
       "      <td>Apartment</td>\n",
       "      <td>Entire home/apt</td>\n",
       "      <td>{\"Wireless Internet\",\"Air conditioning\",Kitche...</td>\n",
       "      <td>7</td>\n",
       "      <td>1.0</td>\n",
       "      <td>Real Bed</td>\n",
       "      <td>strict</td>\n",
       "      <td>True</td>\n",
       "      <td>NYC</td>\n",
       "      <td>...</td>\n",
       "      <td>-73.989040</td>\n",
       "      <td>6</td>\n",
       "      <td>93.0</td>\n",
       "      <td>True</td>\n",
       "      <td>10019</td>\n",
       "      <td>3.0</td>\n",
       "      <td>3.0</td>\n",
       "      <td>15</td>\n",
       "      <td>1000</td>\n",
       "      <td>501</td>\n",
       "    </tr>\n",
       "    <tr>\n",
       "      <th>2</th>\n",
       "      <td>4.976734</td>\n",
       "      <td>Apartment</td>\n",
       "      <td>Entire home/apt</td>\n",
       "      <td>{TV,\"Cable TV\",\"Wireless Internet\",\"Air condit...</td>\n",
       "      <td>5</td>\n",
       "      <td>1.0</td>\n",
       "      <td>Real Bed</td>\n",
       "      <td>moderate</td>\n",
       "      <td>True</td>\n",
       "      <td>NYC</td>\n",
       "      <td>...</td>\n",
       "      <td>-73.943756</td>\n",
       "      <td>10</td>\n",
       "      <td>92.0</td>\n",
       "      <td>True</td>\n",
       "      <td>10027</td>\n",
       "      <td>1.0</td>\n",
       "      <td>3.0</td>\n",
       "      <td>19</td>\n",
       "      <td>1000</td>\n",
       "      <td>738</td>\n",
       "    </tr>\n",
       "    <tr>\n",
       "      <th>3</th>\n",
       "      <td>6.620073</td>\n",
       "      <td>House</td>\n",
       "      <td>Entire home/apt</td>\n",
       "      <td>{TV,\"Cable TV\",Internet,\"Wireless Internet\",Ki...</td>\n",
       "      <td>4</td>\n",
       "      <td>1.0</td>\n",
       "      <td>Real Bed</td>\n",
       "      <td>flexible</td>\n",
       "      <td>True</td>\n",
       "      <td>SF</td>\n",
       "      <td>...</td>\n",
       "      <td>-122.431619</td>\n",
       "      <td>0</td>\n",
       "      <td>NaN</td>\n",
       "      <td>True</td>\n",
       "      <td>94117</td>\n",
       "      <td>2.0</td>\n",
       "      <td>2.0</td>\n",
       "      <td>15</td>\n",
       "      <td>468</td>\n",
       "      <td>1293</td>\n",
       "    </tr>\n",
       "    <tr>\n",
       "      <th>4</th>\n",
       "      <td>4.744932</td>\n",
       "      <td>Apartment</td>\n",
       "      <td>Entire home/apt</td>\n",
       "      <td>{TV,Internet,\"Wireless Internet\",\"Air conditio...</td>\n",
       "      <td>2</td>\n",
       "      <td>1.0</td>\n",
       "      <td>Real Bed</td>\n",
       "      <td>moderate</td>\n",
       "      <td>True</td>\n",
       "      <td>DC</td>\n",
       "      <td>...</td>\n",
       "      <td>-77.034596</td>\n",
       "      <td>4</td>\n",
       "      <td>40.0</td>\n",
       "      <td>False</td>\n",
       "      <td>20009</td>\n",
       "      <td>0.0</td>\n",
       "      <td>1.0</td>\n",
       "      <td>12</td>\n",
       "      <td>699</td>\n",
       "      <td>1342</td>\n",
       "    </tr>\n",
       "  </tbody>\n",
       "</table>\n",
       "<p>5 rows × 27 columns</p>\n",
       "</div>"
      ],
      "text/plain": [
       "   log_price property_type        room_type  \\\n",
       "0   5.010635     Apartment  Entire home/apt   \n",
       "1   5.129899     Apartment  Entire home/apt   \n",
       "2   4.976734     Apartment  Entire home/apt   \n",
       "3   6.620073         House  Entire home/apt   \n",
       "4   4.744932     Apartment  Entire home/apt   \n",
       "\n",
       "                                           amenities  accommodates  bathrooms  \\\n",
       "0  {\"Wireless Internet\",\"Air conditioning\",Kitche...             3        1.0   \n",
       "1  {\"Wireless Internet\",\"Air conditioning\",Kitche...             7        1.0   \n",
       "2  {TV,\"Cable TV\",\"Wireless Internet\",\"Air condit...             5        1.0   \n",
       "3  {TV,\"Cable TV\",Internet,\"Wireless Internet\",Ki...             4        1.0   \n",
       "4  {TV,Internet,\"Wireless Internet\",\"Air conditio...             2        1.0   \n",
       "\n",
       "   bed_type cancellation_policy  cleaning_fee city     ...        longitude  \\\n",
       "0  Real Bed              strict          True  NYC     ...       -73.991617   \n",
       "1  Real Bed              strict          True  NYC     ...       -73.989040   \n",
       "2  Real Bed            moderate          True  NYC     ...       -73.943756   \n",
       "3  Real Bed            flexible          True   SF     ...      -122.431619   \n",
       "4  Real Bed            moderate          True   DC     ...       -77.034596   \n",
       "\n",
       "   number_of_reviews  review_scores_rating  thumbnail_url zipcode  bedrooms  \\\n",
       "0                  2                 100.0           True   11201       1.0   \n",
       "1                  6                  93.0           True   10019       3.0   \n",
       "2                 10                  92.0           True   10027       1.0   \n",
       "3                  0                   NaN           True   94117       2.0   \n",
       "4                  4                  40.0          False   20009       0.0   \n",
       "\n",
       "   beds  amenities_count  description_length  days_hosted  \n",
       "0   1.0                9                 211         2412  \n",
       "1   3.0               15                1000          501  \n",
       "2   3.0               19                1000          738  \n",
       "3   2.0               15                 468         1293  \n",
       "4   1.0               12                 699         1342  \n",
       "\n",
       "[5 rows x 27 columns]"
      ]
     },
     "execution_count": 161,
     "metadata": {},
     "output_type": "execute_result"
    }
   ],
   "source": [
    "modified_data_copy = modified_data.copy()\n",
    "modified_data_copy.loc[modified_data_copy.zipcode.str.len() == 7,\"zipcode\"] = modified_data_copy[\"zipcode\"].str.slice(0,5)\n",
    "modified_data_copy.loc[modified_data_copy.zipcode.str.len() == 11,\"zipcode\"] = modified_data_copy[\"zipcode\"].str.slice(0,5)\n",
    "\n",
    "modified_data_copy.head()"
   ]
  },
  {
   "cell_type": "markdown",
   "metadata": {},
   "source": [
    "There are a couple remaining rows that still do not have zipcodes that match valid zipcodes, and these are rows which cannot be recovered. In this case, the instances should be removed."
   ]
  },
  {
   "cell_type": "code",
   "execution_count": 177,
   "metadata": {},
   "outputs": [],
   "source": [
    "i = modified_data_copy[modified_data_copy.zipcode.str.len() != 5].index\n",
    "modified_data_copy.drop(i, inplace=True)\n",
    "modified_data = modified_data_copy"
   ]
  },
  {
   "cell_type": "markdown",
   "metadata": {},
   "source": [
    "### bedrooms"
   ]
  },
  {
   "cell_type": "code",
   "execution_count": 178,
   "metadata": {},
   "outputs": [
    {
     "name": "stdout",
     "output_type": "stream",
     "text": [
      "Data Type:  float64\n",
      "Null Values:  True\n",
      "Number of Unique Values:  12\n"
     ]
    },
    {
     "data": {
      "text/plain": [
       "array([ 1.,  3.,  2.,  0.,  4., nan,  5.,  6.,  7.,  8.,  9., 10.])"
      ]
     },
     "execution_count": 178,
     "metadata": {},
     "output_type": "execute_result"
    }
   ],
   "source": [
    "print('Data Type: ', modified_data.bedrooms.dtype)\n",
    "print('Null Values: ', modified_data.bedrooms.isnull().values.any())\n",
    "print('Number of Unique Values: ', np.size(modified_data.bedrooms.unique()))\n",
    "modified_data.bedrooms.unique()"
   ]
  },
  {
   "cell_type": "markdown",
   "metadata": {},
   "source": [
    "As can be seen, there are some null values. The total number of null values should be explored."
   ]
  },
  {
   "cell_type": "code",
   "execution_count": 172,
   "metadata": {},
   "outputs": [
    {
     "name": "stdout",
     "output_type": "stream",
     "text": [
      "bedroom nulls:  (86,)\n"
     ]
    }
   ],
   "source": [
    "print('bedroom nulls: ', modified_data[modified_data.bedrooms.isnull() == True][\"bedrooms\"].shape)"
   ]
  },
  {
   "cell_type": "markdown",
   "metadata": {},
   "source": [
    "Since there are only 86 instances with no information regarding the number of bedrooms, and the number of bedrooms cannot be easily derived, there instances should be dropped from the dataset."
   ]
  },
  {
   "cell_type": "code",
   "execution_count": 179,
   "metadata": {},
   "outputs": [],
   "source": [
    "i = modified_data[modified_data.bedrooms.isnull() == True].index\n",
    "modified_data.drop(i, inplace=True)"
   ]
  },
  {
   "cell_type": "markdown",
   "metadata": {},
   "source": [
    "Additionally, the number of bedrooms for an airbnb should be a integer value - there are no instances with a half bedroom."
   ]
  },
  {
   "cell_type": "code",
   "execution_count": 181,
   "metadata": {},
   "outputs": [],
   "source": [
    "modified_data.bedrooms = modified_data.bedrooms.astype('int64')"
   ]
  },
  {
   "cell_type": "markdown",
   "metadata": {},
   "source": [
    "### beds"
   ]
  },
  {
   "cell_type": "code",
   "execution_count": 182,
   "metadata": {},
   "outputs": [
    {
     "name": "stdout",
     "output_type": "stream",
     "text": [
      "Data Type:  float64\n",
      "Null Values:  True\n",
      "Number of Unique Values:  19\n"
     ]
    },
    {
     "data": {
      "text/plain": [
       "array([ 1.,  3.,  2.,  7.,  4.,  6.,  5., 10.,  8., 16.,  9., 13., 12.,\n",
       "       11., nan, 14., 15.,  0., 18.])"
      ]
     },
     "execution_count": 182,
     "metadata": {},
     "output_type": "execute_result"
    }
   ],
   "source": [
    "print('Data Type: ', modified_data.beds.dtype)\n",
    "print('Null Values: ', modified_data.beds.isnull().values.any())\n",
    "print('Number of Unique Values: ', np.size(modified_data.beds.unique()))\n",
    "modified_data.beds.unique()"
   ]
  },
  {
   "cell_type": "markdown",
   "metadata": {},
   "source": [
    "Similar to the last attribute, there are at least one attribute with a null value. The extent of this should be determined."
   ]
  },
  {
   "cell_type": "code",
   "execution_count": 183,
   "metadata": {},
   "outputs": [
    {
     "name": "stdout",
     "output_type": "stream",
     "text": [
      "bedroom nulls:  (59,)\n"
     ]
    }
   ],
   "source": [
    "print('bedroom nulls: ', modified_data[modified_data.beds.isnull() == True][\"beds\"].shape)"
   ]
  },
  {
   "cell_type": "markdown",
   "metadata": {},
   "source": [
    "Similar to the previous attribute, only a small number of instances have a null bed value. Since the number is so small, these instances should be dropped from the dataset. It will not be possible to accurately determine the number of beds in teh airbnb."
   ]
  },
  {
   "cell_type": "code",
   "execution_count": 185,
   "metadata": {},
   "outputs": [],
   "source": [
    "i = modified_data[modified_data.beds.isnull() == True].index\n",
    "modified_data.drop(i, inplace=True)"
   ]
  },
  {
   "cell_type": "code",
   "execution_count": 188,
   "metadata": {},
   "outputs": [],
   "source": [
    "modified_data.beds = modified_data.beds.astype('int64')"
   ]
  },
  {
   "cell_type": "markdown",
   "metadata": {},
   "source": [
    "## Cleanup"
   ]
  },
  {
   "cell_type": "markdown",
   "metadata": {},
   "source": [
    "At this point, there are several columns in the dataset that were kept, but are no longer needed for data analysis. These attributes should be removed so that only a clean dataset is left."
   ]
  },
  {
   "cell_type": "code",
   "execution_count": 281,
   "metadata": {},
   "outputs": [
    {
     "data": {
      "text/html": [
       "<div>\n",
       "<style scoped>\n",
       "    .dataframe tbody tr th:only-of-type {\n",
       "        vertical-align: middle;\n",
       "    }\n",
       "\n",
       "    .dataframe tbody tr th {\n",
       "        vertical-align: top;\n",
       "    }\n",
       "\n",
       "    .dataframe thead th {\n",
       "        text-align: right;\n",
       "    }\n",
       "</style>\n",
       "<table border=\"1\" class=\"dataframe\">\n",
       "  <thead>\n",
       "    <tr style=\"text-align: right;\">\n",
       "      <th></th>\n",
       "      <th>log_price</th>\n",
       "      <th>property_type</th>\n",
       "      <th>room_type</th>\n",
       "      <th>accommodates</th>\n",
       "      <th>bathrooms</th>\n",
       "      <th>bed_type</th>\n",
       "      <th>cancellation_policy</th>\n",
       "      <th>cleaning_fee</th>\n",
       "      <th>host_has_profile_pic</th>\n",
       "      <th>host_identity_verified</th>\n",
       "      <th>host_response_rate</th>\n",
       "      <th>instant_bookable</th>\n",
       "      <th>review_scores_rating</th>\n",
       "      <th>thumbnail_url</th>\n",
       "      <th>zipcode</th>\n",
       "      <th>bedrooms</th>\n",
       "      <th>beds</th>\n",
       "      <th>amenities_count</th>\n",
       "      <th>description_length</th>\n",
       "      <th>days_hosted</th>\n",
       "    </tr>\n",
       "  </thead>\n",
       "  <tbody>\n",
       "    <tr>\n",
       "      <th>0</th>\n",
       "      <td>5</td>\n",
       "      <td>Apartment</td>\n",
       "      <td>Entire home/apt</td>\n",
       "      <td>3</td>\n",
       "      <td>1</td>\n",
       "      <td>Real Bed</td>\n",
       "      <td>strict</td>\n",
       "      <td>True</td>\n",
       "      <td>True</td>\n",
       "      <td>True</td>\n",
       "      <td>nan</td>\n",
       "      <td>False</td>\n",
       "      <td>100</td>\n",
       "      <td>True</td>\n",
       "      <td>11201</td>\n",
       "      <td>1</td>\n",
       "      <td>1</td>\n",
       "      <td>9</td>\n",
       "      <td>211</td>\n",
       "      <td>2412</td>\n",
       "    </tr>\n",
       "    <tr>\n",
       "      <th>1</th>\n",
       "      <td>5</td>\n",
       "      <td>Apartment</td>\n",
       "      <td>Entire home/apt</td>\n",
       "      <td>7</td>\n",
       "      <td>1</td>\n",
       "      <td>Real Bed</td>\n",
       "      <td>strict</td>\n",
       "      <td>True</td>\n",
       "      <td>True</td>\n",
       "      <td>False</td>\n",
       "      <td>1</td>\n",
       "      <td>True</td>\n",
       "      <td>93</td>\n",
       "      <td>True</td>\n",
       "      <td>10019</td>\n",
       "      <td>3</td>\n",
       "      <td>3</td>\n",
       "      <td>15</td>\n",
       "      <td>1000</td>\n",
       "      <td>501</td>\n",
       "    </tr>\n",
       "    <tr>\n",
       "      <th>2</th>\n",
       "      <td>5</td>\n",
       "      <td>Apartment</td>\n",
       "      <td>Entire home/apt</td>\n",
       "      <td>5</td>\n",
       "      <td>1</td>\n",
       "      <td>Real Bed</td>\n",
       "      <td>moderate</td>\n",
       "      <td>True</td>\n",
       "      <td>True</td>\n",
       "      <td>True</td>\n",
       "      <td>1</td>\n",
       "      <td>True</td>\n",
       "      <td>92</td>\n",
       "      <td>True</td>\n",
       "      <td>10027</td>\n",
       "      <td>1</td>\n",
       "      <td>3</td>\n",
       "      <td>19</td>\n",
       "      <td>1000</td>\n",
       "      <td>738</td>\n",
       "    </tr>\n",
       "    <tr>\n",
       "      <th>3</th>\n",
       "      <td>7</td>\n",
       "      <td>House</td>\n",
       "      <td>Entire home/apt</td>\n",
       "      <td>4</td>\n",
       "      <td>1</td>\n",
       "      <td>Real Bed</td>\n",
       "      <td>flexible</td>\n",
       "      <td>True</td>\n",
       "      <td>True</td>\n",
       "      <td>True</td>\n",
       "      <td>nan</td>\n",
       "      <td>False</td>\n",
       "      <td>nan</td>\n",
       "      <td>True</td>\n",
       "      <td>94117</td>\n",
       "      <td>2</td>\n",
       "      <td>2</td>\n",
       "      <td>15</td>\n",
       "      <td>468</td>\n",
       "      <td>1293</td>\n",
       "    </tr>\n",
       "    <tr>\n",
       "      <th>4</th>\n",
       "      <td>5</td>\n",
       "      <td>Apartment</td>\n",
       "      <td>Entire home/apt</td>\n",
       "      <td>2</td>\n",
       "      <td>1</td>\n",
       "      <td>Real Bed</td>\n",
       "      <td>moderate</td>\n",
       "      <td>True</td>\n",
       "      <td>True</td>\n",
       "      <td>True</td>\n",
       "      <td>1</td>\n",
       "      <td>True</td>\n",
       "      <td>40</td>\n",
       "      <td>False</td>\n",
       "      <td>20009</td>\n",
       "      <td>0</td>\n",
       "      <td>1</td>\n",
       "      <td>12</td>\n",
       "      <td>699</td>\n",
       "      <td>1342</td>\n",
       "    </tr>\n",
       "  </tbody>\n",
       "</table>\n",
       "</div>"
      ],
      "text/plain": [
       "   log_price property_type        room_type  accommodates  bathrooms  \\\n",
       "0          5     Apartment  Entire home/apt             3          1   \n",
       "1          5     Apartment  Entire home/apt             7          1   \n",
       "2          5     Apartment  Entire home/apt             5          1   \n",
       "3          7         House  Entire home/apt             4          1   \n",
       "4          5     Apartment  Entire home/apt             2          1   \n",
       "\n",
       "   bed_type cancellation_policy  cleaning_fee  host_has_profile_pic  \\\n",
       "0  Real Bed              strict          True                  True   \n",
       "1  Real Bed              strict          True                  True   \n",
       "2  Real Bed            moderate          True                  True   \n",
       "3  Real Bed            flexible          True                  True   \n",
       "4  Real Bed            moderate          True                  True   \n",
       "\n",
       "   host_identity_verified  host_response_rate  instant_bookable  \\\n",
       "0                    True                 nan             False   \n",
       "1                   False                   1              True   \n",
       "2                    True                   1              True   \n",
       "3                    True                 nan             False   \n",
       "4                    True                   1              True   \n",
       "\n",
       "   review_scores_rating  thumbnail_url zipcode  bedrooms  beds  \\\n",
       "0                   100           True   11201         1     1   \n",
       "1                    93           True   10019         3     3   \n",
       "2                    92           True   10027         1     3   \n",
       "3                   nan           True   94117         2     2   \n",
       "4                    40          False   20009         0     1   \n",
       "\n",
       "   amenities_count  description_length  days_hosted  \n",
       "0                9                 211         2412  \n",
       "1               15                1000          501  \n",
       "2               19                1000          738  \n",
       "3               15                 468         1293  \n",
       "4               12                 699         1342  "
      ]
     },
     "execution_count": 281,
     "metadata": {},
     "output_type": "execute_result"
    }
   ],
   "source": [
    "clean_data = modified_data.drop(['city', 'description', 'latitude', 'longitude', 'amenities', 'host_since', 'number_of_reviews'], axis=1)\n",
    "clean_data.head()"
   ]
  },
  {
   "cell_type": "code",
   "execution_count": 282,
   "metadata": {},
   "outputs": [
    {
     "data": {
      "text/plain": [
       "Index(['log_price', 'property_type', 'room_type', 'accommodates', 'bathrooms',\n",
       "       'bed_type', 'cancellation_policy', 'cleaning_fee',\n",
       "       'host_has_profile_pic', 'host_identity_verified', 'host_response_rate',\n",
       "       'instant_bookable', 'review_scores_rating', 'thumbnail_url', 'zipcode',\n",
       "       'bedrooms', 'beds', 'amenities_count', 'description_length',\n",
       "       'days_hosted'],\n",
       "      dtype='object')"
      ]
     },
     "execution_count": 282,
     "metadata": {},
     "output_type": "execute_result"
    }
   ],
   "source": [
    "clean_data.columns"
   ]
  },
  {
   "cell_type": "markdown",
   "metadata": {},
   "source": [
    "# Data Analysis and Visualization"
   ]
  },
  {
   "cell_type": "markdown",
   "metadata": {},
   "source": [
    "<i>quantitative (statistical) and visual analysis of your\n",
    "data. You should apply quantitative measures of centrality, distribution, and correlation.\n",
    "In addition, you should provide visual analysis through plots that are appropriate for a\n",
    "better understanding of your data and how the data can be used to answer your question.\n",
    "Extra credit for novel insightful visualizations. Using the appropriate clustering algorithm\n",
    "for different measures can be very helpful for better understanding the relationships in\n",
    "your data.</i>"
   ]
  },
  {
   "cell_type": "code",
   "execution_count": 194,
   "metadata": {},
   "outputs": [],
   "source": [
    "import matplotlib as plt\n",
    "%matplotlib inline"
   ]
  },
  {
   "cell_type": "markdown",
   "metadata": {},
   "source": [
    "### price"
   ]
  },
  {
   "cell_type": "code",
   "execution_count": 195,
   "metadata": {},
   "outputs": [
    {
     "data": {
      "text/plain": [
       "count    73554.000000\n",
       "mean         4.782847\n",
       "std          0.717903\n",
       "min          0.000000\n",
       "25%          4.317488\n",
       "50%          4.718499\n",
       "75%          5.220356\n",
       "max          7.600402\n",
       "Name: log_price, dtype: float64"
      ]
     },
     "execution_count": 195,
     "metadata": {},
     "output_type": "execute_result"
    }
   ],
   "source": [
    "clean_data.log_price.describe()"
   ]
  },
  {
   "cell_type": "code",
   "execution_count": 212,
   "metadata": {},
   "outputs": [
    {
     "data": {
      "text/plain": [
       "<matplotlib.axes._subplots.AxesSubplot at 0x23b0d2044e0>"
      ]
     },
     "execution_count": 212,
     "metadata": {},
     "output_type": "execute_result"
    },
    {
     "data": {
      "image/png": "[encoded data removed]",
      "text/plain": [
       "<Figure size 432x288 with 1 Axes>"
      ]
     },
     "metadata": {},
     "output_type": "display_data"
    }
   ],
   "source": [
    "clean_data.log_price.hist(bins=25)"
   ]
  },
  {
   "cell_type": "markdown",
   "metadata": {},
   "source": [
    "Price appears to be very equally distrubted, with a mean of 4.78. Additionally, the standard deviation is not very large, meaning there is not a ton of variance in the target varaible."
   ]
  },
  {
   "cell_type": "markdown",
   "metadata": {},
   "source": [
    "### property_type"
   ]
  },
  {
   "cell_type": "code",
   "execution_count": 214,
   "metadata": {},
   "outputs": [
    {
     "data": {
      "text/plain": [
       "array(['Apartment', 'House', 'Condominium', 'Loft', 'Townhouse', 'Hostel',\n",
       "       'Guest suite', 'Bed & Breakfast', 'Bungalow', 'Guesthouse', 'Dorm',\n",
       "       'Other', 'Camper/RV', 'Villa', 'Boutique hotel', 'Timeshare',\n",
       "       'In-law', 'Boat', 'Serviced apartment', 'Castle', 'Cabin',\n",
       "       'Treehouse', 'Tipi', 'Vacation home', 'Tent', 'Hut',\n",
       "       'Casa particular', 'Chalet', 'Yurt', 'Earth House', 'Train',\n",
       "       'Cave', 'Lighthouse', 'Island'], dtype=object)"
      ]
     },
     "execution_count": 214,
     "metadata": {},
     "output_type": "execute_result"
    }
   ],
   "source": [
    "clean_data.property_type.unique()"
   ]
  },
  {
   "cell_type": "code",
   "execution_count": 215,
   "metadata": {},
   "outputs": [
    {
     "data": {
      "text/html": [
       "<div>\n",
       "<style scoped>\n",
       "    .dataframe tbody tr th:only-of-type {\n",
       "        vertical-align: middle;\n",
       "    }\n",
       "\n",
       "    .dataframe tbody tr th {\n",
       "        vertical-align: top;\n",
       "    }\n",
       "\n",
       "    .dataframe thead th {\n",
       "        text-align: right;\n",
       "    }\n",
       "</style>\n",
       "<table border=\"1\" class=\"dataframe\">\n",
       "  <thead>\n",
       "    <tr style=\"text-align: right;\">\n",
       "      <th></th>\n",
       "      <th>Apartment</th>\n",
       "      <th>House</th>\n",
       "      <th>Condominium</th>\n",
       "      <th>Loft</th>\n",
       "      <th>Townhouse</th>\n",
       "      <th>Hostel</th>\n",
       "      <th>Guest suite</th>\n",
       "      <th>Bed &amp; Breakfast</th>\n",
       "      <th>Bungalow</th>\n",
       "      <th>Guesthouse</th>\n",
       "      <th>...</th>\n",
       "      <th>Tent</th>\n",
       "      <th>Hut</th>\n",
       "      <th>Casa particular</th>\n",
       "      <th>Chalet</th>\n",
       "      <th>Yurt</th>\n",
       "      <th>Earth House</th>\n",
       "      <th>Train</th>\n",
       "      <th>Cave</th>\n",
       "      <th>Lighthouse</th>\n",
       "      <th>Island</th>\n",
       "    </tr>\n",
       "  </thead>\n",
       "  <tbody>\n",
       "    <tr>\n",
       "      <th>property_type</th>\n",
       "      <td>48591</td>\n",
       "      <td>16420</td>\n",
       "      <td>2650</td>\n",
       "      <td>1683</td>\n",
       "      <td>1234</td>\n",
       "      <td>600</td>\n",
       "      <td>497</td>\n",
       "      <td>457</td>\n",
       "      <td>365</td>\n",
       "      <td>178</td>\n",
       "      <td>...</td>\n",
       "      <td>8</td>\n",
       "      <td>7</td>\n",
       "      <td>6</td>\n",
       "      <td>4</td>\n",
       "      <td>3</td>\n",
       "      <td>2</td>\n",
       "      <td>2</td>\n",
       "      <td>1</td>\n",
       "      <td>1</td>\n",
       "      <td>1</td>\n",
       "    </tr>\n",
       "  </tbody>\n",
       "</table>\n",
       "<p>1 rows × 34 columns</p>\n",
       "</div>"
      ],
      "text/plain": [
       "               Apartment  House  Condominium  Loft  Townhouse  Hostel  \\\n",
       "property_type      48591  16420         2650  1683       1234     600   \n",
       "\n",
       "               Guest suite  Bed & Breakfast  Bungalow  Guesthouse   ...    \\\n",
       "property_type          497              457       365         178   ...     \n",
       "\n",
       "               Tent  Hut  Casa particular  Chalet  Yurt  Earth House  Train  \\\n",
       "property_type     8    7                6       4     3            2      2   \n",
       "\n",
       "               Cave  Lighthouse  Island  \n",
       "property_type     1           1       1  \n",
       "\n",
       "[1 rows x 34 columns]"
      ]
     },
     "execution_count": 215,
     "metadata": {},
     "output_type": "execute_result"
    }
   ],
   "source": [
    "result = clean_data[['property_type']].apply(pd.value_counts).fillna(0).T\n",
    "result.index=['property_type']\n",
    "result.columns=['Apartment', 'House', 'Condominium', 'Loft', 'Townhouse', 'Hostel', 'Guest suite', 'Bed & Breakfast',\n",
    "                'Bungalow', 'Guesthouse', 'Dorm', 'Other', 'Camper/RV', 'Villa', 'Boutique hotel', 'Timeshare', \n",
    "                'In-law', 'Boat', 'Serviced apartment', 'Castle', 'Cabin', 'Treehouse', 'Tipi', 'Vacation home', 'Tent', 'Hut',\n",
    "                'Casa particular', 'Chalet', 'Yurt', 'Earth House', 'Train', 'Cave', 'Lighthouse', 'Island']\n",
    "pd.options.display.float_format = '{:,.0f}'.format\n",
    "\n",
    "# cross tabulated result\n",
    "result"
   ]
  },
  {
   "cell_type": "code",
   "execution_count": 216,
   "metadata": {},
   "outputs": [
    {
     "data": {
      "text/plain": [
       "<matplotlib.axes._subplots.AxesSubplot at 0x23b0dcbfb38>"
      ]
     },
     "execution_count": 216,
     "metadata": {},
     "output_type": "execute_result"
    },
    {
     "data": {
      "image/png": "[encoded data removed]",
      "text/plain": [
       "<Figure size 432x288 with 1 Axes>"
      ]
     },
     "metadata": {},
     "output_type": "display_data"
    }
   ],
   "source": [
    "import matplotlib\n",
    "import matplotlib.pyplot as plt\n",
    "matplotlib.style.use('ggplot')\n",
    "\n",
    "# horizontal bar plot\n",
    "plt=result.plot.barh(title=\"Property Type\")\n",
    "plt.set_xlabel(\"Property Type\")\n",
    "plt.legend(loc='center left', bbox_to_anchor=(1, 0.5))\n",
    "plt"
   ]
  },
  {
   "cell_type": "markdown",
   "metadata": {},
   "source": [
    "From this data, it can be seen that the type of property is unequally weighted towards apartments and houses. There are plenty of other property types, but properties other than houses and apartments make up very little of the data."
   ]
  },
  {
   "cell_type": "markdown",
   "metadata": {},
   "source": [
    "### room_type"
   ]
  },
  {
   "cell_type": "code",
   "execution_count": 217,
   "metadata": {},
   "outputs": [
    {
     "data": {
      "text/plain": [
       "array(['Entire home/apt', 'Private room', 'Shared room'], dtype=object)"
      ]
     },
     "execution_count": 217,
     "metadata": {},
     "output_type": "execute_result"
    }
   ],
   "source": [
    "clean_data.room_type.unique()"
   ]
  },
  {
   "cell_type": "code",
   "execution_count": 218,
   "metadata": {},
   "outputs": [
    {
     "data": {
      "text/html": [
       "<div>\n",
       "<style scoped>\n",
       "    .dataframe tbody tr th:only-of-type {\n",
       "        vertical-align: middle;\n",
       "    }\n",
       "\n",
       "    .dataframe tbody tr th {\n",
       "        vertical-align: top;\n",
       "    }\n",
       "\n",
       "    .dataframe thead th {\n",
       "        text-align: right;\n",
       "    }\n",
       "</style>\n",
       "<table border=\"1\" class=\"dataframe\">\n",
       "  <thead>\n",
       "    <tr style=\"text-align: right;\">\n",
       "      <th></th>\n",
       "      <th>Entire home/apt</th>\n",
       "      <th>Private room</th>\n",
       "      <th>Shared room</th>\n",
       "    </tr>\n",
       "  </thead>\n",
       "  <tbody>\n",
       "    <tr>\n",
       "      <th>room_type</th>\n",
       "      <td>41068</td>\n",
       "      <td>30347</td>\n",
       "      <td>2139</td>\n",
       "    </tr>\n",
       "  </tbody>\n",
       "</table>\n",
       "</div>"
      ],
      "text/plain": [
       "           Entire home/apt  Private room  Shared room\n",
       "room_type            41068         30347         2139"
      ]
     },
     "execution_count": 218,
     "metadata": {},
     "output_type": "execute_result"
    }
   ],
   "source": [
    "result = clean_data[['room_type']].apply(pd.value_counts).fillna(0).T\n",
    "result.index=['room_type']\n",
    "result.columns=['Entire home/apt', 'Private room', 'Shared room']\n",
    "pd.options.display.float_format = '{:,.0f}'.format\n",
    "\n",
    "# cross tabulated result\n",
    "result"
   ]
  },
  {
   "cell_type": "code",
   "execution_count": 219,
   "metadata": {},
   "outputs": [
    {
     "data": {
      "text/plain": [
       "<matplotlib.axes._subplots.AxesSubplot at 0x23b0dcdd240>"
      ]
     },
     "execution_count": 219,
     "metadata": {},
     "output_type": "execute_result"
    },
    {
     "data": {
      "image/png": "[encoded data removed]",
      "text/plain": [
       "<Figure size 432x288 with 1 Axes>"
      ]
     },
     "metadata": {},
     "output_type": "display_data"
    }
   ],
   "source": [
    "# horizontal bar plot\n",
    "plt=result.plot.barh(title=\"Room Type\")\n",
    "plt.set_xlabel(\"Room Type\")\n",
    "plt.legend(loc='center left', bbox_to_anchor=(1, 0.5))\n",
    "plt"
   ]
  },
  {
   "cell_type": "markdown",
   "metadata": {},
   "source": [
    "Similar to property type, it can be observed that there are two main room types, which are unequally weighted more than the remaining options. In this case, almost all rooms are either the entire home/apt or a private room. Very rarely is an airbnb a shared room."
   ]
  },
  {
   "cell_type": "markdown",
   "metadata": {},
   "source": [
    "### accommodates"
   ]
  },
  {
   "cell_type": "code",
   "execution_count": 220,
   "metadata": {},
   "outputs": [
    {
     "data": {
      "text/plain": [
       "count   73,554\n",
       "mean         3\n",
       "std          2\n",
       "min          1\n",
       "25%          2\n",
       "50%          2\n",
       "75%          4\n",
       "max         16\n",
       "Name: accommodates, dtype: float64"
      ]
     },
     "execution_count": 220,
     "metadata": {},
     "output_type": "execute_result"
    }
   ],
   "source": [
    "clean_data.accommodates.describe()"
   ]
  },
  {
   "cell_type": "code",
   "execution_count": 226,
   "metadata": {},
   "outputs": [
    {
     "data": {
      "text/plain": [
       "<matplotlib.axes._subplots.AxesSubplot at 0x23b09e8a2e8>"
      ]
     },
     "execution_count": 226,
     "metadata": {},
     "output_type": "execute_result"
    },
    {
     "data": {
      "image/png": "[encoded data removed]",
      "text/plain": [
       "<Figure size 432x288 with 1 Axes>"
      ]
     },
     "metadata": {},
     "output_type": "display_data"
    }
   ],
   "source": [
    "clean_data.accommodates.hist(bins=13)"
   ]
  },
  {
   "cell_type": "code",
   "execution_count": 233,
   "metadata": {},
   "outputs": [
    {
     "data": {
      "text/plain": [
       "<matplotlib.axes._subplots.AxesSubplot at 0x23b00fdf898>"
      ]
     },
     "execution_count": 233,
     "metadata": {},
     "output_type": "execute_result"
    },
    {
     "data": {
      "image/png": "[encoded data removed]",
      "text/plain": [
       "<Figure size 216x288 with 1 Axes>"
      ]
     },
     "metadata": {},
     "output_type": "display_data"
    }
   ],
   "source": [
    "fig = matplotlib.pyplot.gcf()\n",
    "fig.set_size_inches(3, 4)\n",
    "fig.suptitle('Accommodates', fontsize=12)\n",
    "clean_data.boxplot(column=['accommodates'])"
   ]
  },
  {
   "cell_type": "markdown",
   "metadata": {},
   "source": [
    "The two plots above illustrate that for various airbnbs, the number of people that can be accomodated is not uniform, and is heavily distrubted near 1-2 people. As the boxplot shows however, there are several outliers where up to 16 are accommodated in a single airbnb."
   ]
  },
  {
   "cell_type": "markdown",
   "metadata": {},
   "source": [
    "### bathrooms"
   ]
  },
  {
   "cell_type": "code",
   "execution_count": 234,
   "metadata": {},
   "outputs": [
    {
     "data": {
      "text/plain": [
       "count   73,554\n",
       "mean         1\n",
       "std          1\n",
       "min          0\n",
       "25%          1\n",
       "50%          1\n",
       "75%          1\n",
       "max          8\n",
       "Name: bathrooms, dtype: float64"
      ]
     },
     "execution_count": 234,
     "metadata": {},
     "output_type": "execute_result"
    }
   ],
   "source": [
    "clean_data.bathrooms.describe()"
   ]
  },
  {
   "cell_type": "code",
   "execution_count": 238,
   "metadata": {},
   "outputs": [
    {
     "data": {
      "text/plain": [
       "<matplotlib.axes._subplots.AxesSubplot at 0x23b02194b38>"
      ]
     },
     "execution_count": 238,
     "metadata": {},
     "output_type": "execute_result"
    },
    {
     "data": {
      "image/png": "[encoded data removed]",
      "text/plain": [
       "<Figure size 432x288 with 1 Axes>"
      ]
     },
     "metadata": {},
     "output_type": "display_data"
    }
   ],
   "source": [
    "clean_data.bathrooms.hist(bins=7)"
   ]
  },
  {
   "cell_type": "markdown",
   "metadata": {},
   "source": [
    "As the plot reveals, an overwhelming majority of airbnbs have a single bathroom, with a couple having two bathrooms. It looks to be pretty rare for a airbnb to have more than 2 airbnbs."
   ]
  },
  {
   "cell_type": "code",
   "execution_count": 239,
   "metadata": {},
   "outputs": [
    {
     "data": {
      "text/plain": [
       "<matplotlib.axes._subplots.AxesSubplot at 0x23b113bab00>"
      ]
     },
     "execution_count": 239,
     "metadata": {},
     "output_type": "execute_result"
    },
    {
     "data": {
      "image/png": "[encoded data removed]",
      "text/plain": [
       "<Figure size 216x288 with 1 Axes>"
      ]
     },
     "metadata": {},
     "output_type": "display_data"
    }
   ],
   "source": [
    "fig = matplotlib.pyplot.gcf()\n",
    "fig.set_size_inches(3, 4)\n",
    "fig.suptitle('Bathrooms', fontsize=12)\n",
    "clean_data.boxplot(column=['bathrooms'])"
   ]
  },
  {
   "cell_type": "markdown",
   "metadata": {},
   "source": [
    "The boxplot does not provide much valuable information other than the fact that any number of bathrooms outside of 1 is an outlier, which may be interesting to know for data analysis and results discussion."
   ]
  },
  {
   "cell_type": "markdown",
   "metadata": {},
   "source": [
    "### bed_type"
   ]
  },
  {
   "cell_type": "code",
   "execution_count": 240,
   "metadata": {},
   "outputs": [
    {
     "data": {
      "text/plain": [
       "array(['Real Bed', 'Futon', 'Pull-out Sofa', 'Couch', 'Airbed'],\n",
       "      dtype=object)"
      ]
     },
     "execution_count": 240,
     "metadata": {},
     "output_type": "execute_result"
    }
   ],
   "source": [
    "clean_data.bed_type.unique()"
   ]
  },
  {
   "cell_type": "code",
   "execution_count": 241,
   "metadata": {},
   "outputs": [
    {
     "data": {
      "text/html": [
       "<div>\n",
       "<style scoped>\n",
       "    .dataframe tbody tr th:only-of-type {\n",
       "        vertical-align: middle;\n",
       "    }\n",
       "\n",
       "    .dataframe tbody tr th {\n",
       "        vertical-align: top;\n",
       "    }\n",
       "\n",
       "    .dataframe thead th {\n",
       "        text-align: right;\n",
       "    }\n",
       "</style>\n",
       "<table border=\"1\" class=\"dataframe\">\n",
       "  <thead>\n",
       "    <tr style=\"text-align: right;\">\n",
       "      <th></th>\n",
       "      <th>Real Bed</th>\n",
       "      <th>Futon</th>\n",
       "      <th>Pull-out Sofa</th>\n",
       "      <th>Couch</th>\n",
       "      <th>Airbed</th>\n",
       "    </tr>\n",
       "  </thead>\n",
       "  <tbody>\n",
       "    <tr>\n",
       "      <th>bed_type</th>\n",
       "      <td>71493</td>\n",
       "      <td>744</td>\n",
       "      <td>578</td>\n",
       "      <td>473</td>\n",
       "      <td>266</td>\n",
       "    </tr>\n",
       "  </tbody>\n",
       "</table>\n",
       "</div>"
      ],
      "text/plain": [
       "          Real Bed  Futon  Pull-out Sofa  Couch  Airbed\n",
       "bed_type     71493    744            578    473     266"
      ]
     },
     "execution_count": 241,
     "metadata": {},
     "output_type": "execute_result"
    }
   ],
   "source": [
    "result = clean_data[['bed_type']].apply(pd.value_counts).fillna(0).T\n",
    "result.index=['bed_type']\n",
    "result.columns=['Real Bed', 'Futon', 'Pull-out Sofa', 'Couch', 'Airbed']\n",
    "pd.options.display.float_format = '{:,.0f}'.format\n",
    "\n",
    "# cross tabulated result\n",
    "result"
   ]
  },
  {
   "cell_type": "code",
   "execution_count": 242,
   "metadata": {},
   "outputs": [
    {
     "data": {
      "text/plain": [
       "<matplotlib.axes._subplots.AxesSubplot at 0x23b026590b8>"
      ]
     },
     "execution_count": 242,
     "metadata": {},
     "output_type": "execute_result"
    },
    {
     "data": {
      "image/png": "[encoded data removed]",
      "text/plain": [
       "<Figure size 432x288 with 1 Axes>"
      ]
     },
     "metadata": {},
     "output_type": "display_data"
    }
   ],
   "source": [
    "plt=result.plot.barh(title=\"Bed Type\")\n",
    "plt.set_xlabel(\"Bed Type\")\n",
    "plt.legend(loc='center left', bbox_to_anchor=(1, 0.5))\n",
    "plt"
   ]
  },
  {
   "cell_type": "markdown",
   "metadata": {},
   "source": [
    "Similar to many of the other categorical data, there appears to be an uneven distribution of data. Almost all airbnb rooms have a real bed for sleeping, with all the other categories only making up a very small amount of samples relative to the entire data set."
   ]
  },
  {
   "cell_type": "markdown",
   "metadata": {},
   "source": [
    "### cancellation_policy"
   ]
  },
  {
   "cell_type": "code",
   "execution_count": 243,
   "metadata": {},
   "outputs": [
    {
     "data": {
      "text/plain": [
       "array(['strict', 'moderate', 'flexible', 'super_strict_60',\n",
       "       'super_strict_30'], dtype=object)"
      ]
     },
     "execution_count": 243,
     "metadata": {},
     "output_type": "execute_result"
    }
   ],
   "source": [
    "clean_data.cancellation_policy.unique()"
   ]
  },
  {
   "cell_type": "code",
   "execution_count": 244,
   "metadata": {},
   "outputs": [
    {
     "data": {
      "text/html": [
       "<div>\n",
       "<style scoped>\n",
       "    .dataframe tbody tr th:only-of-type {\n",
       "        vertical-align: middle;\n",
       "    }\n",
       "\n",
       "    .dataframe tbody tr th {\n",
       "        vertical-align: top;\n",
       "    }\n",
       "\n",
       "    .dataframe thead th {\n",
       "        text-align: right;\n",
       "    }\n",
       "</style>\n",
       "<table border=\"1\" class=\"dataframe\">\n",
       "  <thead>\n",
       "    <tr style=\"text-align: right;\">\n",
       "      <th></th>\n",
       "      <th>strict</th>\n",
       "      <th>moderate</th>\n",
       "      <th>flexible</th>\n",
       "      <th>super_strict_60</th>\n",
       "      <th>super_strict_30</th>\n",
       "    </tr>\n",
       "  </thead>\n",
       "  <tbody>\n",
       "    <tr>\n",
       "      <th>cancellation_policy</th>\n",
       "      <td>32131</td>\n",
       "      <td>22359</td>\n",
       "      <td>18940</td>\n",
       "      <td>107</td>\n",
       "      <td>17</td>\n",
       "    </tr>\n",
       "  </tbody>\n",
       "</table>\n",
       "</div>"
      ],
      "text/plain": [
       "                     strict  moderate  flexible  super_strict_60  \\\n",
       "cancellation_policy   32131     22359     18940              107   \n",
       "\n",
       "                     super_strict_30  \n",
       "cancellation_policy               17  "
      ]
     },
     "execution_count": 244,
     "metadata": {},
     "output_type": "execute_result"
    }
   ],
   "source": [
    "result = clean_data[['cancellation_policy']].apply(pd.value_counts).fillna(0).T\n",
    "result.index=['cancellation_policy']\n",
    "result.columns=['strict', 'moderate', 'flexible', 'super_strict_60', 'super_strict_30']\n",
    "pd.options.display.float_format = '{:,.0f}'.format\n",
    "\n",
    "# cross tabulated result\n",
    "result"
   ]
  },
  {
   "cell_type": "code",
   "execution_count": 246,
   "metadata": {},
   "outputs": [
    {
     "data": {
      "text/plain": [
       "<matplotlib.axes._subplots.AxesSubplot at 0x23b025dbc88>"
      ]
     },
     "execution_count": 246,
     "metadata": {},
     "output_type": "execute_result"
    },
    {
     "data": {
      "image/png": "[encoded data removed]",
      "text/plain": [
       "<Figure size 432x288 with 1 Axes>"
      ]
     },
     "metadata": {},
     "output_type": "display_data"
    }
   ],
   "source": [
    "plt=result.plot.barh(title=\"Cancellation Policy\")\n",
    "plt.set_xlabel(\"Cancellation Policy\")\n",
    "plt.legend(loc='center left', bbox_to_anchor=(1, 0.5))\n",
    "plt"
   ]
  },
  {
   "cell_type": "markdown",
   "metadata": {},
   "source": [
    "The visualized data makes it really clear that cancellation policy is made mostly of strict, moderate, and flexible cancellation policies. The super strict 30 and 60 appear to be very unique, and rarely occuring instances. Of the three most common, the data appears to be weighted slightly towards strict, but the distrubtion is much more even than the previous features."
   ]
  },
  {
   "cell_type": "markdown",
   "metadata": {},
   "source": [
    "### cleaning_fee"
   ]
  },
  {
   "cell_type": "code",
   "execution_count": 247,
   "metadata": {},
   "outputs": [
    {
     "data": {
      "text/plain": [
       "array([ True, False])"
      ]
     },
     "execution_count": 247,
     "metadata": {},
     "output_type": "execute_result"
    }
   ],
   "source": [
    "clean_data.cleaning_fee.unique()"
   ]
  },
  {
   "cell_type": "code",
   "execution_count": 257,
   "metadata": {},
   "outputs": [
    {
     "data": {
      "text/html": [
       "<div>\n",
       "<style scoped>\n",
       "    .dataframe tbody tr th:only-of-type {\n",
       "        vertical-align: middle;\n",
       "    }\n",
       "\n",
       "    .dataframe tbody tr th {\n",
       "        vertical-align: top;\n",
       "    }\n",
       "\n",
       "    .dataframe thead th {\n",
       "        text-align: right;\n",
       "    }\n",
       "</style>\n",
       "<table border=\"1\" class=\"dataframe\">\n",
       "  <thead>\n",
       "    <tr style=\"text-align: right;\">\n",
       "      <th></th>\n",
       "      <th>True</th>\n",
       "      <th>False</th>\n",
       "    </tr>\n",
       "  </thead>\n",
       "  <tbody>\n",
       "    <tr>\n",
       "      <th>cleaning_fee</th>\n",
       "      <td>54053</td>\n",
       "      <td>19501</td>\n",
       "    </tr>\n",
       "  </tbody>\n",
       "</table>\n",
       "</div>"
      ],
      "text/plain": [
       "               True  False\n",
       "cleaning_fee  54053  19501"
      ]
     },
     "execution_count": 257,
     "metadata": {},
     "output_type": "execute_result"
    }
   ],
   "source": [
    "result = clean_data[['cleaning_fee']].apply(pd.value_counts).fillna(0).T\n",
    "result.index=['cleaning_fee']\n",
    "result.columns=['True', 'False']\n",
    "pd.options.display.float_format = '{:,.0f}'.format\n",
    "\n",
    "# cross tabulated result\n",
    "result"
   ]
  },
  {
   "cell_type": "markdown",
   "metadata": {},
   "source": [
    "Since this feature is binary, it's not very helpful to plot it a bar chart of it, but it appears that most airbnbs charge a cleaning fee. In fact, more than twice the airbnbs charge a cleaning fee than don't.\n",
    "\n",
    "It might be interesting however, to see what this data looks like plotted against price."
   ]
  },
  {
   "cell_type": "code",
   "execution_count": 267,
   "metadata": {},
   "outputs": [
    {
     "data": {
      "image/png": "[encoded data removed]",
      "text/plain": [
       "<Figure size 432x288 with 1 Axes>"
      ]
     },
     "metadata": {},
     "output_type": "display_data"
    }
   ],
   "source": [
    "import seaborn as sns\n",
    "\n",
    "ax = sns.boxplot(x=\"cleaning_fee\", y=\"log_price\", data=clean_data)"
   ]
  },
  {
   "cell_type": "markdown",
   "metadata": {},
   "source": [
    "From the boxplot, it can be observed that having a cleaning_fee appears to have a very minor impact on the log_price of an airbnb. The mean, first quartile, and third quartile all appear to be slightly higher, with similar boundries for outliers."
   ]
  },
  {
   "cell_type": "markdown",
   "metadata": {},
   "source": [
    "### host_has_profile_pic"
   ]
  },
  {
   "cell_type": "code",
   "execution_count": 268,
   "metadata": {},
   "outputs": [
    {
     "data": {
      "text/plain": [
       "array([ True, False])"
      ]
     },
     "execution_count": 268,
     "metadata": {},
     "output_type": "execute_result"
    }
   ],
   "source": [
    "clean_data.host_has_profile_pic.unique()"
   ]
  },
  {
   "cell_type": "code",
   "execution_count": 269,
   "metadata": {},
   "outputs": [
    {
     "data": {
      "text/html": [
       "<div>\n",
       "<style scoped>\n",
       "    .dataframe tbody tr th:only-of-type {\n",
       "        vertical-align: middle;\n",
       "    }\n",
       "\n",
       "    .dataframe tbody tr th {\n",
       "        vertical-align: top;\n",
       "    }\n",
       "\n",
       "    .dataframe thead th {\n",
       "        text-align: right;\n",
       "    }\n",
       "</style>\n",
       "<table border=\"1\" class=\"dataframe\">\n",
       "  <thead>\n",
       "    <tr style=\"text-align: right;\">\n",
       "      <th></th>\n",
       "      <th>True</th>\n",
       "      <th>False</th>\n",
       "    </tr>\n",
       "  </thead>\n",
       "  <tbody>\n",
       "    <tr>\n",
       "      <th>host_has_profile_pic</th>\n",
       "      <td>73330</td>\n",
       "      <td>224</td>\n",
       "    </tr>\n",
       "  </tbody>\n",
       "</table>\n",
       "</div>"
      ],
      "text/plain": [
       "                       True  False\n",
       "host_has_profile_pic  73330    224"
      ]
     },
     "execution_count": 269,
     "metadata": {},
     "output_type": "execute_result"
    }
   ],
   "source": [
    "result = clean_data[['host_has_profile_pic']].apply(pd.value_counts).fillna(0).T\n",
    "result.index=['host_has_profile_pic']\n",
    "result.columns=['True', 'False']\n",
    "pd.options.display.float_format = '{:,.0f}'.format\n",
    "\n",
    "# cross tabulated result\n",
    "result"
   ]
  },
  {
   "cell_type": "markdown",
   "metadata": {},
   "source": [
    "As clearly illustrated in this table, an overwhelming majority of all hosts have a profile picture set. So many more hosts have profile pictures than those that don't that it may make sense to not use this data feature in a data model. This may be explored in the data modeling."
   ]
  },
  {
   "cell_type": "markdown",
   "metadata": {},
   "source": [
    "### host_identity_verified"
   ]
  },
  {
   "cell_type": "code",
   "execution_count": 270,
   "metadata": {},
   "outputs": [
    {
     "data": {
      "text/plain": [
       "array([ True, False])"
      ]
     },
     "execution_count": 270,
     "metadata": {},
     "output_type": "execute_result"
    }
   ],
   "source": [
    "clean_data.host_identity_verified.unique()"
   ]
  },
  {
   "cell_type": "code",
   "execution_count": 271,
   "metadata": {},
   "outputs": [
    {
     "data": {
      "text/html": [
       "<div>\n",
       "<style scoped>\n",
       "    .dataframe tbody tr th:only-of-type {\n",
       "        vertical-align: middle;\n",
       "    }\n",
       "\n",
       "    .dataframe tbody tr th {\n",
       "        vertical-align: top;\n",
       "    }\n",
       "\n",
       "    .dataframe thead th {\n",
       "        text-align: right;\n",
       "    }\n",
       "</style>\n",
       "<table border=\"1\" class=\"dataframe\">\n",
       "  <thead>\n",
       "    <tr style=\"text-align: right;\">\n",
       "      <th></th>\n",
       "      <th>True</th>\n",
       "      <th>False</th>\n",
       "    </tr>\n",
       "  </thead>\n",
       "  <tbody>\n",
       "    <tr>\n",
       "      <th>host_identity_verified</th>\n",
       "      <td>49521</td>\n",
       "      <td>24033</td>\n",
       "    </tr>\n",
       "  </tbody>\n",
       "</table>\n",
       "</div>"
      ],
      "text/plain": [
       "                         True  False\n",
       "host_identity_verified  49521  24033"
      ]
     },
     "execution_count": 271,
     "metadata": {},
     "output_type": "execute_result"
    }
   ],
   "source": [
    "result = clean_data[['host_identity_verified']].apply(pd.value_counts).fillna(0).T\n",
    "result.index=['host_identity_verified']\n",
    "result.columns=['True', 'False']\n",
    "pd.options.display.float_format = '{:,.0f}'.format\n",
    "\n",
    "# cross tabulated result\n",
    "result"
   ]
  },
  {
   "cell_type": "markdown",
   "metadata": {},
   "source": [
    "Host identity verified is a binary feature, and interestingly, it appears to have a distribution much more equal than host identity verified. It should be noted however that more than twice the number of hosts have been verified than those who have not however."
   ]
  },
  {
   "cell_type": "markdown",
   "metadata": {},
   "source": [
    "### host_response_rate"
   ]
  },
  {
   "cell_type": "code",
   "execution_count": 273,
   "metadata": {},
   "outputs": [
    {
     "data": {
      "text/plain": [
       "count   55,540.000\n",
       "mean         0.944\n",
       "std          0.163\n",
       "min          0.000\n",
       "25%          1.000\n",
       "50%          1.000\n",
       "75%          1.000\n",
       "max          1.000\n",
       "Name: host_response_rate, dtype: float64"
      ]
     },
     "execution_count": 273,
     "metadata": {},
     "output_type": "execute_result"
    }
   ],
   "source": [
    "pd.options.display.float_format = '{:,.3f}'.format\n",
    "\n",
    "clean_data.host_response_rate.describe()"
   ]
  },
  {
   "cell_type": "code",
   "execution_count": 274,
   "metadata": {},
   "outputs": [
    {
     "data": {
      "text/plain": [
       "<matplotlib.axes._subplots.AxesSubplot at 0x23b06f4c1d0>"
      ]
     },
     "execution_count": 274,
     "metadata": {},
     "output_type": "execute_result"
    },
    {
     "data": {
      "image/png": "[encoded data removed]",
      "text/plain": [
       "<Figure size 432x288 with 1 Axes>"
      ]
     },
     "metadata": {},
     "output_type": "display_data"
    }
   ],
   "source": [
    "clean_data.host_response_rate.hist(bins=20)"
   ]
  },
  {
   "cell_type": "markdown",
   "metadata": {},
   "source": [
    "It appears the response rate of airbnb hosts is heavily skewed, with most of the hosts responding 100% of the time.In fact, the mean value of host response rate is 94.4%, with a  standard deviation of 16.3%. Since the data is so skewed, it may be discovered during modeling that this feature may not provide much value for data analysis."
   ]
  },
  {
   "cell_type": "markdown",
   "metadata": {},
   "source": [
    "### instant_bookable"
   ]
  },
  {
   "cell_type": "code",
   "execution_count": 278,
   "metadata": {},
   "outputs": [
    {
     "data": {
      "text/plain": [
       "array([False,  True])"
      ]
     },
     "execution_count": 278,
     "metadata": {},
     "output_type": "execute_result"
    }
   ],
   "source": [
    "clean_data.instant_bookable.unique()"
   ]
  },
  {
   "cell_type": "code",
   "execution_count": 279,
   "metadata": {},
   "outputs": [
    {
     "data": {
      "text/html": [
       "<div>\n",
       "<style scoped>\n",
       "    .dataframe tbody tr th:only-of-type {\n",
       "        vertical-align: middle;\n",
       "    }\n",
       "\n",
       "    .dataframe tbody tr th {\n",
       "        vertical-align: top;\n",
       "    }\n",
       "\n",
       "    .dataframe thead th {\n",
       "        text-align: right;\n",
       "    }\n",
       "</style>\n",
       "<table border=\"1\" class=\"dataframe\">\n",
       "  <thead>\n",
       "    <tr style=\"text-align: right;\">\n",
       "      <th></th>\n",
       "      <th>True</th>\n",
       "      <th>False</th>\n",
       "    </tr>\n",
       "  </thead>\n",
       "  <tbody>\n",
       "    <tr>\n",
       "      <th>instant_bookable</th>\n",
       "      <td>54208</td>\n",
       "      <td>19346</td>\n",
       "    </tr>\n",
       "  </tbody>\n",
       "</table>\n",
       "</div>"
      ],
      "text/plain": [
       "                   True  False\n",
       "instant_bookable  54208  19346"
      ]
     },
     "execution_count": 279,
     "metadata": {},
     "output_type": "execute_result"
    }
   ],
   "source": [
    "result = clean_data[['instant_bookable']].apply(pd.value_counts).fillna(0).T\n",
    "result.index=['instant_bookable']\n",
    "result.columns=['True', 'False']\n",
    "pd.options.display.float_format = '{:,.0f}'.format\n",
    "\n",
    "# cross tabulated result\n",
    "result"
   ]
  },
  {
   "cell_type": "code",
   "execution_count": 280,
   "metadata": {},
   "outputs": [
    {
     "data": {
      "text/plain": [
       "<matplotlib.axes._subplots.AxesSubplot at 0x23b06f71128>"
      ]
     },
     "execution_count": 280,
     "metadata": {},
     "output_type": "execute_result"
    },
    {
     "data": {
      "image/png": "[encoded data removed]",
      "text/plain": [
       "<Figure size 432x288 with 1 Axes>"
      ]
     },
     "metadata": {},
     "output_type": "display_data"
    }
   ],
   "source": [
    "plt=result.plot.barh(title=\"Instant Bookable\")\n",
    "plt.set_xlabel(\"Instant Bookable\")\n",
    "plt.legend(loc='center left', bbox_to_anchor=(1, 0.5))\n",
    "plt"
   ]
  },
  {
   "cell_type": "markdown",
   "metadata": {},
   "source": [
    "Instant bookable is another binary data type, and it appears that about 3 times as many airbnbs are instantly bookable than those that are not."
   ]
  },
  {
   "cell_type": "markdown",
   "metadata": {},
   "source": [
    "### review_scores_rating"
   ]
  },
  {
   "cell_type": "code",
   "execution_count": 284,
   "metadata": {},
   "outputs": [
    {
     "data": {
      "text/plain": [
       "count   56,975.000\n",
       "mean        94.077\n",
       "std          7.831\n",
       "min         20.000\n",
       "25%         92.000\n",
       "50%         96.000\n",
       "75%        100.000\n",
       "max        100.000\n",
       "Name: review_scores_rating, dtype: float64"
      ]
     },
     "execution_count": 284,
     "metadata": {},
     "output_type": "execute_result"
    }
   ],
   "source": [
    "pd.options.display.float_format = '{:,.3f}'.format\n",
    "\n",
    "clean_data.review_scores_rating.describe()"
   ]
  },
  {
   "cell_type": "code",
   "execution_count": 286,
   "metadata": {},
   "outputs": [
    {
     "data": {
      "text/plain": [
       "<matplotlib.axes._subplots.AxesSubplot at 0x23b07af8438>"
      ]
     },
     "execution_count": 286,
     "metadata": {},
     "output_type": "execute_result"
    },
    {
     "data": {
      "image/png": "[encoded data removed]",
      "text/plain": [
       "<Figure size 432x288 with 1 Axes>"
      ]
     },
     "metadata": {},
     "output_type": "display_data"
    }
   ],
   "source": [
    "clean_data.review_scores_rating.hist(bins=30)"
   ]
  },
  {
   "cell_type": "markdown",
   "metadata": {},
   "source": [
    "For review score rating, it appears the the data is skewed in a way that the concentration of review scores are between 90 and 100, with the most at 100. Very few scores are below 90. Such skewed data brings up the possibility that people are just bad at reviewing their stay. In reality, reviews for airbnb should be normally distributed."
   ]
  },
  {
   "cell_type": "markdown",
   "metadata": {},
   "source": [
    "### thumbnail_url"
   ]
  },
  {
   "cell_type": "code",
   "execution_count": 287,
   "metadata": {},
   "outputs": [
    {
     "data": {
      "text/plain": [
       "array([ True, False])"
      ]
     },
     "execution_count": 287,
     "metadata": {},
     "output_type": "execute_result"
    }
   ],
   "source": [
    "clean_data.thumbnail_url.unique()"
   ]
  },
  {
   "cell_type": "code",
   "execution_count": 288,
   "metadata": {},
   "outputs": [
    {
     "data": {
      "text/html": [
       "<div>\n",
       "<style scoped>\n",
       "    .dataframe tbody tr th:only-of-type {\n",
       "        vertical-align: middle;\n",
       "    }\n",
       "\n",
       "    .dataframe tbody tr th {\n",
       "        vertical-align: top;\n",
       "    }\n",
       "\n",
       "    .dataframe thead th {\n",
       "        text-align: right;\n",
       "    }\n",
       "</style>\n",
       "<table border=\"1\" class=\"dataframe\">\n",
       "  <thead>\n",
       "    <tr style=\"text-align: right;\">\n",
       "      <th></th>\n",
       "      <th>True</th>\n",
       "      <th>False</th>\n",
       "    </tr>\n",
       "  </thead>\n",
       "  <tbody>\n",
       "    <tr>\n",
       "      <th>thumbnail_url</th>\n",
       "      <td>65418</td>\n",
       "      <td>8136</td>\n",
       "    </tr>\n",
       "  </tbody>\n",
       "</table>\n",
       "</div>"
      ],
      "text/plain": [
       "                True  False\n",
       "thumbnail_url  65418   8136"
      ]
     },
     "execution_count": 288,
     "metadata": {},
     "output_type": "execute_result"
    }
   ],
   "source": [
    "result = clean_data[['thumbnail_url']].apply(pd.value_counts).fillna(0).T\n",
    "result.index=['thumbnail_url']\n",
    "result.columns=['True', 'False']\n",
    "pd.options.display.float_format = '{:,.0f}'.format\n",
    "\n",
    "# cross tabulated result\n",
    "result"
   ]
  },
  {
   "cell_type": "code",
   "execution_count": 289,
   "metadata": {},
   "outputs": [
    {
     "data": {
      "text/plain": [
       "<matplotlib.axes._subplots.AxesSubplot at 0x23b059ede48>"
      ]
     },
     "execution_count": 289,
     "metadata": {},
     "output_type": "execute_result"
    },
    {
     "data": {
      "image/png": "[encoded data removed]",
      "text/plain": [
       "<Figure size 432x288 with 1 Axes>"
      ]
     },
     "metadata": {},
     "output_type": "display_data"
    }
   ],
   "source": [
    "plt=result.plot.barh(title=\"Instant Bookable\")\n",
    "plt.set_xlabel(\"Instant Bookable\")\n",
    "plt.legend(loc='center left', bbox_to_anchor=(1, 0.5))\n",
    "plt"
   ]
  },
  {
   "cell_type": "markdown",
   "metadata": {},
   "source": [
    "As demonstrated in the preceding table and plot, most hosts have a thumbnail url for their airbnb listing. Only about 10% of all airbnb hosts don't post a thumbnail url for their airbnb. While the data is very skewed, it may still provide valuable insight into the characteristics of particular hosts."
   ]
  },
  {
   "cell_type": "markdown",
   "metadata": {},
   "source": [
    "### zipcode"
   ]
  },
  {
   "cell_type": "code",
   "execution_count": 290,
   "metadata": {},
   "outputs": [
    {
     "data": {
      "text/plain": [
       "array(['11201', '10019', '10027', '94117', '20009', '94131', '90292',\n",
       "       '90015', '94121', '91748', '10009', '90254', '90277', '90804',\n",
       "       '60622', '02127', '10002', '11226', '91401', '11212', '11411',\n",
       "       '90046', '11374', '90028', '10016', '11225', '90036', '90291',\n",
       "       '90026', '94118', '11211', '60605', '90068', '90057', '10021',\n",
       "       '20037', '10003', '11237', '11233', '60608', '10001', '94127',\n",
       "       '91403', '11249', '10037', '10011', '10032', '91106', '94107',\n",
       "       '20018', '90027', '91601', '20001', '10022', '91201', '90013',\n",
       "       '11217', '91016', '10031', '10014', '11101', '94110', '94134',\n",
       "       '91501', '10029', '90230', '90039', '11221', '20019', '60647',\n",
       "       '20020', '11215', '10025', '10013', '10040', '91604', '10039',\n",
       "       '10038', '60614', '20002', '11222', '90042', '94114', '20008',\n",
       "       '11238', '20007', '11206', '91208', '11223', '02130', '02114',\n",
       "       '94103', '91107', '11355', '11220', '91406', '10036', '10024',\n",
       "       '90004', '10012', '10044', '10023', '10028', '20012', '91205',\n",
       "       '02132', '60611', '10473', '90019', '94133', '60639', '91423',\n",
       "       '11232', '11377', '11216', '02129', '91803', '94115', '10128',\n",
       "       '11207', '11213', '11229', '90064', '90024', '90265', '02134',\n",
       "       '10314', '02111', '10075', '91605', '91331', '02119', '91384',\n",
       "       '11385', '10282', '90405', '20010', '90717', '60601', '91505',\n",
       "       '90012', '90807', '60654', '02120', '10035', '91606', '90703',\n",
       "       '11218', '90065', '02135', '91607', '11378', '94102', '90018',\n",
       "       '02113', '90404', '11692', '90403', '90014', '11230', '90302',\n",
       "       '10065', '60610', '90212', '02215', '02108', '90025', '90038',\n",
       "       '90247', '90048', '91411', '91040', '94112', '91214', '91325',\n",
       "       '90802', '20011', '91602', '90731', '94109', '90069', '60660',\n",
       "       '91202', '11205', '10010', '11209', '02109', '91104', '90007',\n",
       "       '90029', '02110', '11105', '90272', '60642', '91741', '60613',\n",
       "       '10034', '10030', '10005', '90016', '10475', '11231', '90077',\n",
       "       '11103', '90010', '10017', '11102', '11361', '02124', '90047',\n",
       "       '90250', '60661', '90232', '91745', '60641', '94124', '20003',\n",
       "       '91335', '02116', '91343', '10455', '91306', '20017', '90505',\n",
       "       '20016', '11428', '02199', '90045', '10033', '90032', '11370',\n",
       "       '90266', '90732', '91405', '91765', '11234', '94116', '02118',\n",
       "       '91711', '60625', '20015', '90713', '10305', '11354', '90803',\n",
       "       '60657', '11204', '90056', '02152', '02121', '91001', '90814',\n",
       "       '11372', '60615', '90501', '10466', '90062', '90005', '91702',\n",
       "       '20005', '90066', '11417', '10004', '90035', '91324', '90006',\n",
       "       '91007', '10026', '90210', '90034', '11236', '90017', '90290',\n",
       "       '11412', '10006', '90401', '90020', '91364', '91775', '10468',\n",
       "       '20024', '90043', '10018', '90031', '20006', '11203', '60645',\n",
       "       '10301', '90249', '20032', '10304', '91750', '11373', '90260',\n",
       "       '91105', '91316', '90094', '94122', '94108', '10453', '02125',\n",
       "       '60618', '11106', '90402', '90041', '11104', '90660', '94123',\n",
       "       '10457', '11210', '94105', '91101', '90303', '60653', '20036',\n",
       "       '91008', '11433', '91776', '90305', '10456', '02115', '60644',\n",
       "       '90746', '02128', '11235', '11421', '10474', '90815', '90008',\n",
       "       '11367', '10452', '90211', '11419', '91724', '11379', '60607',\n",
       "       '60637', '91789', '90049', '91302', '60640', '10463', '10306',\n",
       "       '11434', '11416', '91356', '90293', '60616', '91344', '91754',\n",
       "       '90301', '10310', '90278', '90745', '11426', '11228', '60612',\n",
       "       '90275', '11208', '60606', '60646', '91732', '20743', '91311',\n",
       "       '90033', '90502', '91770', '02136', '91307', '91367', '11369',\n",
       "       '11109', '20004', '60626', '91350', '10465', '91030', '91352',\n",
       "       '91042', '91006', '90245', '99135', '11364', '11693', '91326',\n",
       "       '91203', '11418', '11691', '90808', '60621', '11435', '91381',\n",
       "       '07306', '11413', '02131', '94143', '90723', '91746', '90704',\n",
       "       '90220', '94132', '91354', '02467', '11415', '91210', '10460',\n",
       "       '90037', '91206', '60630', '02122', '10464', '90001', '90813',\n",
       "       '11224', '91010', '91801', '02145', '91301', '60659', '90248',\n",
       "       '91361', '90806', '02126', '11436', '60624', '91766', '90631',\n",
       "       '93551', '91733', '91504', '11214', '91755', '11429', '94014',\n",
       "       '60634', '11368', '11219', '91304', '90021', '10470', '10471',\n",
       "       '20712', '91780', '10469', '90503', '90011', '20057', '10462',\n",
       "       '11360', '02210', '91321', '90810', '11375', '91767', '94164',\n",
       "       '60602', '60649', '93550', '90058', '90712', '10461', '90504',\n",
       "       '10451', '60707', '91011', '11365', '10459', '91502', '11414',\n",
       "       '91790', '94158', '10007', '91791', '11356', '11422', '60609',\n",
       "       '91506', '90044', '02139', '90280', '94111', '90638', '94104',\n",
       "       '90063', '91773', '11432', '11358', '94188', '91024', '90710',\n",
       "       '90602', '60623', '91103', '90059', '90262', '91744', '02150',\n",
       "       '60619', '90071', '91303', '91355', '91402', '90095', '20064',\n",
       "       '10280', '90214', '90274', '90706', '10472', '91723', '90755',\n",
       "       '60629', '91020', '91207', '93543', '91792', '10281', '10312',\n",
       "       '91390', '60302', '90805', '10454', '20816', '60632', '91387',\n",
       "       '93535', '60651', '02445', '10458', '91768', '10119', '90603',\n",
       "       '90023', '20748', '02143', '91731', '91436', '94017', '20219',\n",
       "       '10069', '10048', '90304', '60628', '90061', '94130', '10467',\n",
       "       '90604', '91342', '11420', '90650', '91464', '93536', '11427',\n",
       "       '91204', '60636', '91108', '11580', '91706', '20782', '91362',\n",
       "       '60638', '91188', '90744', '91740', '90242', '90640', '90201',\n",
       "       '02163', '20052', '93534', '90003', '93563', '14123', '11694',\n",
       "       '90601', '92397', '91340', '60631', '60620', '10129', '91308',\n",
       "       '11366', '90255', '90716', '20268', '02446', '91722', '60656',\n",
       "       '90605', '92614', '10303', '91523', '90670', '91351', '93532',\n",
       "       '90715', '60643', '10106', '10302', '90040', '20815', '10000',\n",
       "       '94129', '02117', '93552', '10118', '90022', '90701', '90241',\n",
       "       '60652', '11004', '90840', '91345', '91522', '11120', '10550',\n",
       "       '15074', '20781', '20910', '90067', '10308', '90240', '11357',\n",
       "       '10270', '90221', '20260', '90002', '91109', '90606', '11362',\n",
       "       '02107', '92880', '91764', '60617', 'Near ', '93105', '90089',\n",
       "       '20229', '20540', '20566', '10307', '90306', '11423', '92821',\n",
       "       '90846', '90630', '11363', '20372', '90222', '60633', '95115',\n",
       "       '20912', '60805', '91786', '10279', '02138', '10704', '91802',\n",
       "       '91377', '91708', '90073', '91184', '11509', '11001', '10115',\n",
       "       '60603', '94401', '02186', '10162', '02458', '02472', '10309',\n",
       "       '11239'], dtype=object)"
      ]
     },
     "execution_count": 290,
     "metadata": {},
     "output_type": "execute_result"
    }
   ],
   "source": [
    "clean_data.zipcode.unique()"
   ]
  },
  {
   "cell_type": "code",
   "execution_count": 291,
   "metadata": {},
   "outputs": [
    {
     "data": {
      "text/html": [
       "<div>\n",
       "<style scoped>\n",
       "    .dataframe tbody tr th:only-of-type {\n",
       "        vertical-align: middle;\n",
       "    }\n",
       "\n",
       "    .dataframe tbody tr th {\n",
       "        vertical-align: top;\n",
       "    }\n",
       "\n",
       "    .dataframe thead th {\n",
       "        text-align: right;\n",
       "    }\n",
       "</style>\n",
       "<table border=\"1\" class=\"dataframe\">\n",
       "  <thead>\n",
       "    <tr style=\"text-align: right;\">\n",
       "      <th></th>\n",
       "      <th>11201</th>\n",
       "      <th>10019</th>\n",
       "      <th>10027</th>\n",
       "      <th>94117</th>\n",
       "      <th>20009</th>\n",
       "      <th>94131</th>\n",
       "      <th>90292</th>\n",
       "      <th>90015</th>\n",
       "      <th>94121</th>\n",
       "      <th>91748</th>\n",
       "      <th>...</th>\n",
       "      <th>11001</th>\n",
       "      <th>10115</th>\n",
       "      <th>60603</th>\n",
       "      <th>94401</th>\n",
       "      <th>02186</th>\n",
       "      <th>10162</th>\n",
       "      <th>02458</th>\n",
       "      <th>02472</th>\n",
       "      <th>10309</th>\n",
       "      <th>11239</th>\n",
       "    </tr>\n",
       "  </thead>\n",
       "  <tbody>\n",
       "    <tr>\n",
       "      <th>zipcode</th>\n",
       "      <td>1635</td>\n",
       "      <td>1277</td>\n",
       "      <td>1203</td>\n",
       "      <td>1019</td>\n",
       "      <td>989</td>\n",
       "      <td>985</td>\n",
       "      <td>960</td>\n",
       "      <td>960</td>\n",
       "      <td>929</td>\n",
       "      <td>921</td>\n",
       "      <td>...</td>\n",
       "      <td>1</td>\n",
       "      <td>1</td>\n",
       "      <td>1</td>\n",
       "      <td>1</td>\n",
       "      <td>1</td>\n",
       "      <td>1</td>\n",
       "      <td>1</td>\n",
       "      <td>1</td>\n",
       "      <td>1</td>\n",
       "      <td>1</td>\n",
       "    </tr>\n",
       "  </tbody>\n",
       "</table>\n",
       "<p>1 rows × 673 columns</p>\n",
       "</div>"
      ],
      "text/plain": [
       "         11201  10019  10027  94117  20009  94131  90292  90015  94121  91748  \\\n",
       "zipcode   1635   1277   1203   1019    989    985    960    960    929    921   \n",
       "\n",
       "         ...    11001  10115  60603  94401  02186  10162  02458  02472  10309  \\\n",
       "zipcode  ...        1      1      1      1      1      1      1      1      1   \n",
       "\n",
       "         11239  \n",
       "zipcode      1  \n",
       "\n",
       "[1 rows x 673 columns]"
      ]
     },
     "execution_count": 291,
     "metadata": {},
     "output_type": "execute_result"
    }
   ],
   "source": [
    "result = clean_data[['zipcode']].apply(pd.value_counts).fillna(0).T\n",
    "result.index=['zipcode']\n",
    "result.columns=['11201', '10019', '10027', '94117', '20009', '94131', '90292',\n",
    "       '90015', '94121', '91748', '10009', '90254', '90277', '90804',\n",
    "       '60622', '02127', '10002', '11226', '91401', '11212', '11411',\n",
    "       '90046', '11374', '90028', '10016', '11225', '90036', '90291',\n",
    "       '90026', '94118', '11211', '60605', '90068', '90057', '10021',\n",
    "       '20037', '10003', '11237', '11233', '60608', '10001', '94127',\n",
    "       '91403', '11249', '10037', '10011', '10032', '91106', '94107',\n",
    "       '20018', '90027', '91601', '20001', '10022', '91201', '90013',\n",
    "       '11217', '91016', '10031', '10014', '11101', '94110', '94134',\n",
    "       '91501', '10029', '90230', '90039', '11221', '20019', '60647',\n",
    "       '20020', '11215', '10025', '10013', '10040', '91604', '10039',\n",
    "       '10038', '60614', '20002', '11222', '90042', '94114', '20008',\n",
    "       '11238', '20007', '11206', '91208', '11223', '02130', '02114',\n",
    "       '94103', '91107', '11355', '11220', '91406', '10036', '10024',\n",
    "       '90004', '10012', '10044', '10023', '10028', '20012', '91205',\n",
    "       '02132', '60611', '10473', '90019', '94133', '60639', '91423',\n",
    "       '11232', '11377', '11216', '02129', '91803', '94115', '10128',\n",
    "       '11207', '11213', '11229', '90064', '90024', '90265', '02134',\n",
    "       '10314', '02111', '10075', '91605', '91331', '02119', '91384',\n",
    "       '11385', '10282', '90405', '20010', '90717', '60601', '91505',\n",
    "       '90012', '90807', '60654', '02120', '10035', '91606', '90703',\n",
    "       '11218', '90065', '02135', '91607', '11378', '94102', '90018',\n",
    "       '02113', '90404', '11692', '90403', '90014', '11230', '90302',\n",
    "       '10065', '60610', '90212', '02215', '02108', '90025', '90038',\n",
    "       '90247', '90048', '91411', '91040', '94112', '91214', '91325',\n",
    "       '90802', '20011', '91602', '90731', '94109', '90069', '60660',\n",
    "       '91202', '11205', '10010', '11209', '02109', '91104', '90007',\n",
    "       '90029', '02110', '11105', '90272', '60642', '91741', '60613',\n",
    "       '10034', '10030', '10005', '90016', '10475', '11231', '90077',\n",
    "       '11103', '90010', '10017', '11102', '11361', '02124', '90047',\n",
    "       '90250', '60661', '90232', '91745', '60641', '94124', '20003',\n",
    "       '91335', '02116', '91343', '10455', '91306', '20017', '90505',\n",
    "       '20016', '11428', '02199', '90045', '10033', '90032', '11370',\n",
    "       '90266', '90732', '91405', '91765', '11234', '94116', '02118',\n",
    "       '91711', '60625', '20015', '90713', '10305', '11354', '90803',\n",
    "       '60657', '11204', '90056', '02152', '02121', '91001', '90814',\n",
    "       '11372', '60615', '90501', '10466', '90062', '90005', '91702',\n",
    "       '20005', '90066', '11417', '10004', '90035', '91324', '90006',\n",
    "       '91007', '10026', '90210', '90034', '11236', '90017', '90290',\n",
    "       '11412', '10006', '90401', '90020', '91364', '91775', '10468',\n",
    "       '20024', '90043', '10018', '90031', '20006', '11203', '60645',\n",
    "       '10301', '90249', '20032', '10304', '91750', '11373', '90260',\n",
    "       '91105', '91316', '90094', '94122', '94108', '10453', '02125',\n",
    "       '60618', '11106', '90402', '90041', '11104', '90660', '94123',\n",
    "       '10457', '11210', '94105', '91101', '90303', '60653', '20036',\n",
    "       '91008', '11433', '91776', '90305', '10456', '02115', '60644',\n",
    "       '90746', '02128', '11235', '11421', '10474', '90815', '90008',\n",
    "       '11367', '10452', '90211', '11419', '91724', '11379', '60607',\n",
    "       '60637', '91789', '90049', '91302', '60640', '10463', '10306',\n",
    "       '11434', '11416', '91356', '90293', '60616', '91344', '91754',\n",
    "       '90301', '10310', '90278', '90745', '11426', '11228', '60612',\n",
    "       '90275', '11208', '60606', '60646', '91732', '20743', '91311',\n",
    "       '90033', '90502', '91770', '02136', '91307', '91367', '11369',\n",
    "       '11109', '20004', '60626', '91350', '10465', '91030', '91352',\n",
    "       '91042', '91006', '90245', '99135', '11364', '11693', '91326',\n",
    "       '91203', '11418', '11691', '90808', '60621', '11435', '91381',\n",
    "       '07306', '11413', '02131', '94143', '90723', '91746', '90704',\n",
    "       '90220', '94132', '91354', '02467', '11415', '91210', '10460',\n",
    "       '90037', '91206', '60630', '02122', '10464', '90001', '90813',\n",
    "       '11224', '91010', '91801', '02145', '91301', '60659', '90248',\n",
    "       '91361', '90806', '02126', '11436', '60624', '91766', '90631',\n",
    "       '93551', '91733', '91504', '11214', '91755', '11429', '94014',\n",
    "       '60634', '11368', '11219', '91304', '90021', '10470', '10471',\n",
    "       '20712', '91780', '10469', '90503', '90011', '20057', '10462',\n",
    "       '11360', '02210', '91321', '90810', '11375', '91767', '94164',\n",
    "       '60602', '60649', '93550', '90058', '90712', '10461', '90504',\n",
    "       '10451', '60707', '91011', '11365', '10459', '91502', '11414',\n",
    "       '91790', '94158', '10007', '91791', '11356', '11422', '60609',\n",
    "       '91506', '90044', '02139', '90280', '94111', '90638', '94104',\n",
    "       '90063', '91773', '11432', '11358', '94188', '91024', '90710',\n",
    "       '90602', '60623', '91103', '90059', '90262', '91744', '02150',\n",
    "       '60619', '90071', '91303', '91355', '91402', '90095', '20064',\n",
    "       '10280', '90214', '90274', '90706', '10472', '91723', '90755',\n",
    "       '60629', '91020', '91207', '93543', '91792', '10281', '10312',\n",
    "       '91390', '60302', '90805', '10454', '20816', '60632', '91387',\n",
    "       '93535', '60651', '02445', '10458', '91768', '10119', '90603',\n",
    "       '90023', '20748', '02143', '91731', '91436', '94017', '20219',\n",
    "       '10069', '10048', '90304', '60628', '90061', '94130', '10467',\n",
    "       '90604', '91342', '11420', '90650', '91464', '93536', '11427',\n",
    "       '91204', '60636', '91108', '11580', '91706', '20782', '91362',\n",
    "       '60638', '91188', '90744', '91740', '90242', '90640', '90201',\n",
    "       '02163', '20052', '93534', '90003', '93563', '14123', '11694',\n",
    "       '90601', '92397', '91340', '60631', '60620', '10129', '91308',\n",
    "       '11366', '90255', '90716', '20268', '02446', '91722', '60656',\n",
    "       '90605', '92614', '10303', '91523', '90670', '91351', '93532',\n",
    "       '90715', '60643', '10106', '10302', '90040', '20815', '10000',\n",
    "       '94129', '02117', '93552', '10118', '90022', '90701', '90241',\n",
    "       '60652', '11004', '90840', '91345', '91522', '11120', '10550',\n",
    "       '15074', '20781', '20910', '90067', '10308', '90240', '11357',\n",
    "       '10270', '90221', '20260', '90002', '91109', '90606', '11362',\n",
    "       '02107', '92880', '91764', '60617', 'Near ', '93105', '90089',\n",
    "       '20229', '20540', '20566', '10307', '90306', '11423', '92821',\n",
    "       '90846', '90630', '11363', '20372', '90222', '60633', '95115',\n",
    "       '20912', '60805', '91786', '10279', '02138', '10704', '91802',\n",
    "       '91377', '91708', '90073', '91184', '11509', '11001', '10115',\n",
    "       '60603', '94401', '02186', '10162', '02458', '02472', '10309',\n",
    "       '11239']\n",
    "pd.options.display.float_format = '{:,.0f}'.format\n",
    "\n",
    "# cross tabulated result\n",
    "result"
   ]
  },
  {
   "cell_type": "code",
   "execution_count": 294,
   "metadata": {
    "scrolled": false
   },
   "outputs": [
    {
     "data": {
      "text/plain": [
       "<matplotlib.axes._subplots.AxesSubplot at 0x23b0378fe10>"
      ]
     },
     "execution_count": 294,
     "metadata": {},
     "output_type": "execute_result"
    },
    {
     "data": {
      "image/png": "[encoded data removed]",
      "text/plain": [
       "<Figure size 432x288 with 1 Axes>"
      ]
     },
     "metadata": {},
     "output_type": "display_data"
    }
   ],
   "source": [
    "plt=result.plot.barh(title=\"Zipcode\", legend=False)\n",
    "plt.set_xlabel(\"Zipcode\")\n",
    "plt"
   ]
  },
  {
   "cell_type": "markdown",
   "metadata": {},
   "source": [
    " ### bedrooms"
   ]
  },
  {
   "cell_type": "code",
   "execution_count": 296,
   "metadata": {},
   "outputs": [
    {
     "data": {
      "text/plain": [
       "count   73,554.000\n",
       "mean         1.267\n",
       "std          0.854\n",
       "min          0.000\n",
       "25%          1.000\n",
       "50%          1.000\n",
       "75%          1.000\n",
       "max         10.000\n",
       "Name: bedrooms, dtype: float64"
      ]
     },
     "execution_count": 296,
     "metadata": {},
     "output_type": "execute_result"
    }
   ],
   "source": [
    "pd.options.display.float_format = '{:,.3f}'.format\n",
    "\n",
    "clean_data.bedrooms.describe()"
   ]
  },
  {
   "cell_type": "code",
   "execution_count": 301,
   "metadata": {},
   "outputs": [
    {
     "data": {
      "text/plain": [
       "<matplotlib.axes._subplots.AxesSubplot at 0x23b0de33748>"
      ]
     },
     "execution_count": 301,
     "metadata": {},
     "output_type": "execute_result"
    },
    {
     "data": {
      "image/png": "[encoded data removed]",
      "text/plain": [
       "<Figure size 432x288 with 1 Axes>"
      ]
     },
     "metadata": {},
     "output_type": "display_data"
    }
   ],
   "source": [
    "clean_data.bedrooms.hist(bins=10)"
   ]
  },
  {
   "cell_type": "markdown",
   "metadata": {},
   "source": [
    "### beds"
   ]
  },
  {
   "cell_type": "code",
   "execution_count": 302,
   "metadata": {},
   "outputs": [
    {
     "data": {
      "text/plain": [
       "count   73,554.000\n",
       "mean         1.713\n",
       "std          1.256\n",
       "min          0.000\n",
       "25%          1.000\n",
       "50%          1.000\n",
       "75%          2.000\n",
       "max         18.000\n",
       "Name: beds, dtype: float64"
      ]
     },
     "execution_count": 302,
     "metadata": {},
     "output_type": "execute_result"
    }
   ],
   "source": [
    "pd.options.display.float_format = '{:,.3f}'.format\n",
    "\n",
    "clean_data.beds.describe()"
   ]
  },
  {
   "cell_type": "code",
   "execution_count": 304,
   "metadata": {},
   "outputs": [
    {
     "data": {
      "text/plain": [
       "<matplotlib.axes._subplots.AxesSubplot at 0x23b728b1ba8>"
      ]
     },
     "execution_count": 304,
     "metadata": {},
     "output_type": "execute_result"
    },
    {
     "data": {
      "image/png": "[encoded data removed]",
      "text/plain": [
       "<Figure size 432x288 with 1 Axes>"
      ]
     },
     "metadata": {},
     "output_type": "display_data"
    }
   ],
   "source": [
    "clean_data.beds.hist(bins=15)"
   ]
  },
  {
   "cell_type": "markdown",
   "metadata": {},
   "source": [
    "### amenities_count"
   ]
  },
  {
   "cell_type": "code",
   "execution_count": 305,
   "metadata": {},
   "outputs": [
    {
     "data": {
      "text/plain": [
       "count   73,554.000\n",
       "mean        17.635\n",
       "std          6.922\n",
       "min          1.000\n",
       "25%         13.000\n",
       "50%         17.000\n",
       "75%         22.000\n",
       "max         86.000\n",
       "Name: amenities_count, dtype: float64"
      ]
     },
     "execution_count": 305,
     "metadata": {},
     "output_type": "execute_result"
    }
   ],
   "source": [
    "pd.options.display.float_format = '{:,.3f}'.format\n",
    "\n",
    "clean_data.amenities_count.describe()"
   ]
  },
  {
   "cell_type": "code",
   "execution_count": 309,
   "metadata": {},
   "outputs": [
    {
     "data": {
      "text/plain": [
       "<matplotlib.axes._subplots.AxesSubplot at 0x23b07375550>"
      ]
     },
     "execution_count": 309,
     "metadata": {},
     "output_type": "execute_result"
    },
    {
     "data": {
      "image/png": "[encoded data removed]",
      "text/plain": [
       "<Figure size 432x288 with 1 Axes>"
      ]
     },
     "metadata": {},
     "output_type": "display_data"
    }
   ],
   "source": [
    "clean_data.amenities_count.hist(bins=20)"
   ]
  },
  {
   "cell_type": "markdown",
   "metadata": {},
   "source": [
    "### description_length"
   ]
  },
  {
   "cell_type": "code",
   "execution_count": 310,
   "metadata": {},
   "outputs": [
    {
     "data": {
      "text/plain": [
       "count   73,554.000\n",
       "mean       762.780\n",
       "std        316.960\n",
       "min          1.000\n",
       "25%        482.000\n",
       "50%      1,000.000\n",
       "75%      1,000.000\n",
       "max      1,000.000\n",
       "Name: description_length, dtype: float64"
      ]
     },
     "execution_count": 310,
     "metadata": {},
     "output_type": "execute_result"
    }
   ],
   "source": [
    "pd.options.display.float_format = '{:,.3f}'.format\n",
    "\n",
    "clean_data.description_length.describe()"
   ]
  },
  {
   "cell_type": "code",
   "execution_count": 315,
   "metadata": {},
   "outputs": [
    {
     "data": {
      "text/plain": [
       "<matplotlib.axes._subplots.AxesSubplot at 0x23b09448080>"
      ]
     },
     "execution_count": 315,
     "metadata": {},
     "output_type": "execute_result"
    },
    {
     "data": {
      "image/png": "[encoded data removed]",
      "text/plain": [
       "<Figure size 432x288 with 1 Axes>"
      ]
     },
     "metadata": {},
     "output_type": "display_data"
    }
   ],
   "source": [
    "clean_data.description_length.hist(bins=50)"
   ]
  },
  {
   "cell_type": "markdown",
   "metadata": {},
   "source": [
    "### days_hosted"
   ]
  },
  {
   "cell_type": "code",
   "execution_count": 316,
   "metadata": {},
   "outputs": [
    {
     "data": {
      "text/plain": [
       "count   73,554.000\n",
       "mean     1,561.904\n",
       "std        659.311\n",
       "min        394.000\n",
       "25%      1,045.000\n",
       "50%      1,493.000\n",
       "75%      2,016.000\n",
       "max      3,896.000\n",
       "Name: days_hosted, dtype: float64"
      ]
     },
     "execution_count": 316,
     "metadata": {},
     "output_type": "execute_result"
    }
   ],
   "source": [
    "pd.options.display.float_format = '{:,.3f}'.format\n",
    "\n",
    "clean_data.days_hosted.describe()"
   ]
  },
  {
   "cell_type": "code",
   "execution_count": 325,
   "metadata": {},
   "outputs": [
    {
     "data": {
      "text/plain": [
       "<matplotlib.axes._subplots.AxesSubplot at 0x23b09b21e48>"
      ]
     },
     "execution_count": 325,
     "metadata": {},
     "output_type": "execute_result"
    },
    {
     "data": {
      "image/png": "[encoded data removed]",
      "text/plain": [
       "<Figure size 432x288 with 1 Axes>"
      ]
     },
     "metadata": {},
     "output_type": "display_data"
    }
   ],
   "source": [
    "clean_data.days_hosted.hist(bins=30)"
   ]
  },
  {
   "cell_type": "markdown",
   "metadata": {},
   "source": [
    "# Data Modeling and Prediction"
   ]
  },
  {
   "cell_type": "markdown",
   "metadata": {},
   "source": [
    "<i>development of a predictive model, regression or\n",
    "classification. Your model development should include experimentation with feature\n",
    "selection and hyperparameters. The effect of different features on your target variable, as\n",
    "well as associations between features should be identified. You should appropriately use\n",
    "train, validation, and test data when evaluating your models.</i>"
   ]
  },
  {
   "cell_type": "markdown",
   "metadata": {},
   "source": [
    "# Results Analysis"
   ]
  },
  {
   "cell_type": "markdown",
   "metadata": {},
   "source": [
    "<i>Summary of your interpretation of the results. Are the results\n",
    "statistically significant? I.e., did you prove or disprove your hypothesis. How could you\n",
    "improve your analysis? Lessons learned, and feedback on the assignment.</i>"
   ]
  }
 ],
 "metadata": {
  "kernelspec": {
   "display_name": "Python 3",
   "language": "python",
   "name": "python3"
  },
  "language_info": {
   "codemirror_mode": {
    "name": "ipython",
    "version": 3
   },
   "file_extension": ".py",
   "mimetype": "text/x-python",
   "name": "python",
   "nbconvert_exporter": "python",
   "pygments_lexer": "ipython3",
   "version": "3.6.5"
  }
 },
 "nbformat": 4,
 "nbformat_minor": 2
}
