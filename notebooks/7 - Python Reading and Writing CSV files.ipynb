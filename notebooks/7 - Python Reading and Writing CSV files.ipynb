{
 "cells": [
  {
   "cell_type": "markdown",
   "metadata": {},
   "source": [
    "### Python Reading and Writing CSV files\n",
    "\n",
    "Jay Urbain, PhD\n",
    "\n",
    "6/26/2018\n"
   ]
  },
  {
   "cell_type": "markdown",
   "metadata": {},
   "source": [
    "Import the datafile mpg.csv, which contains fuel economy data for 234 cars.\n",
    "\n",
    "* mpg : miles per gallon\n",
    "* class : car classification\n",
    "* cty : city mpg\n",
    "* cyl : # of cylinders\n",
    "* displ : engine displacement in liters\n",
    "* drv : f = front-wheel drive, r = rear wheel drive, 4 = 4wd\n",
    "* fl : fuel (e = ethanol E85, d = diesel, r = regular, p = premium, c = CNG)\n",
    "* hwy : highway mpg\n",
    "* manufacturer : automobile manufacturer\n",
    "* model : model of car\n",
    "* trans : type of transmission\n",
    "* year : model year"
   ]
  },
  {
   "cell_type": "code",
   "execution_count": 1,
   "metadata": {
    "scrolled": true
   },
   "outputs": [
    {
     "data": {
      "text/plain": [
       "[OrderedDict([('', '1'),\n",
       "              ('manufacturer', 'audi'),\n",
       "              ('model', 'a4'),\n",
       "              ('displ', '1.8'),\n",
       "              ('year', '1999'),\n",
       "              ('cyl', '4'),\n",
       "              ('trans', 'auto(l5)'),\n",
       "              ('drv', 'f'),\n",
       "              ('cty', '18'),\n",
       "              ('hwy', '29'),\n",
       "              ('fl', 'p'),\n",
       "              ('class', 'compact')]),\n",
       " OrderedDict([('', '2'),\n",
       "              ('manufacturer', 'audi'),\n",
       "              ('model', 'a4'),\n",
       "              ('displ', '1.8'),\n",
       "              ('year', '1999'),\n",
       "              ('cyl', '4'),\n",
       "              ('trans', 'manual(m5)'),\n",
       "              ('drv', 'f'),\n",
       "              ('cty', '21'),\n",
       "              ('hwy', '29'),\n",
       "              ('fl', 'p'),\n",
       "              ('class', 'compact')]),\n",
       " OrderedDict([('', '3'),\n",
       "              ('manufacturer', 'audi'),\n",
       "              ('model', 'a4'),\n",
       "              ('displ', '2'),\n",
       "              ('year', '2008'),\n",
       "              ('cyl', '4'),\n",
       "              ('trans', 'manual(m6)'),\n",
       "              ('drv', 'f'),\n",
       "              ('cty', '20'),\n",
       "              ('hwy', '31'),\n",
       "              ('fl', 'p'),\n",
       "              ('class', 'compact')])]"
      ]
     },
     "execution_count": 1,
     "metadata": {},
     "output_type": "execute_result"
    }
   ],
   "source": [
    "import csv\n",
    "\n",
    "%precision 2\n",
    "\n",
    "with open('data/mpg.csv') as csvfile:\n",
    "    mpg = list(csv.DictReader(csvfile))\n",
    "    \n",
    "mpg[:3] # The first three dictionaries in our list."
   ]
  },
  {
   "cell_type": "markdown",
   "metadata": {},
   "source": [
    "<br>\n",
    "`csv.Dictreader` has read in each row of the csv file as a dictionary. `len` shows that our list is comprised of 234 dictionaries."
   ]
  },
  {
   "cell_type": "code",
   "execution_count": 2,
   "metadata": {},
   "outputs": [
    {
     "data": {
      "text/plain": [
       "234"
      ]
     },
     "execution_count": 2,
     "metadata": {},
     "output_type": "execute_result"
    }
   ],
   "source": [
    "len(mpg)"
   ]
  },
  {
   "cell_type": "markdown",
   "metadata": {},
   "source": [
    "<br>\n",
    "`keys` gives us the column names of our csv."
   ]
  },
  {
   "cell_type": "code",
   "execution_count": 3,
   "metadata": {},
   "outputs": [
    {
     "data": {
      "text/plain": [
       "odict_keys(['', 'manufacturer', 'model', 'displ', 'year', 'cyl', 'trans', 'drv', 'cty', 'hwy', 'fl', 'class'])"
      ]
     },
     "execution_count": 3,
     "metadata": {},
     "output_type": "execute_result"
    }
   ],
   "source": [
    "mpg[0].keys()"
   ]
  },
  {
   "cell_type": "markdown",
   "metadata": {},
   "source": [
    "Find the average cty fuel economy across all cars. All values in the dictionaries are strings, so we need to convert to float."
   ]
  },
  {
   "cell_type": "code",
   "execution_count": 4,
   "metadata": {},
   "outputs": [
    {
     "data": {
      "text/plain": [
       "[18.00,\n",
       " 21.00,\n",
       " 20.00,\n",
       " 21.00,\n",
       " 16.00,\n",
       " 18.00,\n",
       " 18.00,\n",
       " 18.00,\n",
       " 16.00,\n",
       " 20.00,\n",
       " 19.00,\n",
       " 15.00,\n",
       " 17.00,\n",
       " 17.00,\n",
       " 15.00,\n",
       " 15.00,\n",
       " 17.00,\n",
       " 16.00,\n",
       " 14.00,\n",
       " 11.00,\n",
       " 14.00,\n",
       " 13.00,\n",
       " 12.00,\n",
       " 16.00,\n",
       " 15.00,\n",
       " 16.00,\n",
       " 15.00,\n",
       " 15.00,\n",
       " 14.00,\n",
       " 11.00,\n",
       " 11.00,\n",
       " 14.00,\n",
       " 19.00,\n",
       " 22.00,\n",
       " 18.00,\n",
       " 18.00,\n",
       " 17.00,\n",
       " 18.00,\n",
       " 17.00,\n",
       " 16.00,\n",
       " 16.00,\n",
       " 17.00,\n",
       " 17.00,\n",
       " 11.00,\n",
       " 15.00,\n",
       " 15.00,\n",
       " 16.00,\n",
       " 16.00,\n",
       " 15.00,\n",
       " 14.00,\n",
       " 13.00,\n",
       " 14.00,\n",
       " 14.00,\n",
       " 14.00,\n",
       " 9.00,\n",
       " 11.00,\n",
       " 11.00,\n",
       " 13.00,\n",
       " 13.00,\n",
       " 9.00,\n",
       " 13.00,\n",
       " 11.00,\n",
       " 13.00,\n",
       " 11.00,\n",
       " 12.00,\n",
       " 9.00,\n",
       " 13.00,\n",
       " 13.00,\n",
       " 12.00,\n",
       " 9.00,\n",
       " 11.00,\n",
       " 11.00,\n",
       " 13.00,\n",
       " 11.00,\n",
       " 11.00,\n",
       " 11.00,\n",
       " 12.00,\n",
       " 14.00,\n",
       " 15.00,\n",
       " 14.00,\n",
       " 13.00,\n",
       " 13.00,\n",
       " 13.00,\n",
       " 14.00,\n",
       " 14.00,\n",
       " 13.00,\n",
       " 13.00,\n",
       " 13.00,\n",
       " 11.00,\n",
       " 13.00,\n",
       " 18.00,\n",
       " 18.00,\n",
       " 17.00,\n",
       " 16.00,\n",
       " 15.00,\n",
       " 15.00,\n",
       " 15.00,\n",
       " 15.00,\n",
       " 14.00,\n",
       " 28.00,\n",
       " 24.00,\n",
       " 25.00,\n",
       " 23.00,\n",
       " 24.00,\n",
       " 26.00,\n",
       " 25.00,\n",
       " 24.00,\n",
       " 21.00,\n",
       " 18.00,\n",
       " 18.00,\n",
       " 21.00,\n",
       " 21.00,\n",
       " 18.00,\n",
       " 18.00,\n",
       " 19.00,\n",
       " 19.00,\n",
       " 19.00,\n",
       " 20.00,\n",
       " 20.00,\n",
       " 17.00,\n",
       " 16.00,\n",
       " 17.00,\n",
       " 17.00,\n",
       " 15.00,\n",
       " 15.00,\n",
       " 14.00,\n",
       " 9.00,\n",
       " 14.00,\n",
       " 13.00,\n",
       " 11.00,\n",
       " 11.00,\n",
       " 12.00,\n",
       " 12.00,\n",
       " 11.00,\n",
       " 11.00,\n",
       " 11.00,\n",
       " 12.00,\n",
       " 14.00,\n",
       " 13.00,\n",
       " 13.00,\n",
       " 13.00,\n",
       " 21.00,\n",
       " 19.00,\n",
       " 23.00,\n",
       " 23.00,\n",
       " 19.00,\n",
       " 19.00,\n",
       " 18.00,\n",
       " 19.00,\n",
       " 19.00,\n",
       " 14.00,\n",
       " 15.00,\n",
       " 14.00,\n",
       " 12.00,\n",
       " 18.00,\n",
       " 16.00,\n",
       " 17.00,\n",
       " 18.00,\n",
       " 16.00,\n",
       " 18.00,\n",
       " 18.00,\n",
       " 20.00,\n",
       " 19.00,\n",
       " 20.00,\n",
       " 18.00,\n",
       " 21.00,\n",
       " 19.00,\n",
       " 19.00,\n",
       " 19.00,\n",
       " 20.00,\n",
       " 20.00,\n",
       " 19.00,\n",
       " 20.00,\n",
       " 15.00,\n",
       " 16.00,\n",
       " 15.00,\n",
       " 15.00,\n",
       " 16.00,\n",
       " 14.00,\n",
       " 21.00,\n",
       " 21.00,\n",
       " 21.00,\n",
       " 21.00,\n",
       " 18.00,\n",
       " 18.00,\n",
       " 19.00,\n",
       " 21.00,\n",
       " 21.00,\n",
       " 21.00,\n",
       " 22.00,\n",
       " 18.00,\n",
       " 18.00,\n",
       " 18.00,\n",
       " 24.00,\n",
       " 24.00,\n",
       " 26.00,\n",
       " 28.00,\n",
       " 26.00,\n",
       " 11.00,\n",
       " 13.00,\n",
       " 15.00,\n",
       " 16.00,\n",
       " 17.00,\n",
       " 15.00,\n",
       " 15.00,\n",
       " 15.00,\n",
       " 16.00,\n",
       " 21.00,\n",
       " 19.00,\n",
       " 21.00,\n",
       " 22.00,\n",
       " 17.00,\n",
       " 33.00,\n",
       " 21.00,\n",
       " 19.00,\n",
       " 22.00,\n",
       " 21.00,\n",
       " 21.00,\n",
       " 21.00,\n",
       " 16.00,\n",
       " 17.00,\n",
       " 35.00,\n",
       " 29.00,\n",
       " 21.00,\n",
       " 19.00,\n",
       " 20.00,\n",
       " 20.00,\n",
       " 21.00,\n",
       " 18.00,\n",
       " 19.00,\n",
       " 21.00,\n",
       " 16.00,\n",
       " 18.00,\n",
       " 17.00]"
      ]
     },
     "execution_count": 4,
     "metadata": {},
     "output_type": "execute_result"
    }
   ],
   "source": [
    "[float(d['cty']) for d in mpg]"
   ]
  },
  {
   "cell_type": "code",
   "execution_count": 5,
   "metadata": {},
   "outputs": [
    {
     "data": {
      "text/plain": [
       "16.86"
      ]
     },
     "execution_count": 5,
     "metadata": {},
     "output_type": "execute_result"
    }
   ],
   "source": [
    "sum(float(d['cty']) for d in mpg) / len(mpg)"
   ]
  },
  {
   "cell_type": "markdown",
   "metadata": {},
   "source": [
    "Find the average hwy fuel economy across all cars."
   ]
  },
  {
   "cell_type": "code",
   "execution_count": 6,
   "metadata": {},
   "outputs": [
    {
     "data": {
      "text/plain": [
       "23.44"
      ]
     },
     "execution_count": 6,
     "metadata": {},
     "output_type": "execute_result"
    }
   ],
   "source": [
    "sum(float(d['hwy']) for d in mpg) / len(mpg)"
   ]
  },
  {
   "cell_type": "markdown",
   "metadata": {},
   "source": [
    "<br>\n",
    "Use `set` to return the unique values for the number of cylinders the cars in our dataset have."
   ]
  },
  {
   "cell_type": "code",
   "execution_count": 7,
   "metadata": {},
   "outputs": [
    {
     "data": {
      "text/plain": [
       "{'4', '5', '6', '8'}"
      ]
     },
     "execution_count": 7,
     "metadata": {},
     "output_type": "execute_result"
    }
   ],
   "source": [
    "cylinders = set(d['cyl'] for d in mpg)\n",
    "cylinders"
   ]
  },
  {
   "cell_type": "raw",
   "metadata": {},
   "source": [
    "Group the cars by number of cylinder, and finding the average cty mpg for each group."
   ]
  },
  {
   "cell_type": "code",
   "execution_count": 8,
   "metadata": {},
   "outputs": [
    {
     "data": {
      "text/plain": [
       "[('4', 21.01), ('5', 20.50), ('6', 16.22), ('8', 12.57)]"
      ]
     },
     "execution_count": 8,
     "metadata": {},
     "output_type": "execute_result"
    }
   ],
   "source": [
    "CtyMpgByCyl = []\n",
    "\n",
    "for c in cylinders: # iterate over all the cylinder levels\n",
    "    summpg = 0\n",
    "    cyltypecount = 0\n",
    "    for d in mpg: # iterate over all dictionaries\n",
    "        if d['cyl'] == c: # if the cylinder level type matches,\n",
    "            summpg += float(d['cty']) # add the cty mpg\n",
    "            cyltypecount += 1 # increment the count\n",
    "    CtyMpgByCyl.append((c, summpg / cyltypecount)) # append the tuple ('cylinder', 'avg mpg')\n",
    "\n",
    "CtyMpgByCyl.sort(key=lambda x: x[0])\n",
    "CtyMpgByCyl"
   ]
  },
  {
   "cell_type": "markdown",
   "metadata": {},
   "source": [
    "<br>\n",
    "Use `set` to return the unique values for the class types in our dataset."
   ]
  },
  {
   "cell_type": "code",
   "execution_count": 9,
   "metadata": {},
   "outputs": [
    {
     "data": {
      "text/plain": [
       "{'2seater', 'compact', 'midsize', 'minivan', 'pickup', 'subcompact', 'suv'}"
      ]
     },
     "execution_count": 9,
     "metadata": {},
     "output_type": "execute_result"
    }
   ],
   "source": [
    "vehicleclass = set(d['class'] for d in mpg) # what are the class types\n",
    "vehicleclass"
   ]
  },
  {
   "cell_type": "markdown",
   "metadata": {},
   "source": [
    "Find the average hwy mpg for each class of vehicle in our dataset."
   ]
  },
  {
   "cell_type": "code",
   "execution_count": 10,
   "metadata": {},
   "outputs": [
    {
     "data": {
      "text/plain": [
       "[('pickup', 16.88),\n",
       " ('suv', 18.13),\n",
       " ('minivan', 22.36),\n",
       " ('2seater', 24.80),\n",
       " ('midsize', 27.29),\n",
       " ('subcompact', 28.14),\n",
       " ('compact', 28.30)]"
      ]
     },
     "execution_count": 10,
     "metadata": {},
     "output_type": "execute_result"
    }
   ],
   "source": [
    "HwyMpgByClass = []\n",
    "\n",
    "for t in vehicleclass: # iterate over all the vehicle classes\n",
    "    summpg = 0\n",
    "    vclasscount = 0\n",
    "    for d in mpg: # iterate over all dictionaries\n",
    "        if d['class'] == t: # if the cylinder amount type matches,\n",
    "            summpg += float(d['hwy']) # add the hwy mpg\n",
    "            vclasscount += 1 # increment the count\n",
    "    HwyMpgByClass.append((t, summpg / vclasscount)) # append the tuple ('class', 'avg mpg')\n",
    "\n",
    "HwyMpgByClass.sort(key=lambda x: x[1])\n",
    "HwyMpgByClass"
   ]
  }
 ],
 "metadata": {
  "kernelspec": {
   "display_name": "Python 3",
   "language": "python",
   "name": "python3"
  },
  "language_info": {
   "codemirror_mode": {
    "name": "ipython",
    "version": 3
   },
   "file_extension": ".py",
   "mimetype": "text/x-python",
   "name": "python",
   "nbconvert_exporter": "python",
   "pygments_lexer": "ipython3",
   "version": "3.6.5"
  }
 },
 "nbformat": 4,
 "nbformat_minor": 1
}
